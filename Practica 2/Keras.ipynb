{
  "nbformat": 4,
  "nbformat_minor": 0,
  "metadata": {
    "accelerator": "GPU",
    "colab": {
      "name": "Cifar.ipynb",
      "provenance": [],
      "collapsed_sections": [],
      "toc_visible": true,
      "machine_shape": "hm",
      "include_colab_link": true
    },
    "kernelspec": {
      "name": "python3",
      "display_name": "Python 3"
    },
    "toc": {
      "base_numbering": 1,
      "nav_menu": {},
      "number_sections": true,
      "sideBar": true,
      "skip_h1_title": false,
      "title_cell": "Table of Contents",
      "title_sidebar": "Contents",
      "toc_cell": false,
      "toc_position": {
        "height": "802px",
        "left": "1210px",
        "top": "113px",
        "width": "316px"
      },
      "toc_section_display": true,
      "toc_window_display": true
    }
  },
  "cells": [
    {
      "cell_type": "markdown",
      "metadata": {
        "id": "view-in-github",
        "colab_type": "text"
      },
      "source": [
        "<a href=\"https://colab.research.google.com/github/Ludvins/VC/blob/master/Practica%202/Keras.ipynb\" target=\"_parent\"><img src=\"https://colab.research.google.com/assets/colab-badge.svg\" alt=\"Open In Colab\"/></a>"
      ]
    },
    {
      "cell_type": "markdown",
      "metadata": {
        "colab_type": "text",
        "id": "CHnD8CrauI0A"
      },
      "source": [
        "## Imports"
      ]
    },
    {
      "cell_type": "code",
      "metadata": {
        "colab_type": "code",
        "id": "jwH9nSY5uI0D",
        "colab": {}
      },
      "source": [
        "import numpy as np\n",
        "import keras\n",
        "import matplotlib.pyplot as plt\n",
        "import keras.utils as np_utils\n",
        "# Import optimizer\n",
        "from keras.optimizers import SGD\n",
        "# Import data\n",
        "from keras.datasets import cifar100\n",
        "# Import models and layers\n",
        "from keras.models import Sequential, Model\n",
        "from keras.layers import Dense, Dropout, Flatten\n",
        "from keras.layers import Conv2D, MaxPooling2D, Activation, BatchNormalization, Conv1D\n",
        "# Import image proprocessors\n",
        "from keras.preprocessing.image import ImageDataGenerator, img_to_array, load_img\n",
        "# Import Resnet\n",
        "from keras.applications.resnet50 import ResNet50, preprocess_input\n",
        "# Import Early Stopping\n",
        "from keras.callbacks import EarlyStopping\n",
        "# Show no TensorFlow deprecation warnings\n",
        "import tensorflow.compat.v1 as tf\n",
        "tf.logging.set_verbosity(tf.logging.ERROR)"
      ],
      "execution_count": 0,
      "outputs": []
    },
    {
      "cell_type": "code",
      "metadata": {
        "colab_type": "code",
        "id": "tSVPlqvPa3nb",
        "colab": {}
      },
      "source": [
        "# Drive mount\n",
        "path = \"/content/drive/My Drive/VC/\"\n",
        "from google.colab import drive\n",
        "drive.mount('/content/drive', force_remount=True)"
      ],
      "execution_count": 0,
      "outputs": []
    },
    {
      "cell_type": "code",
      "metadata": {
        "id": "3SFJqWHorWHP",
        "colab_type": "code",
        "colab": {}
      },
      "source": [
        "def prepare_files():\n",
        "  !rm -rf \"/content/drive/My Drive/VC/images\"\n",
        "  !rm -rf \"/content/drive/My Drive/VC/lists\"\n",
        "  !unzip -q \"/content/drive/My Drive/VC/Caltech\" -d \"/content/drive/My Drive/VC\""
      ],
      "execution_count": 0,
      "outputs": []
    },
    {
      "cell_type": "code",
      "metadata": {
        "id": "dKOCBXczrWLu",
        "colab_type": "code",
        "colab": {}
      },
      "source": [
        "prepare_files()"
      ],
      "execution_count": 0,
      "outputs": []
    },
    {
      "cell_type": "markdown",
      "metadata": {
        "colab_type": "text",
        "id": "MfYoiSUHuI0P"
      },
      "source": [
        "## Auxiliar functions"
      ]
    },
    {
      "cell_type": "markdown",
      "metadata": {
        "id": "S2-xzwaXSJV0",
        "colab_type": "text"
      },
      "source": [
        "Loads Cifar data."
      ]
    },
    {
      "cell_type": "code",
      "metadata": {
        "colab_type": "code",
        "id": "yLYMUmozuI09",
        "colab": {}
      },
      "source": [
        "def load_cifar_data():\n",
        "    # Load Data\n",
        "    (x_train, y_train), (x_test, y_test) = cifar100.load_data(label_mode='fine')\n",
        "\n",
        "    # Transform to float and normalize\n",
        "    x_train = x_train.astype('float32')\n",
        "    x_test = x_test.astype('float32')\n",
        "    x_train /= 255\n",
        "    x_test /= 255\n",
        "    \n",
        "    # We will use only 25 classes.\n",
        "    train_idx = np.isin(y_train, np.arange(25))\n",
        "    train_idx = np.reshape(train_idx, -1)\n",
        "    x_train = x_train[train_idx]\n",
        "    y_train = y_train[train_idx]\n",
        "    test_idx = np.isin(y_test, np.arange(25))\n",
        "    test_idx = np.reshape(test_idx, -1)\n",
        "    x_test = x_test[test_idx]\n",
        "    y_test = y_test[test_idx]\n",
        "    \n",
        "    # Set labels to cathegorical\n",
        "    y_train = np_utils.to_categorical(y_train, 25)\n",
        "    y_test = np_utils.to_categorical(y_test, 25)\n",
        "    \n",
        "    return x_train, y_train, x_test, y_test"
      ],
      "execution_count": 0,
      "outputs": []
    },
    {
      "cell_type": "markdown",
      "metadata": {
        "id": "wfJ0wZTKM38y",
        "colab_type": "text"
      },
      "source": [
        "Returns images and classes in `relative_path`.\n",
        "\n",
        "\n",
        "\n",
        "\n",
        "\n"
      ]
    },
    {
      "cell_type": "code",
      "metadata": {
        "id": "5GpXf5XzJINp",
        "colab_type": "code",
        "colab": {}
      },
      "source": [
        "def read_img (relative_path):\n",
        "    classes = np.array([im.split('/')[0] for im in relative_path])\n",
        "    vim = np.array([img_to_array(load_img(path + \"images/\"+ im, target_size = (224,224,3))) \n",
        "                    for im in relative_path])\n",
        "\n",
        "    return vim, classes"
      ],
      "execution_count": 0,
      "outputs": []
    },
    {
      "cell_type": "markdown",
      "metadata": {
        "id": "bH6p-wxoJmvk",
        "colab_type": "text"
      },
      "source": [
        "Reads `Caltech` data in `x_train`, `y_train`, `x_test` y `y_test`"
      ]
    },
    {
      "cell_type": "code",
      "metadata": {
        "colab_type": "code",
        "id": "gzvGRshwJEW8",
        "colab": {}
      },
      "source": [
        "def load_caltech_data():\n",
        "\n",
        "    # Load files with paths\n",
        "    train_path = np.loadtxt(path + \"lists/train.txt\", dtype = str)\n",
        "    test_path = np.loadtxt(path + \"lists/test.txt\", dtype = str)\n",
        "\n",
        "    # Read imgs\n",
        "    print(\"Loading data...\")\n",
        "    x_train, y_train = read_img(train_path)\n",
        "    x_test, y_test = read_img(test_path)\n",
        "    print(\"Data loaded.\")\n",
        "\n",
        "    # Set classes to numerical\n",
        "    unique_classes = np.unique(np.copy(y_train))\n",
        "    for i in range(len(unique_classes)):\n",
        "      y_train[y_train == unique_classes[i]] = i\n",
        "      y_test[y_test == unique_classes[i]] = i\n",
        "\n",
        "    # Set classes to categorical\n",
        "    y_train = np_utils.to_categorical(y_train, 200)\n",
        "    y_test = np_utils.to_categorical(y_test, 200)\n",
        "\n",
        "    # Shuffle data\n",
        "    x_train_perm = np.random.permutation(len(x_train))\n",
        "    x_train = x_train[x_train_perm]\n",
        "    y_train = y_train[x_train_perm]\n",
        "\n",
        "    x_test_perm = np.random.permutation(len(x_test))\n",
        "    x_test = x_test[x_test_perm]\n",
        "    y_test = y_test[x_test_perm]\n",
        "\n",
        "    return x_train, y_train, x_test, y_test"
      ],
      "execution_count": 0,
      "outputs": []
    },
    {
      "cell_type": "code",
      "metadata": {
        "id": "kpyNLhUf2wei",
        "colab_type": "code",
        "colab": {}
      },
      "source": [
        "def load_preprocessed_caltech_data():\n",
        "  x_train, y_train, x_test, y_test = load_caltech_data()\n",
        "  return preprocess_input(x_train), y_train, preprocess_input(x_test), y_test"
      ],
      "execution_count": 0,
      "outputs": []
    },
    {
      "cell_type": "markdown",
      "metadata": {
        "colab_type": "text",
        "id": "eNSgIJ74uI0y"
      },
      "source": [
        "Draws two graphics.\n",
        "+ Loss function evolution.\n",
        "+ Accuracy function evolution.\n",
        "\n",
        "Args:\n",
        "+ ```hist```: Training records"
      ]
    },
    {
      "cell_type": "code",
      "metadata": {
        "colab_type": "code",
        "id": "WcGNHonluI00",
        "colab": {}
      },
      "source": [
        "def show_evolution(hist):\n",
        "    loss = hist.history['loss']\n",
        "    val_loss = hist.history['val_loss']\n",
        "    plt.plot(loss)\n",
        "    plt.plot(val_loss)\n",
        "    plt.legend(['Training loss', 'Validation loss'])\n",
        "    plt.show()\n",
        "    \n",
        "    acc = hist.history['acc']\n",
        "    val_acc = hist.history['val_acc']\n",
        "    plt.plot(acc)\n",
        "    plt.plot(val_acc)\n",
        "    plt.legend(['Training accuracy', 'Validation accuracy'])\n",
        "    plt.show()"
      ],
      "execution_count": 0,
      "outputs": []
    },
    {
      "cell_type": "markdown",
      "metadata": {
        "id": "w_2aBudzEHcV",
        "colab_type": "text"
      },
      "source": [
        "Draws the same graphics as ```show_evolution``` but using a list of records ```hist```."
      ]
    },
    {
      "cell_type": "code",
      "metadata": {
        "colab_type": "code",
        "id": "0j1qXmeOXejh",
        "colab": {}
      },
      "source": [
        "def compare_evolution(hist, names):\n",
        "\n",
        "    for i in hist:\n",
        "        val_loss = i.history['val_loss']\n",
        "        plt.plot(val_loss)\n",
        "\n",
        "    plt.legend([\"Validation loss \" + names[i] for i in range(len(hist))])\n",
        "    plt.show()\n",
        "\n",
        "    for i in hist:\n",
        "        val_acc = i.history['val_acc']\n",
        "        plt.plot(val_acc)\n",
        "\n",
        "    plt.legend([\"Validation accuracy \" + names[i] for i in range(len(hist))])\n",
        "    plt.show()"
      ],
      "execution_count": 0,
      "outputs": []
    },
    {
      "cell_type": "markdown",
      "metadata": {
        "colab_type": "text",
        "id": "lZ3shUL8uI08"
      },
      "source": [
        "## Data generators"
      ]
    },
    {
      "cell_type": "code",
      "metadata": {
        "id": "7OrRjGEBBB3L",
        "colab_type": "code",
        "colab": {}
      },
      "source": [
        "def sample_data_generator():\n",
        "  return ImageDataGenerator(\n",
        "      featurewise_center = True,             # set input mean to 0 over the dataset\n",
        "      samplewise_center = False,             # set each sample mean to 0\n",
        "      featurewise_std_normalization = True,  # divide inputs by std of the dataset\n",
        "      samplewise_std_normalization = False,  # divide each input by its std\n",
        "      zca_whitening = False,                 # apply ZCA whitening\n",
        "      zca_epsilon = 1e-06,                   # epsilon for ZCA whitening\n",
        "      rotation_range = 0,                    # randomly rotate images in the range (degrees, 0 to 180)\n",
        "      width_shift_range = 0.1,               # randomly shift images horizontally (fraction of total width)\n",
        "      height_shift_range = 0.1,              # randomly shift images vertically (fraction of total height)\n",
        "      shear_range = 0.,                      # set range for random shear\n",
        "      zoom_range = 0.,                       # set range for random zoom\n",
        "      channel_shift_range = 0.,              # set range for random channel shifts\n",
        "      fill_mode = 'nearest',                 # set mode for filling points outside the input boundaries\n",
        "      cval = 0.,                             # value used for fill_mode = \"constant\"\n",
        "      horizontal_flip = True,                # randomly flip images\n",
        "      vertical_flip = False,                 # randomly flip images\n",
        "      rescale = None,                        # set rescaling factor (applied before any other transformation)\n",
        "      preprocessing_function = None,         # set function that will be applied on each input\n",
        "      data_format = None,                    # image data format, either \"channels_first\" or \"channels_last\"\n",
        "      validation_split = 0.1)                # fraction of images reserved for validation (strictly between 0 and 1)"
      ],
      "execution_count": 0,
      "outputs": []
    },
    {
      "cell_type": "code",
      "metadata": {
        "id": "fZI0_qbR3W7Q",
        "colab_type": "code",
        "colab": {}
      },
      "source": [
        "def train_data_generator():\n",
        "    return ImageDataGenerator(\n",
        "        validation_split = 0.1)"
      ],
      "execution_count": 0,
      "outputs": []
    },
    {
      "cell_type": "code",
      "metadata": {
        "id": "LB9666zoA27s",
        "colab_type": "code",
        "colab": {}
      },
      "source": [
        "def test_data_generator():\n",
        "    return ImageDataGenerator()"
      ],
      "execution_count": 0,
      "outputs": []
    },
    {
      "cell_type": "code",
      "metadata": {
        "id": "CTm31FEXCJja",
        "colab_type": "code",
        "colab": {}
      },
      "source": [
        "def train_data_generator_with_whitening():\n",
        "  return ImageDataGenerator(\n",
        "      featurewise_center = True,             \n",
        "      zca_whitening = True,                 \n",
        "      horizontal_flip = True,             \n",
        "      validation_split = 0.1)                "
      ],
      "execution_count": 0,
      "outputs": []
    },
    {
      "cell_type": "code",
      "metadata": {
        "id": "j99kYqNeA6QW",
        "colab_type": "code",
        "colab": {}
      },
      "source": [
        "def test_data_generator_with_whitening():\n",
        "  return ImageDataGenerator(\n",
        "      featurewise_center = True,             \n",
        "      zca_whitening = True)   "
      ],
      "execution_count": 0,
      "outputs": []
    },
    {
      "cell_type": "code",
      "metadata": {
        "id": "Ub5Kfmxm3L4j",
        "colab_type": "code",
        "colab": {}
      },
      "source": [
        "def train_data_generator_without_whitening():\n",
        "  return ImageDataGenerator(\n",
        "      featurewise_center = True,             \n",
        "      featurewise_std_normalization = True, \n",
        "      width_shift_range = 0.1,               \n",
        "      height_shift_range = 0.1,              \n",
        "      horizontal_flip = True,               \n",
        "      validation_split = 0.1)              "
      ],
      "execution_count": 0,
      "outputs": []
    },
    {
      "cell_type": "code",
      "metadata": {
        "id": "Gdd_8k9bBVqK",
        "colab_type": "code",
        "colab": {}
      },
      "source": [
        "def test_data_generator_without_whitening():\n",
        "  return ImageDataGenerator(\n",
        "      featurewise_center = True,             \n",
        "      featurewise_std_normalization = True)  "
      ],
      "execution_count": 0,
      "outputs": []
    },
    {
      "cell_type": "markdown",
      "metadata": {
        "colab_type": "text",
        "id": "iOBt6EoTuI1D"
      },
      "source": [
        "## Model definitions"
      ]
    },
    {
      "cell_type": "code",
      "metadata": {
        "colab_type": "code",
        "id": "sHgIRJ8_uI1F",
        "colab": {}
      },
      "source": [
        "def simple_base_net_model():\n",
        "    model = Sequential()\n",
        "    model.name = \"Modelo BaseNet\"\n",
        "    model.add(Conv2D(6, kernel_size=(5, 5),\n",
        "                     activation='relu',\n",
        "                     input_shape=(32,32,3)))\n",
        "    model.add(MaxPooling2D(pool_size=(2, 2)))\n",
        "    model.add(Conv2D(16, kernel_size=(5,5), \n",
        "                    activation='relu'))\n",
        "    model.add(MaxPooling2D(pool_size=(2,2)))\n",
        "    model.add(Flatten())\n",
        "    model.add(Dense(50, activation='relu'))\n",
        "    model.add(Dense(25, activation='softmax'))\n",
        "    \n",
        "    return model"
      ],
      "execution_count": 0,
      "outputs": []
    },
    {
      "cell_type": "code",
      "metadata": {
        "colab_type": "code",
        "id": "t6uh69G0uI1M",
        "colab": {}
      },
      "source": [
        "def complex_base_net_model_no_norm():\n",
        "    model = Sequential()\n",
        "    model.name = \"Modelo BaseNet sin BatchNormalization\"\n",
        "    model.add(Conv2D(32, (3, 3), padding='same', activation = 'relu', input_shape=(32,32,3)))\n",
        "    model.add(Conv2D(32, (3, 3), activation='relu'))\n",
        "    model.add(MaxPooling2D(pool_size=(2, 2)))\n",
        "    model.add(Dropout(0.25))\n",
        "\n",
        "    model.add(Conv2D(64, (3, 3), padding='same', activation='relu'))\n",
        "    model.add(Conv2D(64, (3, 3), activation='relu'))\n",
        "    model.add(MaxPooling2D(pool_size=(2, 2)))\n",
        "    model.add(Dropout(0.25))\n",
        "\n",
        "    model.add(Flatten())\n",
        "    model.add(Dense(512, activation='relu'))\n",
        "    model.add(Dropout(0.5))\n",
        "    model.add(Dense(25, activation='softmax'))\n",
        "\n",
        "    return model"
      ],
      "execution_count": 0,
      "outputs": []
    },
    {
      "cell_type": "code",
      "metadata": {
        "id": "NDhCVcLuG_6r",
        "colab_type": "code",
        "colab": {}
      },
      "source": [
        "def complex_base_net_model_norm_after_relu():\n",
        "    model = Sequential()\n",
        "    model.name = \"Modelo BaseNet con BatchNormalization despues de Activacion\"\n",
        "    model.add(Conv2D(32, (3, 3), padding='same', activation = 'relu', input_shape=(32,32,3)))\n",
        "    model.add(BatchNormalization())\n",
        "    model.add(Conv2D(32, (3, 3), activation='relu'))\n",
        "    model.add(BatchNormalization())\n",
        "    model.add(MaxPooling2D(pool_size=(2, 2)))\n",
        "    model.add(Dropout(0.25))\n",
        "\n",
        "    model.add(Conv2D(64, (3, 3), padding='same', activation='relu'))\n",
        "    model.add(BatchNormalization())\n",
        "    model.add(Conv2D(64, (3, 3), activation='relu'))\n",
        "    model.add(BatchNormalization())\n",
        "    model.add(MaxPooling2D(pool_size=(2, 2)))\n",
        "    model.add(Dropout(0.25))\n",
        "\n",
        "    model.add(Flatten())\n",
        "    model.add(Dense(512, activation='relu'))\n",
        "    model.add(Dropout(0.5))\n",
        "    model.add(Dense(25, activation='softmax'))\n",
        "\n",
        "    return model"
      ],
      "execution_count": 0,
      "outputs": []
    },
    {
      "cell_type": "code",
      "metadata": {
        "id": "dRl3OWmPHCl6",
        "colab_type": "code",
        "colab": {}
      },
      "source": [
        "def complex_base_net_model_norm_before_relu():\n",
        "    model = Sequential()\n",
        "    model.name = \"Modelo BaseNet con BatchNormalization antes de Activacion\"\n",
        "    model.add(Conv2D(32, (3, 3), padding='same', input_shape=(32,32,3)))\n",
        "    model.add(BatchNormalization())\n",
        "    model.add(Activation('relu'))\n",
        "    model.add(Conv2D(32, (3, 3)))\n",
        "    model.add(BatchNormalization())\n",
        "    model.add(Activation('relu'))\n",
        "    model.add(MaxPooling2D(pool_size=(2, 2)))\n",
        "    model.add(Dropout(0.25))\n",
        "\n",
        "    model.add(Conv2D(64, (3, 3), padding='same'))\n",
        "    model.add(BatchNormalization())\n",
        "    model.add(Activation('relu'))\n",
        "    model.add(Conv2D(64, (3, 3)))\n",
        "    model.add(BatchNormalization())\n",
        "    model.add(Activation('relu'))\n",
        "    model.add(MaxPooling2D(pool_size=(2, 2)))\n",
        "    model.add(Dropout(0.25))\n",
        "\n",
        "    model.add(Flatten())\n",
        "    model.add(Dense(512))\n",
        "    model.add(Activation('relu'))\n",
        "    model.add(Dropout(0.5))\n",
        "    model.add(Dense(25, activation='softmax'))\n",
        "\n",
        "    return model"
      ],
      "execution_count": 0,
      "outputs": []
    },
    {
      "cell_type": "code",
      "metadata": {
        "id": "CTp1tbLKTLMu",
        "colab_type": "code",
        "colab": {}
      },
      "source": [
        "def basic_resnet(freeze = True):\n",
        "      base_model = ResNet50(weights='imagenet', include_top=False, pooling=\"avg\", input_shape=(224,224,3))\n",
        "      if (freeze):\n",
        "        for layer in base_model.layers:\n",
        "          layer.trainable = False\n",
        "\n",
        "      model = Sequential()\n",
        "      model.name = \"ResNet Original\"\n",
        "      model.add(base_model)\n",
        "      model.add(Dense(200,\n",
        "                    activation = 'softmax'))\n",
        "      \n",
        "      return model"
      ],
      "execution_count": 0,
      "outputs": []
    },
    {
      "cell_type": "code",
      "metadata": {
        "id": "Kk4hy9MaSEms",
        "colab_type": "code",
        "colab": {}
      },
      "source": [
        "def modified_resnet_model(freeze = True):\n",
        "\n",
        "    base_model = ResNet50(weights='imagenet', include_top=False, pooling=\"avg\", input_shape=(224,224,3))\n",
        "    if (freeze):\n",
        "      for layer in base_model.layers:\n",
        "        layer.trainable = False\n",
        "\n",
        "    model = Sequential()\n",
        "    model.name = \"ResNet Modificado\"\n",
        "    model.add(base_model)\n",
        "    model.add(Dense(1024, activation='relu'))\n",
        "    model.add(Dense(200,\n",
        "                    activation = 'softmax'))\n",
        "\n",
        "    return model"
      ],
      "execution_count": 0,
      "outputs": []
    },
    {
      "cell_type": "code",
      "metadata": {
        "id": "Hsar0RiS_G_e",
        "colab_type": "code",
        "colab": {}
      },
      "source": [
        "def modified_resnet_model2(freeze = True):\n",
        "\n",
        "    base_model = ResNet50(weights='imagenet', include_top=False, pooling=\"avg\", input_shape=(224,224,3))\n",
        "    if (freeze):\n",
        "      for layer in base_model.layers:\n",
        "        layer.trainable = False\n",
        "\n",
        "    model = Sequential()\n",
        "    model.name = \"ResNet Modificado\"\n",
        "    model.add(base_model)\n",
        "    model.add(Dense(1024, activation='relu'))\n",
        "    model.add(Dropout(0.60))\n",
        "    model.add(Dense(200,\n",
        "                    activation = 'softmax'))\n",
        "\n",
        "    return model"
      ],
      "execution_count": 0,
      "outputs": []
    },
    {
      "cell_type": "code",
      "metadata": {
        "id": "oSaRzesH5eKP",
        "colab_type": "code",
        "colab": {}
      },
      "source": [
        "def modified_resnet_model_output_input():\n",
        "      resnet50 = ResNet50(weights='imagenet', include_top=False, pooling=\"avg\", input_shape=(224,224,3))\n",
        "\n",
        "      x = resnet50.output\n",
        "      x = Dense(1024, activation='relu')(x)\n",
        "      last = Dense(200, activation='softmax')(x)\n",
        "      model = Model(inputs=resnet50.input, output = last)\n",
        "      \n",
        "      return model"
      ],
      "execution_count": 0,
      "outputs": []
    },
    {
      "cell_type": "markdown",
      "metadata": {
        "colab_type": "text",
        "id": "hYpZHlMKuI1P"
      },
      "source": [
        "## Train function"
      ]
    },
    {
      "cell_type": "code",
      "metadata": {
        "id": "Nz4y5Qei7j5d",
        "colab_type": "code",
        "colab": {}
      },
      "source": [
        "def train_and_evaluate(model, train_data_generator, test_data_generator, load_data_function, batch_size, epochs, verbose):\n",
        "\n",
        "    if (verbose != 0):\n",
        "      print(\" - ENTRENAMIENTO - \")\n",
        "\n",
        "    model.compile(\n",
        "        loss = keras.losses.categorical_crossentropy,\n",
        "        optimizer = SGD(lr = 0.01, decay = 1e-6, momentum = 0.9, nesterov = True),\n",
        "        metrics = ['accuracy']\n",
        "    )\n",
        "\n",
        "    x_train, y_train, x_test, y_test = load_data_function()\n",
        "    train_iterator = train_data_generator()\n",
        "    test_iterator = test_data_generator()\n",
        "    train_iterator.fit(x_train)\n",
        "    #datagen.standardize(x_test)  https://github.com/keras-team/keras/issues/2559\n",
        "    test_iterator.fit(x_train)\n",
        "\n",
        "    h = model.fit_generator(\n",
        "                generator = train_iterator.flow(x_train, y_train, batch_size, subset='training'),\n",
        "                steps_per_epoch = len(x_train)*0.9/batch_size,\n",
        "                epochs = epochs,\n",
        "                validation_data = train_iterator.flow(x_train, y_train, batch_size, subset='validation'),\n",
        "                validation_steps = len(x_train)*0.1/batch_size,\n",
        "                verbose = verbose,\n",
        "                callbacks = [EarlyStopping(monitor = 'val_acc', patience = 10, restore_best_weights = True)]\n",
        "                )\n",
        "    if (verbose != 0):\n",
        "      print(\" - RESULTADOS - \")\n",
        "\n",
        "    score = model.evaluate_generator(\n",
        "        generator = test_iterator.flow(x_test, y_test, 1),\n",
        "        verbose = verbose\n",
        "        )\n",
        "    print('PÉRDIDA: ', score[0])\n",
        "    print('PRECISIÓN: ', score[1])\n",
        "    return h"
      ],
      "execution_count": 0,
      "outputs": []
    },
    {
      "cell_type": "markdown",
      "metadata": {
        "colab_type": "text",
        "id": "Zh19Sc9auI1V"
      },
      "source": [
        "# Main functions"
      ]
    },
    {
      "cell_type": "code",
      "metadata": {
        "id": "W98rZUeCCNiG",
        "colab_type": "code",
        "colab": {}
      },
      "source": [
        "print(\"--- APARTADO 1. ---\")\n",
        "m = simple_base_net_model()\n",
        "m.summary()\n",
        "h = train_and_evaluate(m, train_data_generator, test_data_generator, 32, load_cifar_data, 20, 1)\n",
        "print(\" - GRÁFICAS - \")\n",
        "show_evolution(h)"
      ],
      "execution_count": 0,
      "outputs": []
    },
    {
      "cell_type": "code",
      "metadata": {
        "id": "vD6wAxngCW54",
        "colab_type": "code",
        "colab": {}
      },
      "source": [
        "print(\"--- COMPARACIÓN DE GENERADORES ---\")\n",
        "print(\" - RESULTADOS SIN WHITENING - \")\n",
        "h2 = train_and_evaluate(simple_base_net_model(), train_data_generator_without_whitening, test_data_generator_without_whitening, 32, load_cifar_data, 20, 0)\n",
        "print(\" - RESULTADOS CON WHITENING - \")\n",
        "h3 = train_and_evaluate(simple_base_net_model(), train_data_generator_with_whitening, test_data_generator_with_whitening, 32, load_cifar_data, 20, 0)\n",
        "print(\" - GRÁFICAS COMPARATIVAS -\")\n",
        "compare_evolution([h, h2, h3], [\"Básico\", \"Complejo no Whitening\", \"Complejo Withening\"])"
      ],
      "execution_count": 0,
      "outputs": []
    },
    {
      "cell_type": "code",
      "metadata": {
        "id": "jdTJp0lcHNCh",
        "colab_type": "code",
        "colab": {},
        "cellView": "form"
      },
      "source": [
        "#@title\n",
        "print(\" --- BASENET MODIFICADO SIN BATCHNORMALIZATION ---\")\n",
        "m3 = complex_base_net_model_no_norm()\n",
        "m3.summary()\n",
        "h3 = train_and_evaluate(m3, complex_data_generator, 32)\n",
        "print(\" - GRÁFICAS DE RESULTADOS - \")\n",
        "show_evolution(h3)"
      ],
      "execution_count": 0,
      "outputs": []
    },
    {
      "cell_type": "code",
      "metadata": {
        "id": "wghImTXjHWYa",
        "colab_type": "code",
        "colab": {}
      },
      "source": [
        "print(\" --- BASENET MODIFICADO CON BATCHNORMALIZATION ANTES VS DESPUES --- \")\n",
        "print(\" -- BATCHNORMALIZATION ANTES -- \")\n",
        "m3 = complex_base_net_model_norm_before_relu()\n",
        "h3 = train_and_evaluate(m3, complex_data_generator, 32, verbose = 0)\n",
        "print(\" - GRÁFICAS RESULTADOS - \")\n",
        "show_evolution(h3)\n",
        "\n",
        "print(\" -- BATCHNORMALIZATION DESPUÉS -- \")\n",
        "m4 = complex_base_net_model_norm_after_relu()\n",
        "h4 = train_and_evaluate(m4, complex_data_generator, 32, verbose = 0)\n",
        "print(\" - GRÁFICAS RESULTADOS - \")\n",
        "show_evolution(h4)\n",
        "\n",
        "print(\" - GRÁFICAS CONJUNTAS - \")\n",
        "compare_evolution([h3, h4], [\"Antes\", \"Despues\"])"
      ],
      "execution_count": 0,
      "outputs": []
    },
    {
      "cell_type": "code",
      "metadata": {
        "id": "w2l2IvOzCjys",
        "colab_type": "code",
        "colab": {}
      },
      "source": [
        "print(\" -- BATCHNORMALIZATION DESPUÉS Y WHITENING -- \")\n",
        "m = complex_base_net_model_norm_after_relu()\n",
        "h = train_and_evaluate(m, data_generator_with_whitening, 32, verbose = 1)\n",
        "print(\" - GRÁFICAS RESULTADOS - \")\n",
        "show_evolution(h)"
      ],
      "execution_count": 0,
      "outputs": []
    },
    {
      "cell_type": "code",
      "metadata": {
        "id": "hZtq5MptWuiu",
        "colab_type": "code",
        "colab": {}
      },
      "source": [
        "print(\" --- RESNET SIN MODIFICAR --- \")\n",
        "m5 = basic_resnet(True)\n",
        "m5.summary()\n",
        "h5 = train_and_evaluate(m5, basic_data_generator, 32, load_preprocessed_caltech_data, epochs = 10, verbose = 1)\n",
        "print(\" - GRÁFICAS - \")\n",
        "show_evolution(h5)"
      ],
      "execution_count": 0,
      "outputs": []
    },
    {
      "cell_type": "code",
      "metadata": {
        "id": "zpDAUI7NTstf",
        "colab_type": "code",
        "colab": {}
      },
      "source": [
        "print(\" --- RESNET MODIFICADO PRIMERAS CAPAS CONGELADAS ----\")\n",
        "m6 = modified_resnet_model()\n",
        "m6.summary()\n",
        "h6 = train_and_evaluate(m6, basic_data_generator, 32, load_preprocessed_caltech_data, epochs = 20, verbose = 1)\n",
        "print(\" - GRÁFICAS - \")\n",
        "show_evolution(h6)"
      ],
      "execution_count": 0,
      "outputs": []
    },
    {
      "cell_type": "code",
      "metadata": {
        "id": "WrvjTasrMm4h",
        "colab_type": "code",
        "colab": {}
      },
      "source": [
        "print(\" --- RESNET MODIFICADO SIN CONGELAR --- \")\n",
        "m = modified_resnet_model(freeze = False)\n",
        "m.summary()\n",
        "h = train_and_evaluate(m, basic_data_generator, 32, load_preprocessed_caltech_data, epochs = 10, verbose = 1)\n",
        "print(\" - GRÁFICAS - \")\n",
        "show_evolution(h)"
      ],
      "execution_count": 0,
      "outputs": []
    },
    {
      "cell_type": "code",
      "metadata": {
        "id": "YMlnPNug7EKl",
        "colab_type": "code",
        "colab": {}
      },
      "source": [
        "print(\" --- RESNET MODIFICADO SIN CONGELAR UTILIZANDO OUTPUT-INPUT --- \")\n",
        "m = modified_resnet_model_output_input()\n",
        "#m.summary()\n",
        "h = train_and_evaluate(m, basic_data_generator, 32, load_preprocessed_caltech_data, epochs = 10, verbose = 1)\n",
        "print(\" - GRÁFICAS - \")\n",
        "show_evolution(h)"
      ],
      "execution_count": 0,
      "outputs": []
    },
    {
      "cell_type": "code",
      "metadata": {
        "id": "Nh26-Itj_iOd",
        "colab_type": "code",
        "colab": {}
      },
      "source": [
        "print(\" --- RESNET MODIFICADO SIN CONGELAR MODELO 2 --- \")\n",
        "m = modified_resnet_model2()\n",
        "#m.summary()\n",
        "h = train_and_evaluate(m, basic_data_generator, 32, load_preprocessed_caltech_data, epochs = 10, verbose = 1)\n",
        "print(\" - GRÁFICAS - \")\n",
        "show_evolution(h)"
      ],
      "execution_count": 0,
      "outputs": []
    }
  ]
}