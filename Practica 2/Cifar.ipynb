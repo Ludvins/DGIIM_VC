{
  "nbformat": 4,
  "nbformat_minor": 0,
  "metadata": {
    "kernelspec": {
      "display_name": "py_36_env",
      "language": "python",
      "name": "py_36_env"
    },
    "language_info": {
      "codemirror_mode": {
        "name": "ipython",
        "version": 3
      },
      "file_extension": ".py",
      "mimetype": "text/x-python",
      "name": "python",
      "nbconvert_exporter": "python",
      "pygments_lexer": "ipython3",
      "version": "3.6.9"
    },
    "toc": {
      "base_numbering": 1,
      "nav_menu": {},
      "number_sections": true,
      "sideBar": true,
      "skip_h1_title": false,
      "title_cell": "Table of Contents",
      "title_sidebar": "Contents",
      "toc_cell": false,
      "toc_position": {
        "height": "802px",
        "left": "1210px",
        "top": "113px",
        "width": "316px"
      },
      "toc_section_display": true,
      "toc_window_display": true
    },
    "colab": {
      "name": "Cifar.ipynb",
      "provenance": []
    },
    "accelerator": "GPU"
  },
  "cells": [
    {
      "cell_type": "markdown",
      "metadata": {
        "id": "CHnD8CrauI0A",
        "colab_type": "text"
      },
      "source": [
        "## Imports"
      ]
    },
    {
      "cell_type": "code",
      "metadata": {
        "id": "jwH9nSY5uI0D",
        "colab_type": "code",
        "colab": {}
      },
      "source": [
        "import numpy as np\n",
        "import keras\n",
        "import matplotlib.pyplot as plt\n",
        "import keras.utils as np_utils\n",
        "# Import optimizer\n",
        "from keras.optimizers import SGD\n",
        "# Import data\n",
        "from keras.datasets import cifar100\n",
        "# Import models and layers\n",
        "from keras.models import Sequential\n",
        "from keras.layers import Dense, Dropout, Flatten\n",
        "from keras.layers import Conv2D, MaxPooling2D, Activation\n",
        "\n",
        "import tensorflow.compat.v1 as tf\n",
        "tf.disable_v2_behavior()\n"
      ],
      "execution_count": 0,
      "outputs": []
    },
    {
      "cell_type": "markdown",
      "metadata": {
        "id": "MfYoiSUHuI0P",
        "colab_type": "text"
      },
      "source": [
        "## Auxiliar functions"
      ]
    },
    {
      "cell_type": "markdown",
      "metadata": {
        "id": "NaHdC-hQuI0R",
        "colab_type": "text"
      },
      "source": [
        "Configures the model.\n",
        "Args:\n",
        "+ ```optimizer:``` Optimizer function.\n",
        "+ ```loss:``` Loss function.\n",
        "+ ```metrics:``` Metric function."
      ]
    },
    {
      "cell_type": "code",
      "metadata": {
        "id": "QwvlE1mluI0T",
        "colab_type": "code",
        "colab": {}
      },
      "source": [
        "def compile(model, loss, optimizer, metrics):\n",
        "    model.compile(loss = loss,\n",
        "                  optimizer = optimizer,\n",
        "                  metrics = metrics)"
      ],
      "execution_count": 0,
      "outputs": []
    },
    {
      "cell_type": "markdown",
      "metadata": {
        "id": "3YJG-0U6uI0b",
        "colab_type": "text"
      },
      "source": [
        "Trains the given model.\n",
        "\n",
        "args:\n",
        "+ ```model:``` Model to train.\n",
        "+ ```batch_size:```\n",
        "+ ```epochs:``` \n",
        "+ ```data:``` Given by ```x_train```, ```x_test```, ```y_train``` and ```y_test```"
      ]
    },
    {
      "cell_type": "code",
      "metadata": {
        "id": "lkmOkojWuI0d",
        "colab_type": "code",
        "colab": {}
      },
      "source": [
        "def train(model, batch_size, epochs, x_train, y_train, x_test, y_test):\n",
        "    history = model.fit(x_train, y_train,\n",
        "          batch_size=batch_size,\n",
        "          epochs=epochs,\n",
        "          verbose=1,\n",
        "          validation_data=(x_test, y_test))\n",
        "    return history"
      ],
      "execution_count": 0,
      "outputs": []
    },
    {
      "cell_type": "markdown",
      "metadata": {
        "id": "RDI3JJQguI0j",
        "colab_type": "text"
      },
      "source": [
        "Shows model results in test partition."
      ]
    },
    {
      "cell_type": "code",
      "metadata": {
        "id": "dOT6vukyuI0l",
        "colab_type": "code",
        "colab": {}
      },
      "source": [
        "def results(model, x_test, y_test):\n",
        "    score = model.evaluate(x_test, y_test, verbose=0)\n",
        "    print('Test loss: ', score[0])\n",
        "    print('Test accuracy: ', score[1])"
      ],
      "execution_count": 0,
      "outputs": []
    },
    {
      "cell_type": "markdown",
      "metadata": {
        "id": "ClRxnUR3uI0s",
        "colab_type": "text"
      },
      "source": [
        "Calculates model accuracy."
      ]
    },
    {
      "cell_type": "code",
      "metadata": {
        "id": "zUUV-rNZuI0t",
        "colab_type": "code",
        "colab": {}
      },
      "source": [
        "def calAccuracy(labels, preds):\n",
        "    labels = np.argmax(labels, axis = 1)\n",
        "    preds = np.argmas(preds, axis = 1)\n",
        "    \n",
        "    return sum(labels==preds)/len(labels)"
      ],
      "execution_count": 0,
      "outputs": []
    },
    {
      "cell_type": "markdown",
      "metadata": {
        "id": "eNSgIJ74uI0y",
        "colab_type": "text"
      },
      "source": [
        "Draws two graphics.\n",
        "+ Loss function evolution.\n",
        "+ Accuracy function evolution.\n",
        "\n",
        "Args:\n",
        "+ ```hist```: Training records"
      ]
    },
    {
      "cell_type": "code",
      "metadata": {
        "id": "WcGNHonluI00",
        "colab_type": "code",
        "colab": {}
      },
      "source": [
        "def showEvolution(hist):\n",
        "    loss = hist.history['loss']\n",
        "    val_loss = hist.history['val_loss']\n",
        "    plt.plot(loss)\n",
        "    plt.plot(val_loss)\n",
        "    plt.legend(['Training loss', 'Validation loss'])\n",
        "    plt.show()\n",
        "    \n",
        "    acc = hist.history['acc']\n",
        "    val_acc = hist.history['val_acc']\n",
        "    plt.plot(acc)\n",
        "    plt.plot(val_acc)\n",
        "    plt.legend(['Training accuracy', 'Validation accuracy'])\n",
        "    plt.show()"
      ],
      "execution_count": 0,
      "outputs": []
    },
    {
      "cell_type": "markdown",
      "metadata": {
        "id": "Z1V9J5LKuI07",
        "colab_type": "text"
      },
      "source": [
        "# Exercise 1"
      ]
    },
    {
      "cell_type": "markdown",
      "metadata": {
        "heading_collapsed": true,
        "id": "lZ3shUL8uI08",
        "colab_type": "text"
      },
      "source": [
        "## Load Data."
      ]
    },
    {
      "cell_type": "code",
      "metadata": {
        "hidden": true,
        "id": "yLYMUmozuI09",
        "colab_type": "code",
        "colab": {}
      },
      "source": [
        "def loadCifrarData():\n",
        "    # Load Data\n",
        "    (x_train, y_train), (x_test, y_test) = cifar100.load_data(label_mode='fine')\n",
        "\n",
        "    # Transform to float and normalize\n",
        "    x_train = x_train.astype('float32')\n",
        "    x_test = x_test.astype('float32')\n",
        "    x_train /= 255\n",
        "    x_test /= 255\n",
        "    \n",
        "    # We will use only 25 classes.\n",
        "    train_idx = np.isin(y_train, np.arange(25))\n",
        "    train_idx = np.reshape(train_idx, -1)\n",
        "    x_train = x_train[train_idx]\n",
        "    y_train = y_train[train_idx]\n",
        "    test_idx = np.isin(y_test, np.arange(25))\n",
        "    test_idx = np.reshape(test_idx, -1)\n",
        "    x_test = x_test[test_idx]\n",
        "    y_test = y_test[test_idx]\n",
        "    \n",
        "    # Pass variables to cathegorical\n",
        "    y_train = np_utils.to_categorical(y_train, 25)\n",
        "    y_test = np_utils.to_categorical(y_test, 25)\n",
        "    \n",
        "    return x_train, y_train, x_test, y_test"
      ],
      "execution_count": 0,
      "outputs": []
    },
    {
      "cell_type": "markdown",
      "metadata": {
        "id": "iOBt6EoTuI1D",
        "colab_type": "text"
      },
      "source": [
        "## Model Definition"
      ]
    },
    {
      "cell_type": "code",
      "metadata": {
        "id": "sHgIRJ8_uI1F",
        "colab_type": "code",
        "colab": {}
      },
      "source": [
        "def baseNetModel():\n",
        "    model = Sequential()\n",
        "    model.name = 'BaseNet Model'\n",
        "    model.add(Conv2D(6, kernel_size=(5, 5),\n",
        "                     activation='relu',\n",
        "                     input_shape=(32,32,3)))\n",
        "    model.add(MaxPooling2D(pool_size=(2, 2)))\n",
        "    model.add(Conv2D(16, kernel_size=(5,5), \n",
        "                    activation='relu'))\n",
        "    model.add(MaxPooling2D(pool_size=(2,2)))\n",
        "    model.add(Flatten())\n",
        "    model.add(Dense(50, activation='relu'))\n",
        "    model.add(Dense(25, activation='softmax'))\n",
        "    \n",
        "    return model"
      ],
      "execution_count": 0,
      "outputs": []
    },
    {
      "cell_type": "code",
      "metadata": {
        "id": "t6uh69G0uI1M",
        "colab_type": "code",
        "colab": {}
      },
      "source": [
        "def baseNetModel2():\n",
        "    model = Sequential()\n",
        "    model.name = 'BaseNet Model 2'\n",
        "    model = Sequential()\n",
        "    model.name = 'BaseNet Model 2'\n",
        "    model.add(Conv2D(32, (3, 3), padding='same',\n",
        "                    input_shape=(32,32,3)))\n",
        "    model.add(Activation('relu'))\n",
        "    model.add(Conv2D(32, (3, 3)))\n",
        "    model.add(Activation('relu'))\n",
        "    model.add(MaxPooling2D(pool_size=(2, 2)))\n",
        "    model.add(Dropout(0.25))\n",
        "\n",
        "    model.add(Conv2D(64, (3, 3), padding='same'))\n",
        "    model.add(Activation('relu'))\n",
        "    model.add(Conv2D(64, (3, 3)))\n",
        "    model.add(Activation('relu'))\n",
        "    model.add(MaxPooling2D(pool_size=(2, 2)))\n",
        "    model.add(Dropout(0.25))\n",
        "\n",
        "    model.add(Flatten())\n",
        "    model.add(Dense(512))\n",
        "    model.add(Activation('relu'))\n",
        "    model.add(Dropout(0.5))\n",
        "    model.add(Dense(25))\n",
        "    model.add(Activation('softmax'))\n",
        "\n",
        "    return model"
      ],
      "execution_count": 0,
      "outputs": []
    },
    {
      "cell_type": "markdown",
      "metadata": {
        "id": "hYpZHlMKuI1P",
        "colab_type": "text"
      },
      "source": [
        "## Model train and test"
      ]
    },
    {
      "cell_type": "code",
      "metadata": {
        "id": "9buolDHbuI1Q",
        "colab_type": "code",
        "colab": {}
      },
      "source": [
        "def ej1(modelFunction, batch_size, epochs):\n",
        "    model = modelFunction()\n",
        "    model.summary()\n",
        "    compile(model,\n",
        "        keras.losses.categorical_crossentropy,\n",
        "        SGD(lr = 0.01, decay = 1e-6, momentum=0.9, nesterov=True),\n",
        "        ['accuracy'])\n",
        "    data = loadCifrarData()\n",
        "    history = train(model, \n",
        "                    batch_size,\n",
        "                    epochs,\n",
        "                    *data)\n",
        "    print(\"# TEST RESULTS\")\n",
        "    results(model, *data[:2])\n",
        "    showEvolution(history)"
      ],
      "execution_count": 0,
      "outputs": []
    },
    {
      "cell_type": "markdown",
      "metadata": {
        "id": "Zh19Sc9auI1V",
        "colab_type": "text"
      },
      "source": [
        "# Main function"
      ]
    },
    {
      "cell_type": "code",
      "metadata": {
        "id": "yh_Q1CF0uI1X",
        "colab_type": "code",
        "colab": {
          "base_uri": "https://localhost:8080/",
          "height": 1000
        },
        "outputId": "7e43c381-f403-45b6-ca23-c70d07d2afbb"
      },
      "source": [
        "def main():\n",
        "    ej1(baseNetModel, 128, 20)\n",
        "    ej1(baseNetModel2, 128, 30)\n",
        "    \n",
        "main()"
      ],
      "execution_count": 24,
      "outputs": [
        {
          "output_type": "stream",
          "text": [
            "Model: \"BaseNet Model\"\n",
            "_________________________________________________________________\n",
            "Layer (type)                 Output Shape              Param #   \n",
            "=================================================================\n",
            "conv2d_3 (Conv2D)            (None, 28, 28, 6)         456       \n",
            "_________________________________________________________________\n",
            "max_pooling2d_3 (MaxPooling2 (None, 14, 14, 6)         0         \n",
            "_________________________________________________________________\n",
            "conv2d_4 (Conv2D)            (None, 10, 10, 16)        2416      \n",
            "_________________________________________________________________\n",
            "max_pooling2d_4 (MaxPooling2 (None, 5, 5, 16)          0         \n",
            "_________________________________________________________________\n",
            "flatten_2 (Flatten)          (None, 400)               0         \n",
            "_________________________________________________________________\n",
            "dense_3 (Dense)              (None, 50)                20050     \n",
            "_________________________________________________________________\n",
            "dense_4 (Dense)              (None, 25)                1275      \n",
            "=================================================================\n",
            "Total params: 24,197\n",
            "Trainable params: 24,197\n",
            "Non-trainable params: 0\n",
            "_________________________________________________________________\n",
            "Train on 12500 samples, validate on 2500 samples\n",
            "Epoch 1/20\n",
            "12500/12500 [==============================] - 1s 97us/step - loss: 3.1506 - acc: 0.0756 - val_loss: 2.9587 - val_acc: 0.1492\n",
            "Epoch 2/20\n",
            "12500/12500 [==============================] - 1s 79us/step - loss: 2.8183 - acc: 0.1886 - val_loss: 2.6551 - val_acc: 0.2420\n",
            "Epoch 3/20\n",
            "12500/12500 [==============================] - 1s 78us/step - loss: 2.6096 - acc: 0.2497 - val_loss: 2.5260 - val_acc: 0.2612\n",
            "Epoch 4/20\n",
            "12500/12500 [==============================] - 1s 79us/step - loss: 2.4427 - acc: 0.2993 - val_loss: 2.4016 - val_acc: 0.3180\n",
            "Epoch 5/20\n",
            "12500/12500 [==============================] - 1s 79us/step - loss: 2.3184 - acc: 0.3246 - val_loss: 2.3190 - val_acc: 0.3256\n",
            "Epoch 6/20\n",
            "12500/12500 [==============================] - 1s 81us/step - loss: 2.2250 - acc: 0.3499 - val_loss: 2.2646 - val_acc: 0.3496\n",
            "Epoch 7/20\n",
            "12500/12500 [==============================] - 1s 80us/step - loss: 2.1413 - acc: 0.3738 - val_loss: 2.1551 - val_acc: 0.3808\n",
            "Epoch 8/20\n",
            "12500/12500 [==============================] - 1s 80us/step - loss: 2.0653 - acc: 0.3917 - val_loss: 2.1141 - val_acc: 0.3920\n",
            "Epoch 9/20\n",
            "12500/12500 [==============================] - 1s 79us/step - loss: 1.9960 - acc: 0.4147 - val_loss: 2.1015 - val_acc: 0.3904\n",
            "Epoch 10/20\n",
            "12500/12500 [==============================] - 1s 78us/step - loss: 1.9444 - acc: 0.4243 - val_loss: 2.0663 - val_acc: 0.4040\n",
            "Epoch 11/20\n",
            "12500/12500 [==============================] - 1s 79us/step - loss: 1.8881 - acc: 0.4402 - val_loss: 2.0671 - val_acc: 0.4148\n",
            "Epoch 12/20\n",
            "12500/12500 [==============================] - 1s 81us/step - loss: 1.8401 - acc: 0.4566 - val_loss: 2.0754 - val_acc: 0.4056\n",
            "Epoch 13/20\n",
            "12500/12500 [==============================] - 1s 78us/step - loss: 1.7972 - acc: 0.4658 - val_loss: 2.0183 - val_acc: 0.4236\n",
            "Epoch 14/20\n",
            "12500/12500 [==============================] - 1s 80us/step - loss: 1.7552 - acc: 0.4790 - val_loss: 1.9658 - val_acc: 0.4320\n",
            "Epoch 15/20\n",
            "12500/12500 [==============================] - 1s 77us/step - loss: 1.7156 - acc: 0.4881 - val_loss: 1.9757 - val_acc: 0.4380\n",
            "Epoch 16/20\n",
            "12500/12500 [==============================] - 1s 79us/step - loss: 1.6796 - acc: 0.4970 - val_loss: 1.9527 - val_acc: 0.4412\n",
            "Epoch 17/20\n",
            "12500/12500 [==============================] - 1s 79us/step - loss: 1.6416 - acc: 0.5090 - val_loss: 1.9182 - val_acc: 0.4452\n",
            "Epoch 18/20\n",
            "12500/12500 [==============================] - 1s 79us/step - loss: 1.6109 - acc: 0.5176 - val_loss: 1.9742 - val_acc: 0.4220\n",
            "Epoch 19/20\n",
            "12500/12500 [==============================] - 1s 79us/step - loss: 1.5759 - acc: 0.5282 - val_loss: 1.9516 - val_acc: 0.4396\n",
            "Epoch 20/20\n",
            "12500/12500 [==============================] - 1s 77us/step - loss: 1.5477 - acc: 0.5342 - val_loss: 1.9060 - val_acc: 0.4552\n",
            "# TEST RESULTS\n",
            "Test loss:  1.4668174620819092\n",
            "Test accuracy:  0.5599200000190735\n"
          ],
          "name": "stdout"
        },
        {
          "output_type": "display_data",
          "data": {
            "image/png": "[encoded data removed]",
            "text/plain": [
              "<Figure size 432x288 with 1 Axes>"
            ]
          },
          "metadata": {
            "tags": []
          }
        },
        {
          "output_type": "display_data",
          "data": {
            "image/png": "[encoded data removed]",
            "text/plain": [
              "<Figure size 432x288 with 1 Axes>"
            ]
          },
          "metadata": {
            "tags": []
          }
        },
        {
          "output_type": "stream",
          "text": [
            "WARNING:tensorflow:From /usr/local/lib/python3.6/dist-packages/keras/backend/tensorflow_backend.py:148: The name tf.placeholder_with_default is deprecated. Please use tf.compat.v1.placeholder_with_default instead.\n",
            "\n",
            "WARNING:tensorflow:From /usr/local/lib/python3.6/dist-packages/keras/backend/tensorflow_backend.py:3733: calling dropout (from tensorflow.python.ops.nn_ops) with keep_prob is deprecated and will be removed in a future version.\n",
            "Instructions for updating:\n",
            "Please use `rate` instead of `keep_prob`. Rate should be set to `rate = 1 - keep_prob`.\n",
            "Model: \"BaseNet Model 2\"\n",
            "_________________________________________________________________\n",
            "Layer (type)                 Output Shape              Param #   \n",
            "=================================================================\n",
            "conv2d_5 (Conv2D)            (None, 32, 32, 32)        896       \n",
            "_________________________________________________________________\n",
            "activation_1 (Activation)    (None, 32, 32, 32)        0         \n",
            "_________________________________________________________________\n",
            "conv2d_6 (Conv2D)            (None, 30, 30, 32)        9248      \n",
            "_________________________________________________________________\n",
            "activation_2 (Activation)    (None, 30, 30, 32)        0         \n",
            "_________________________________________________________________\n",
            "max_pooling2d_5 (MaxPooling2 (None, 15, 15, 32)        0         \n",
            "_________________________________________________________________\n",
            "dropout_1 (Dropout)          (None, 15, 15, 32)        0         \n",
            "_________________________________________________________________\n",
            "conv2d_7 (Conv2D)            (None, 15, 15, 64)        18496     \n",
            "_________________________________________________________________\n",
            "activation_3 (Activation)    (None, 15, 15, 64)        0         \n",
            "_________________________________________________________________\n",
            "conv2d_8 (Conv2D)            (None, 13, 13, 64)        36928     \n",
            "_________________________________________________________________\n",
            "activation_4 (Activation)    (None, 13, 13, 64)        0         \n",
            "_________________________________________________________________\n",
            "max_pooling2d_6 (MaxPooling2 (None, 6, 6, 64)          0         \n",
            "_________________________________________________________________\n",
            "dropout_2 (Dropout)          (None, 6, 6, 64)          0         \n",
            "_________________________________________________________________\n",
            "flatten_3 (Flatten)          (None, 2304)              0         \n",
            "_________________________________________________________________\n",
            "dense_5 (Dense)              (None, 512)               1180160   \n",
            "_________________________________________________________________\n",
            "activation_5 (Activation)    (None, 512)               0         \n",
            "_________________________________________________________________\n",
            "dropout_3 (Dropout)          (None, 512)               0         \n",
            "_________________________________________________________________\n",
            "dense_6 (Dense)              (None, 25)                12825     \n",
            "_________________________________________________________________\n",
            "activation_6 (Activation)    (None, 25)                0         \n",
            "=================================================================\n",
            "Total params: 1,258,553\n",
            "Trainable params: 1,258,553\n",
            "Non-trainable params: 0\n",
            "_________________________________________________________________\n",
            "Train on 12500 samples, validate on 2500 samples\n",
            "Epoch 1/30\n",
            "12500/12500 [==============================] - 4s 298us/step - loss: 3.1676 - acc: 0.0694 - val_loss: 2.9901 - val_acc: 0.1472\n",
            "Epoch 2/30\n",
            "12500/12500 [==============================] - 3s 214us/step - loss: 2.8874 - acc: 0.1600 - val_loss: 2.6992 - val_acc: 0.2120\n",
            "Epoch 3/30\n",
            "12500/12500 [==============================] - 3s 214us/step - loss: 2.6745 - acc: 0.2135 - val_loss: 2.5071 - val_acc: 0.2720\n",
            "Epoch 4/30\n",
            "12500/12500 [==============================] - 3s 214us/step - loss: 2.5305 - acc: 0.2586 - val_loss: 2.3254 - val_acc: 0.3208\n",
            "Epoch 5/30\n",
            "12500/12500 [==============================] - 3s 215us/step - loss: 2.4137 - acc: 0.2902 - val_loss: 2.2261 - val_acc: 0.3440\n",
            "Epoch 6/30\n",
            "12500/12500 [==============================] - 3s 213us/step - loss: 2.2835 - acc: 0.3249 - val_loss: 2.1350 - val_acc: 0.3964\n",
            "Epoch 7/30\n",
            "12500/12500 [==============================] - 3s 213us/step - loss: 2.1695 - acc: 0.3634 - val_loss: 2.0132 - val_acc: 0.4176\n",
            "Epoch 8/30\n",
            "12500/12500 [==============================] - 3s 213us/step - loss: 2.0653 - acc: 0.3922 - val_loss: 1.9299 - val_acc: 0.4392\n",
            "Epoch 9/30\n",
            "12500/12500 [==============================] - 3s 212us/step - loss: 1.9885 - acc: 0.4141 - val_loss: 1.8773 - val_acc: 0.4612\n",
            "Epoch 10/30\n",
            "12500/12500 [==============================] - 3s 211us/step - loss: 1.9063 - acc: 0.4384 - val_loss: 1.8037 - val_acc: 0.4732\n",
            "Epoch 11/30\n",
            "12500/12500 [==============================] - 3s 213us/step - loss: 1.8253 - acc: 0.4548 - val_loss: 1.7737 - val_acc: 0.4824\n",
            "Epoch 12/30\n",
            "12500/12500 [==============================] - 3s 216us/step - loss: 1.7699 - acc: 0.4732 - val_loss: 1.7076 - val_acc: 0.4964\n",
            "Epoch 13/30\n",
            "12500/12500 [==============================] - 3s 219us/step - loss: 1.6957 - acc: 0.4914 - val_loss: 1.6823 - val_acc: 0.5068\n",
            "Epoch 14/30\n",
            "12500/12500 [==============================] - 3s 215us/step - loss: 1.6331 - acc: 0.5038 - val_loss: 1.6651 - val_acc: 0.5136\n",
            "Epoch 15/30\n",
            "12500/12500 [==============================] - 3s 219us/step - loss: 1.5750 - acc: 0.5210 - val_loss: 1.6030 - val_acc: 0.5240\n",
            "Epoch 16/30\n",
            "12500/12500 [==============================] - 3s 221us/step - loss: 1.5190 - acc: 0.5428 - val_loss: 1.5961 - val_acc: 0.5264\n",
            "Epoch 17/30\n",
            "12500/12500 [==============================] - 3s 217us/step - loss: 1.4630 - acc: 0.5559 - val_loss: 1.5506 - val_acc: 0.5404\n",
            "Epoch 18/30\n",
            "12500/12500 [==============================] - 3s 218us/step - loss: 1.4110 - acc: 0.5699 - val_loss: 1.5705 - val_acc: 0.5488\n",
            "Epoch 19/30\n",
            "12500/12500 [==============================] - 3s 216us/step - loss: 1.3667 - acc: 0.5810 - val_loss: 1.5313 - val_acc: 0.5560\n",
            "Epoch 20/30\n",
            "12500/12500 [==============================] - 3s 218us/step - loss: 1.3071 - acc: 0.5940 - val_loss: 1.5122 - val_acc: 0.5576\n",
            "Epoch 21/30\n",
            "12500/12500 [==============================] - 3s 219us/step - loss: 1.2593 - acc: 0.6122 - val_loss: 1.5149 - val_acc: 0.5616\n",
            "Epoch 22/30\n",
            "12500/12500 [==============================] - 3s 216us/step - loss: 1.2192 - acc: 0.6258 - val_loss: 1.5282 - val_acc: 0.5476\n",
            "Epoch 23/30\n",
            "12500/12500 [==============================] - 3s 219us/step - loss: 1.1775 - acc: 0.6360 - val_loss: 1.4639 - val_acc: 0.5760\n",
            "Epoch 24/30\n",
            "12500/12500 [==============================] - 3s 216us/step - loss: 1.1420 - acc: 0.6433 - val_loss: 1.4647 - val_acc: 0.5748\n",
            "Epoch 25/30\n",
            "12500/12500 [==============================] - 3s 219us/step - loss: 1.0975 - acc: 0.6604 - val_loss: 1.4667 - val_acc: 0.5840\n",
            "Epoch 26/30\n",
            "12500/12500 [==============================] - 3s 216us/step - loss: 1.0446 - acc: 0.6686 - val_loss: 1.4619 - val_acc: 0.5800\n",
            "Epoch 27/30\n",
            "12500/12500 [==============================] - 3s 219us/step - loss: 1.0145 - acc: 0.6782 - val_loss: 1.4258 - val_acc: 0.5796\n",
            "Epoch 28/30\n",
            "12500/12500 [==============================] - 3s 217us/step - loss: 0.9886 - acc: 0.6846 - val_loss: 1.4330 - val_acc: 0.5888\n",
            "Epoch 29/30\n",
            "12500/12500 [==============================] - 3s 219us/step - loss: 0.9398 - acc: 0.6998 - val_loss: 1.4343 - val_acc: 0.5940\n",
            "Epoch 30/30\n",
            "12500/12500 [==============================] - 3s 218us/step - loss: 0.8717 - acc: 0.7178 - val_loss: 1.4598 - val_acc: 0.5952\n",
            "# TEST RESULTS\n",
            "Test loss:  0.4197328240776062\n",
            "Test accuracy:  0.908719999961853\n"
          ],
          "name": "stdout"
        },
        {
          "output_type": "display_data",
          "data": {
            "image/png": "[encoded data removed]",
            "text/plain": [
              "<Figure size 432x288 with 1 Axes>"
            ]
          },
          "metadata": {
            "tags": []
          }
        },
        {
          "output_type": "display_data",
          "data": {
            "image/png": "[encoded data removed]",
            "text/plain": [
              "<Figure size 432x288 with 1 Axes>"
            ]
          },
          "metadata": {
            "tags": []
          }
        }
      ]
    },
    {
      "cell_type": "code",
      "metadata": {
        "id": "kO_VO6c-uI1d",
        "colab_type": "code",
        "colab": {}
      },
      "source": [
        ""
      ],
      "execution_count": 0,
      "outputs": []
    },
    {
      "cell_type": "code",
      "metadata": {
        "id": "A1zBSZEfuI1g",
        "colab_type": "code",
        "colab": {}
      },
      "source": [
        ""
      ],
      "execution_count": 0,
      "outputs": []
    }
  ]
}