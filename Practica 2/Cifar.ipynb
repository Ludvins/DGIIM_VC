{
  "nbformat": 4,
  "nbformat_minor": 0,
  "metadata": {
    "accelerator": "GPU",
    "colab": {
      "name": "Cifar.ipynb",
      "provenance": [],
      "collapsed_sections": [],
      "toc_visible": true,
      "include_colab_link": true
    },
    "kernelspec": {
      "name": "python3",
      "display_name": "Python 3"
    },
    "toc": {
      "base_numbering": 1,
      "nav_menu": {},
      "number_sections": true,
      "sideBar": true,
      "skip_h1_title": false,
      "title_cell": "Table of Contents",
      "title_sidebar": "Contents",
      "toc_cell": false,
      "toc_position": {
        "height": "802px",
        "left": "1210px",
        "top": "113px",
        "width": "316px"
      },
      "toc_section_display": true,
      "toc_window_display": true
    }
  },
  "cells": [
    {
      "cell_type": "markdown",
      "metadata": {
        "id": "view-in-github",
        "colab_type": "text"
      },
      "source": [
        "<a href=\"https://colab.research.google.com/github/Ludvins/VC/blob/master/Practica%202/Cifar.ipynb\" target=\"_parent\"><img src=\"https://colab.research.google.com/assets/colab-badge.svg\" alt=\"Open In Colab\"/></a>"
      ]
    },
    {
      "cell_type": "markdown",
      "metadata": {
        "colab_type": "text",
        "id": "CHnD8CrauI0A"
      },
      "source": [
        "## Imports"
      ]
    },
    {
      "cell_type": "code",
      "metadata": {
        "colab_type": "code",
        "id": "jwH9nSY5uI0D",
        "colab": {}
      },
      "source": [
        "import numpy as np\n",
        "import keras\n",
        "import matplotlib.pyplot as plt\n",
        "import keras.utils as np_utils\n",
        "# Import optimizer\n",
        "from keras.optimizers import SGD\n",
        "# Import data\n",
        "from keras.datasets import cifar100\n",
        "# Import models and layers\n",
        "from keras.models import Sequential\n",
        "from keras.layers import Dense, Dropout, Flatten\n",
        "from keras.layers import Conv2D, MaxPooling2D, Activation\n",
        "# Import image proprocessors\n",
        "from keras.preprocessing.image import ImageDataGenerator\n",
        "# Show no TensorFlow deprecation warnings\n",
        "import tensorflow.compat.v1 as tf\n",
        "tf.logging.set_verbosity(tf.logging.ERROR)"
      ],
      "execution_count": 0,
      "outputs": []
    },
    {
      "cell_type": "markdown",
      "metadata": {
        "colab_type": "text",
        "id": "MfYoiSUHuI0P"
      },
      "source": [
        "## Auxiliar functions"
      ]
    },
    {
      "cell_type": "markdown",
      "metadata": {
        "id": "S2-xzwaXSJV0",
        "colab_type": "text"
      },
      "source": [
        "Loads Cifar data."
      ]
    },
    {
      "cell_type": "code",
      "metadata": {
        "colab_type": "code",
        "id": "yLYMUmozuI09",
        "colab": {}
      },
      "source": [
        "def load_cifar_data():\n",
        "    # Load Data\n",
        "    (x_train, y_train), (x_test, y_test) = cifar100.load_data(label_mode='fine')\n",
        "\n",
        "    # Transform to float and normalize\n",
        "    x_train = x_train.astype('float32')\n",
        "    x_test = x_test.astype('float32')\n",
        "    x_train /= 255\n",
        "    x_test /= 255\n",
        "    \n",
        "    # We will use only 25 classes.\n",
        "    train_idx = np.isin(y_train, np.arange(25))\n",
        "    train_idx = np.reshape(train_idx, -1)\n",
        "    x_train = x_train[train_idx]\n",
        "    y_train = y_train[train_idx]\n",
        "    test_idx = np.isin(y_test, np.arange(25))\n",
        "    test_idx = np.reshape(test_idx, -1)\n",
        "    x_test = x_test[test_idx]\n",
        "    y_test = y_test[test_idx]\n",
        "    \n",
        "    # Set labels to cathegorical\n",
        "    y_train = np_utils.to_categorical(y_train, 25)\n",
        "    y_test = np_utils.to_categorical(y_test, 25)\n",
        "    \n",
        "    return x_train, y_train, x_test, y_test"
      ],
      "execution_count": 0,
      "outputs": []
    },
    {
      "cell_type": "markdown",
      "metadata": {
        "colab_type": "text",
        "id": "RDI3JJQguI0j"
      },
      "source": [
        "Shows model results in test partition."
      ]
    },
    {
      "cell_type": "code",
      "metadata": {
        "colab_type": "code",
        "id": "dOT6vukyuI0l",
        "colab": {}
      },
      "source": [
        "def evaluate(model, x_test, y_test, verbose = 0):\n",
        "    score = model.evaluate(x_test, y_test, verbose=verbose)\n",
        "    print(\"# TEST RESULTS\")\n",
        "    print('Test loss: ', score[0])\n",
        "    print('Test accuracy: ', score[1])"
      ],
      "execution_count": 0,
      "outputs": []
    },
    {
      "cell_type": "markdown",
      "metadata": {
        "colab_type": "text",
        "id": "eNSgIJ74uI0y"
      },
      "source": [
        "Draws two graphics.\n",
        "+ Loss function evolution.\n",
        "+ Accuracy function evolution.\n",
        "\n",
        "Args:\n",
        "+ ```hist```: Training records"
      ]
    },
    {
      "cell_type": "code",
      "metadata": {
        "colab_type": "code",
        "id": "WcGNHonluI00",
        "colab": {}
      },
      "source": [
        "def show_evolution(hist):\n",
        "    loss = hist.history['loss']\n",
        "    val_loss = hist.history['val_loss']\n",
        "    plt.plot(loss)\n",
        "    plt.plot(val_loss)\n",
        "    plt.legend(['Training loss', 'Validation loss'])\n",
        "    plt.show()\n",
        "    \n",
        "    acc = hist.history['acc']\n",
        "    val_acc = hist.history['val_acc']\n",
        "    plt.plot(acc)\n",
        "    plt.plot(val_acc)\n",
        "    plt.legend(['Training accuracy', 'Validation accuracy'])\n",
        "    plt.show()"
      ],
      "execution_count": 0,
      "outputs": []
    },
    {
      "cell_type": "markdown",
      "metadata": {
        "id": "w_2aBudzEHcV",
        "colab_type": "text"
      },
      "source": [
        "Draws the same graphics as ```show_evolution``` but using a list of records ```hist```."
      ]
    },
    {
      "cell_type": "code",
      "metadata": {
        "colab_type": "code",
        "id": "0j1qXmeOXejh",
        "colab": {}
      },
      "source": [
        "def show_evolution(hist, names):\n",
        "\n",
        "    for i in hist:\n",
        "        val_loss = i.history['val_loss']\n",
        "        plt.plot(val_loss)\n",
        "\n",
        "    plt.legend([\"Validation loss \" + names[i] for i in range(len(hist))])\n",
        "    plt.show()\n",
        "\n",
        "    for i in hist:\n",
        "        val_acc = i.history['val_acc']\n",
        "        plt.plot(val_acc)\n",
        "\n",
        "    plt.legend([\"Validation accuracy \" + names[i] for i in range(len(hist))])\n",
        "    plt.show()"
      ],
      "execution_count": 0,
      "outputs": []
    },
    {
      "cell_type": "markdown",
      "metadata": {
        "colab_type": "text",
        "id": "lZ3shUL8uI08"
      },
      "source": [
        "## Data generators"
      ]
    },
    {
      "cell_type": "code",
      "metadata": {
        "id": "fZI0_qbR3W7Q",
        "colab_type": "code",
        "colab": {}
      },
      "source": [
        "def basic_data_generator():\n",
        "    datagen = ImageDataGenerator(validation_split = 0.1)\n",
        "    return datagen"
      ],
      "execution_count": 0,
      "outputs": []
    },
    {
      "cell_type": "code",
      "metadata": {
        "id": "Ub5Kfmxm3L4j",
        "colab_type": "code",
        "colab": {}
      },
      "source": [
        "def complex_data_generator():\n",
        "  datagen = ImageDataGenerator(\n",
        "      featurewise_center = True,             # set input mean to 0 over the dataset\n",
        "      samplewise_center = False,             # set each sample mean to 0\n",
        "      featurewise_std_normalization = True,  # divide inputs by std of the dataset\n",
        "      samplewise_std_normalization = False,  # divide each input by its std\n",
        "      zca_whitening = False,                 # apply ZCA whitening\n",
        "      zca_epsilon = 1e-06,                   # epsilon for ZCA whitening\n",
        "      rotation_range = 0,                    # randomly rotate images in the range (degrees, 0 to 180)\n",
        "      width_shift_range = 0.1,               # randomly shift images horizontally (fraction of total width)\n",
        "      height_shift_range = 0.1,              # randomly shift images vertically (fraction of total height)\n",
        "      shear_range = 0.,                      # set range for random shear\n",
        "      zoom_range = 0.,                       # set range for random zoom\n",
        "      channel_shift_range = 0.,              # set range for random channel shifts\n",
        "      fill_mode = 'nearest',                 # set mode for filling points outside the input boundaries\n",
        "      cval = 0.,                             # value used for fill_mode = \"constant\"\n",
        "      horizontal_flip = True,                # randomly flip images\n",
        "      vertical_flip = False,                 # randomly flip images\n",
        "      rescale = None,                        # set rescaling factor (applied before any other transformation)\n",
        "      preprocessing_function = None,         # set function that will be applied on each input\n",
        "      data_format = None,                    # image data format, either \"channels_first\" or \"channels_last\"\n",
        "      validation_split = 0.1)                # fraction of images reserved for validation (strictly between 0 and 1)\n",
        "  return datagen"
      ],
      "execution_count": 0,
      "outputs": []
    },
    {
      "cell_type": "markdown",
      "metadata": {
        "colab_type": "text",
        "id": "iOBt6EoTuI1D"
      },
      "source": [
        "## Model definitions"
      ]
    },
    {
      "cell_type": "code",
      "metadata": {
        "colab_type": "code",
        "id": "sHgIRJ8_uI1F",
        "colab": {}
      },
      "source": [
        "def base_net_model(name = 'BaseNet Model'):\n",
        "    model = Sequential()\n",
        "    model.name = name\n",
        "    model.add(Conv2D(6, kernel_size=(5, 5),\n",
        "                     activation='relu',\n",
        "                     input_shape=(32,32,3)))\n",
        "    model.add(MaxPooling2D(pool_size=(2, 2)))\n",
        "    model.add(Conv2D(16, kernel_size=(5,5), \n",
        "                    activation='relu'))\n",
        "    model.add(MaxPooling2D(pool_size=(2,2)))\n",
        "    model.add(Flatten())\n",
        "    model.add(Dense(50, activation='relu'))\n",
        "    model.add(Dense(25, activation='softmax'))\n",
        "    \n",
        "    return model"
      ],
      "execution_count": 0,
      "outputs": []
    },
    {
      "cell_type": "code",
      "metadata": {
        "colab_type": "code",
        "id": "t6uh69G0uI1M",
        "colab": {}
      },
      "source": [
        "def base_net_model2(name = 'BaseNet Model 2'):\n",
        "    model = Sequential()\n",
        "    model.name = name\n",
        "    model.add(Conv2D(32, (3, 3), padding='same', activation = 'relu', input_shape=(32,32,3)))\n",
        "    model.add(Conv2D(32, (3, 3), activation='relu'))\n",
        "    model.add(MaxPooling2D(pool_size=(2, 2)))\n",
        "    model.add(Dropout(0.25))\n",
        "\n",
        "    model.add(Conv2D(64, (3, 3), padding='same', activation='relu'))\n",
        "    model.add(Conv2D(64, (3, 3), activation='relu'))\n",
        "    model.add(MaxPooling2D(pool_size=(2, 2)))\n",
        "    model.add(Dropout(0.25))\n",
        "\n",
        "    model.add(Flatten())\n",
        "    model.add(Dense(512, activation='relu'))\n",
        "    model.add(Dropout(0.5))\n",
        "    model.add(Dense(25, activation='softmax'))\n",
        "\n",
        "    return model"
      ],
      "execution_count": 0,
      "outputs": []
    },
    {
      "cell_type": "markdown",
      "metadata": {
        "colab_type": "text",
        "id": "hYpZHlMKuI1P"
      },
      "source": [
        "## Train function"
      ]
    },
    {
      "cell_type": "code",
      "metadata": {
        "id": "Nz4y5Qei7j5d",
        "colab_type": "code",
        "colab": {}
      },
      "source": [
        "def train_and_evaluate(model, data_generator, batch_size, epochs, verbose = 0):\n",
        "\n",
        "    model.compile(\n",
        "        loss = keras.losses.categorical_crossentropy,\n",
        "        optimizer = SGD(lr = 0.01, decay = 1e-6, momentum = 0.9, nesterov = True),\n",
        "        metrics = ['accuracy']\n",
        "    )\n",
        "\n",
        "    x_train, y_train, x_test, y_test = load_cifar_data()\n",
        "    datagen = data_generator()\n",
        "    datagen.fit(x_train)\n",
        "    datagen.standardize(x_test)\n",
        "\n",
        "    h = model.fit_generator(\n",
        "                datagen.flow(x_train, y_train, batch_size, subset='training'),\n",
        "                steps_per_epoch = len(x_train)*0.9/batch_size,\n",
        "                epochs = epochs,\n",
        "                validation_data = datagen.flow(x_train, y_train, batch_size, subset='validation'),\n",
        "                validation_steps = len(x_train)*0.1/batch_size,\n",
        "                verbose = verbose\n",
        "                )\n",
        "    evaluate(model, x_test, y_test)\n",
        "    return h\n",
        "    \n"
      ],
      "execution_count": 0,
      "outputs": []
    },
    {
      "cell_type": "markdown",
      "metadata": {
        "colab_type": "text",
        "id": "Zh19Sc9auI1V"
      },
      "source": [
        "# Main functions"
      ]
    },
    {
      "cell_type": "code",
      "metadata": {
        "id": "W98rZUeCCNiG",
        "colab_type": "code",
        "colab": {
          "base_uri": "https://localhost:8080/",
          "height": 476
        },
        "outputId": "ac6f5d55-72e7-4f44-e4f3-0890ac291cf3"
      },
      "source": [
        "# Ejercicio 1\n",
        "m1 = base_net_model()\n",
        "m1.summary()\n",
        "h1 = train_and_evaluate(m1, basic_data_generator, 32, 20)"
      ],
      "execution_count": 24,
      "outputs": [
        {
          "output_type": "stream",
          "text": [
            "Model: \"BaseNet Model\"\n",
            "_________________________________________________________________\n",
            "Layer (type)                 Output Shape              Param #   \n",
            "=================================================================\n",
            "conv2d_5 (Conv2D)            (None, 28, 28, 6)         456       \n",
            "_________________________________________________________________\n",
            "max_pooling2d_5 (MaxPooling2 (None, 14, 14, 6)         0         \n",
            "_________________________________________________________________\n",
            "conv2d_6 (Conv2D)            (None, 10, 10, 16)        2416      \n",
            "_________________________________________________________________\n",
            "max_pooling2d_6 (MaxPooling2 (None, 5, 5, 16)          0         \n",
            "_________________________________________________________________\n",
            "flatten_3 (Flatten)          (None, 400)               0         \n",
            "_________________________________________________________________\n",
            "dense_5 (Dense)              (None, 50)                20050     \n",
            "_________________________________________________________________\n",
            "dense_6 (Dense)              (None, 25)                1275      \n",
            "=================================================================\n",
            "Total params: 24,197\n",
            "Trainable params: 24,197\n",
            "Non-trainable params: 0\n",
            "_________________________________________________________________\n",
            "# TEST RESULTS\n",
            "Test loss:  2.6265007999420167\n",
            "Test accuracy:  0.388\n"
          ],
          "name": "stdout"
        }
      ]
    },
    {
      "cell_type": "code",
      "metadata": {
        "id": "vD6wAxngCW54",
        "colab_type": "code",
        "colab": {
          "base_uri": "https://localhost:8080/",
          "height": 1000
        },
        "outputId": "bb7b53e7-2f27-452e-c7bb-9ab91c9c9636"
      },
      "source": [
        "# Ejercicio 2\n",
        "m2 = base_net_model()\n",
        "h2 = train_and_evaluate(m2, complex_data_generator, 32, 20)\n",
        "\n",
        "show_evolution([h1, h2], [\"basic\", \"complex\"])\n",
        "\n",
        "m3 = base_net_model2()\n",
        "m3.summary()\n",
        "h3 = train_and_evaluate(m3, complex_data_generator, 128, 50)\n",
        "\n",
        "show_evolution([h3], [\"model 2\"])"
      ],
      "execution_count": 25,
      "outputs": [
        {
          "output_type": "stream",
          "text": [
            "# TEST RESULTS\n",
            "Test loss:  1.8870376762390138\n",
            "Test accuracy:  0.4516\n"
          ],
          "name": "stdout"
        },
        {
          "output_type": "display_data",
          "data": {
            "image/png": "[encoded data removed]",
            "text/plain": [
              "<Figure size 432x288 with 1 Axes>"
            ]
          },
          "metadata": {
            "tags": []
          }
        },
        {
          "output_type": "display_data",
          "data": {
            "image/png": "[encoded data removed]",
            "text/plain": [
              "<Figure size 432x288 with 1 Axes>"
            ]
          },
          "metadata": {
            "tags": []
          }
        },
        {
          "output_type": "stream",
          "text": [
            "Model: \"BaseNet Model 2\"\n",
            "_________________________________________________________________\n",
            "Layer (type)                 Output Shape              Param #   \n",
            "=================================================================\n",
            "conv2d_9 (Conv2D)            (None, 32, 32, 32)        896       \n",
            "_________________________________________________________________\n",
            "conv2d_10 (Conv2D)           (None, 30, 30, 32)        9248      \n",
            "_________________________________________________________________\n",
            "max_pooling2d_9 (MaxPooling2 (None, 15, 15, 32)        0         \n",
            "_________________________________________________________________\n",
            "dropout_1 (Dropout)          (None, 15, 15, 32)        0         \n",
            "_________________________________________________________________\n",
            "conv2d_11 (Conv2D)           (None, 15, 15, 64)        18496     \n",
            "_________________________________________________________________\n",
            "conv2d_12 (Conv2D)           (None, 13, 13, 64)        36928     \n",
            "_________________________________________________________________\n",
            "max_pooling2d_10 (MaxPooling (None, 6, 6, 64)          0         \n",
            "_________________________________________________________________\n",
            "dropout_2 (Dropout)          (None, 6, 6, 64)          0         \n",
            "_________________________________________________________________\n",
            "flatten_5 (Flatten)          (None, 2304)              0         \n",
            "_________________________________________________________________\n",
            "dense_9 (Dense)              (None, 512)               1180160   \n",
            "_________________________________________________________________\n",
            "dropout_3 (Dropout)          (None, 512)               0         \n",
            "_________________________________________________________________\n",
            "dense_10 (Dense)             (None, 25)                12825     \n",
            "=================================================================\n",
            "Total params: 1,258,553\n",
            "Trainable params: 1,258,553\n",
            "Non-trainable params: 0\n",
            "_________________________________________________________________\n",
            "# TEST RESULTS\n",
            "Test loss:  1.0401051494598388\n",
            "Test accuracy:  0.6808\n"
          ],
          "name": "stdout"
        },
        {
          "output_type": "display_data",
          "data": {
            "image/png": "[encoded data removed]",
            "text/plain": [
              "<Figure size 432x288 with 1 Axes>"
            ]
          },
          "metadata": {
            "tags": []
          }
        },
        {
          "output_type": "display_data",
          "data": {
            "image/png": "[encoded data removed]",
            "text/plain": [
              "<Figure size 432x288 with 1 Axes>"
            ]
          },
          "metadata": {
            "tags": []
          }
        }
      ]
    }
  ]
}