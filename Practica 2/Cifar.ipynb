{
 "cells": [
  {
   "cell_type": "markdown",
   "metadata": {},
   "source": [
    "## Imports"
   ]
  },
  {
   "cell_type": "code",
   "execution_count": 1,
   "metadata": {},
   "outputs": [
    {
     "name": "stderr",
     "output_type": "stream",
     "text": [
      "Using TensorFlow backend.\n"
     ]
    }
   ],
   "source": [
    "import numpy as np\n",
    "import keras\n",
    "import matplotlib.pyplot as plt\n",
    "import keras.utils as np_utils\n",
    "# Import optimizer\n",
    "from keras.optimizers import SGD\n",
    "# Import data\n",
    "from keras.datasets import cifar100\n",
    "# Import models and layers\n",
    "from keras.models import Sequential\n",
    "from keras.layers import Dense, Dropout, Flatten\n",
    "from keras.layers import Conv2D, MaxPooling2D"
   ]
  },
  {
   "cell_type": "markdown",
   "metadata": {},
   "source": [
    "## Auxiliar functions"
   ]
  },
  {
   "cell_type": "markdown",
   "metadata": {},
   "source": [
    "Configures the model.\n",
    "Args:\n",
    "+ ```optimizer:``` Optimizer function.\n",
    "+ ```loss:``` Loss function.\n",
    "+ ```metrics:``` Metric function."
   ]
  },
  {
   "cell_type": "code",
   "execution_count": 2,
   "metadata": {},
   "outputs": [],
   "source": [
    "def compile(model, loss, optimizer, metrics):\n",
    "    model.compile(loss = loss,\n",
    "                  optimizer = optimizer,\n",
    "                  metrics = metrics)"
   ]
  },
  {
   "cell_type": "markdown",
   "metadata": {},
   "source": [
    "Trains the given model.\n",
    "\n",
    "args:\n",
    "+ ```model:``` Model to train.\n",
    "+ ```batch_size:```\n",
    "+ ```epochs:``` \n",
    "+ ```data:``` Given by ```x_train```, ```x_test```, ```y_train``` and ```y_test```"
   ]
  },
  {
   "cell_type": "code",
   "execution_count": 3,
   "metadata": {},
   "outputs": [],
   "source": [
    "def train(model, batch_size, epochs, x_train, y_train, x_test, y_test):\n",
    "    history = model.fit(x_train, y_train,\n",
    "          batch_size=batch_size,\n",
    "          epochs=epochs,\n",
    "          verbose=1,\n",
    "          validation_data=(x_test, y_test))\n",
    "    return history"
   ]
  },
  {
   "cell_type": "markdown",
   "metadata": {},
   "source": [
    "Shows model results in test partition."
   ]
  },
  {
   "cell_type": "code",
   "execution_count": 4,
   "metadata": {},
   "outputs": [],
   "source": [
    "def results(model, x_test, y_test):\n",
    "    score = model.evaluate(x_test, y_test, verbose=0)\n",
    "    print('Test loss: ', score[0])\n",
    "    print('Test accuracy: ', score[1])"
   ]
  },
  {
   "cell_type": "markdown",
   "metadata": {},
   "source": [
    "Calculates model accuracy."
   ]
  },
  {
   "cell_type": "code",
   "execution_count": 5,
   "metadata": {},
   "outputs": [],
   "source": [
    "def calAccuracy(labels, preds):\n",
    "    labels = np.argmax(labels, axis = 1)\n",
    "    preds = np.argmas(preds, axis = 1)\n",
    "    \n",
    "    return sum(labels==preds)/len(labels)"
   ]
  },
  {
   "cell_type": "markdown",
   "metadata": {},
   "source": [
    "Esta función pinta dos gráficas\n",
    "+ La evolución de la función de pérdida en el conjunto de train y en el de validación.\n",
    "+ La evolución del accuracy en el conjunto de train y el de validación.\n",
    "\n",
    "Parmámetros\n",
    "+ ```hist```: Historial del entrenamiento del modelo"
   ]
  },
  {
   "cell_type": "code",
   "execution_count": 11,
   "metadata": {},
   "outputs": [],
   "source": [
    "def showEvolution(hist):\n",
    "    loss = hist.history['loss']\n",
    "    val_loss = hist.history['val_loss']\n",
    "    plt.plot(loss)\n",
    "    plt.plot(val_loss)\n",
    "    plt.legend(['Training loss', 'Validation loss'])\n",
    "    plt.show()\n",
    "    \n",
    "    acc = hist.history['accuracy']\n",
    "    val_acc = hist.history['val_accuracy']\n",
    "    plt.plot(acc)\n",
    "    plt.plot(val_acc)\n",
    "    plt.legend(['Training accuracy', 'Validation accuracy'])"
   ]
  },
  {
   "cell_type": "markdown",
   "metadata": {},
   "source": [
    "# Exercise 1"
   ]
  },
  {
   "cell_type": "markdown",
   "metadata": {},
   "source": [
    "## Load Data."
   ]
  },
  {
   "cell_type": "code",
   "execution_count": 7,
   "metadata": {},
   "outputs": [],
   "source": [
    "def loadCifrarData():\n",
    "    # Load Data\n",
    "    (x_train, y_train), (x_test, y_test) = cifar100.load_data(label_mode='fine')\n",
    "\n",
    "    # Transform to float and normalize\n",
    "    x_train = x_train.astype('float32')\n",
    "    x_test = x_test.astype('float32')\n",
    "    x_train /= 255\n",
    "    x_test /= 255\n",
    "    \n",
    "    # We will use only 25 classes.\n",
    "    train_idx = np.isin(y_train, np.arange(25))\n",
    "    train_idx = np.reshape(train_idx, -1)\n",
    "    x_train = x_train[train_idx]\n",
    "    y_train = y_train[train_idx]\n",
    "    test_idx = np.isin(y_test, np.arange(25))\n",
    "    test_idx = np.reshape(test_idx, -1)\n",
    "    x_test = x_test[test_idx]\n",
    "    y_test = y_test[test_idx]\n",
    "    \n",
    "    # Pass variables to cathegorical\n",
    "    y_train = np_utils.to_categorical(y_train, 25)\n",
    "    y_test = np_utils.to_categorical(y_test, 25)\n",
    "    \n",
    "    return x_train, y_train, x_test, y_test"
   ]
  },
  {
   "cell_type": "markdown",
   "metadata": {},
   "source": [
    "## Model Definition"
   ]
  },
  {
   "cell_type": "code",
   "execution_count": 8,
   "metadata": {},
   "outputs": [],
   "source": [
    "def baseNetModel():\n",
    "    model = Sequential()\n",
    "    model.name = 'BaseNet Model'\n",
    "    model.add(Conv2D(6, kernel_size=(5, 5),\n",
    "                     activation='relu',\n",
    "                     input_shape=(32,32,3)))\n",
    "    model.add(MaxPooling2D(pool_size=(2, 2)))\n",
    "    model.add(Conv2D(16, kernel_size=(5,5), \n",
    "                    activation='relu'))\n",
    "    model.add(MaxPooling2D(pool_size=(2,2)))\n",
    "    model.add(Flatten())\n",
    "    model.add(Dense(50, activation='relu'))\n",
    "    model.add(Dense(25, activation='softmax'))\n",
    "    \n",
    "    return model"
   ]
  },
  {
   "cell_type": "markdown",
   "metadata": {},
   "source": [
    "## Model train and test"
   ]
  },
  {
   "cell_type": "code",
   "execution_count": 9,
   "metadata": {},
   "outputs": [],
   "source": [
    "def ej1():\n",
    "    model = baseNetModel()\n",
    "    model.summary()\n",
    "    compile(model,\n",
    "        keras.losses.categorical_crossentropy,\n",
    "        SGD(lr = 0.01, decay = 1e-6, momentum=0.9, nesterov=True),\n",
    "        ['accuracy'])\n",
    "    data = loadCifrarData()\n",
    "    history = train(model, 128,\n",
    "          10,\n",
    "          *data)\n",
    "    results(model, *data[:2])\n",
    "    showEvolution(history)"
   ]
  },
  {
   "cell_type": "markdown",
   "metadata": {},
   "source": [
    "# Main function"
   ]
  },
  {
   "cell_type": "code",
   "execution_count": 12,
   "metadata": {},
   "outputs": [
    {
     "name": "stdout",
     "output_type": "stream",
     "text": [
      "Model: \"BaseNet Model\"\n",
      "_________________________________________________________________\n",
      "Layer (type)                 Output Shape              Param #   \n",
      "=================================================================\n",
      "conv2d_3 (Conv2D)            (None, 28, 28, 6)         456       \n",
      "_________________________________________________________________\n",
      "max_pooling2d_3 (MaxPooling2 (None, 14, 14, 6)         0         \n",
      "_________________________________________________________________\n",
      "conv2d_4 (Conv2D)            (None, 10, 10, 16)        2416      \n",
      "_________________________________________________________________\n",
      "max_pooling2d_4 (MaxPooling2 (None, 5, 5, 16)          0         \n",
      "_________________________________________________________________\n",
      "flatten_2 (Flatten)          (None, 400)               0         \n",
      "_________________________________________________________________\n",
      "dense_3 (Dense)              (None, 50)                20050     \n",
      "_________________________________________________________________\n",
      "dense_4 (Dense)              (None, 25)                1275      \n",
      "=================================================================\n",
      "Total params: 24,197\n",
      "Trainable params: 24,197\n",
      "Non-trainable params: 0\n",
      "_________________________________________________________________\n",
      "Train on 12500 samples, validate on 2500 samples\n",
      "Epoch 1/10\n",
      "12500/12500 [==============================] - 4s 339us/step - loss: 3.1339 - accuracy: 0.0847 - val_loss: 3.0123 - val_accuracy: 0.1296\n",
      "Epoch 2/10\n",
      "12500/12500 [==============================] - 4s 336us/step - loss: 2.8871 - accuracy: 0.1662 - val_loss: 2.7387 - val_accuracy: 0.2008\n",
      "Epoch 3/10\n",
      "12500/12500 [==============================] - 4s 338us/step - loss: 2.6215 - accuracy: 0.2390 - val_loss: 2.4854 - val_accuracy: 0.2704\n",
      "Epoch 4/10\n",
      "12500/12500 [==============================] - 4s 332us/step - loss: 2.4601 - accuracy: 0.2857 - val_loss: 2.4188 - val_accuracy: 0.2968\n",
      "Epoch 5/10\n",
      "12500/12500 [==============================] - 4s 333us/step - loss: 2.3651 - accuracy: 0.3146 - val_loss: 2.3340 - val_accuracy: 0.3232\n",
      "Epoch 6/10\n",
      "12500/12500 [==============================] - 4s 332us/step - loss: 2.2802 - accuracy: 0.3373 - val_loss: 2.3025 - val_accuracy: 0.3452\n",
      "Epoch 7/10\n",
      "12500/12500 [==============================] - 4s 341us/step - loss: 2.1930 - accuracy: 0.3601 - val_loss: 2.2203 - val_accuracy: 0.3792\n",
      "Epoch 8/10\n",
      "12500/12500 [==============================] - 4s 329us/step - loss: 2.1147 - accuracy: 0.3826 - val_loss: 2.2039 - val_accuracy: 0.3692\n",
      "Epoch 9/10\n",
      "12500/12500 [==============================] - 4s 338us/step - loss: 2.0329 - accuracy: 0.4021 - val_loss: 2.1401 - val_accuracy: 0.3756\n",
      "Epoch 10/10\n",
      "12500/12500 [==============================] - 4s 338us/step - loss: 1.9649 - accuracy: 0.4236 - val_loss: 2.0991 - val_accuracy: 0.3968\n",
      "Test loss:  1.8824137679672241\n",
      "Test accuracy:  0.44047999382019043\n"
     ]
    },
    {
     "data": {
      "image/png": "[encoded data removed]",
      "text/plain": [
       "<Figure size 432x288 with 1 Axes>"
      ]
     },
     "metadata": {
      "needs_background": "light"
     },
     "output_type": "display_data"
    },
    {
     "data": {
      "image/png": "[encoded data removed]",
      "text/plain": [
       "<Figure size 432x288 with 1 Axes>"
      ]
     },
     "metadata": {
      "needs_background": "light"
     },
     "output_type": "display_data"
    }
   ],
   "source": [
    "def main():\n",
    "    ej1()\n",
    "    \n",
    "main()"
   ]
  },
  {
   "cell_type": "code",
   "execution_count": null,
   "metadata": {},
   "outputs": [],
   "source": []
  }
 ],
 "metadata": {
  "kernelspec": {
   "display_name": "py_36_env",
   "language": "python",
   "name": "py_36_env"
  },
  "language_info": {
   "codemirror_mode": {
    "name": "ipython",
    "version": 3
   },
   "file_extension": ".py",
   "mimetype": "text/x-python",
   "name": "python",
   "nbconvert_exporter": "python",
   "pygments_lexer": "ipython3",
   "version": "3.6.9"
  },
  "toc": {
   "base_numbering": 1,
   "nav_menu": {},
   "number_sections": true,
   "sideBar": true,
   "skip_h1_title": false,
   "title_cell": "Table of Contents",
   "title_sidebar": "Contents",
   "toc_cell": false,
   "toc_position": {
    "height": "802px",
    "left": "1210px",
    "top": "113px",
    "width": "316px"
   },
   "toc_section_display": true,
   "toc_window_display": true
  }
 },
 "nbformat": 4,
 "nbformat_minor": 2
}
