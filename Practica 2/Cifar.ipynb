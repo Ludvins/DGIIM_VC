{
  "nbformat": 4,
  "nbformat_minor": 0,
  "metadata": {
    "accelerator": "GPU",
    "colab": {
      "name": "Cifar.ipynb",
      "provenance": [],
      "collapsed_sections": [],
      "toc_visible": true,
      "include_colab_link": true
    },
    "kernelspec": {
      "name": "python3",
      "display_name": "Python 3"
    },
    "toc": {
      "base_numbering": 1,
      "nav_menu": {},
      "number_sections": true,
      "sideBar": true,
      "skip_h1_title": false,
      "title_cell": "Table of Contents",
      "title_sidebar": "Contents",
      "toc_cell": false,
      "toc_position": {
        "height": "802px",
        "left": "1210px",
        "top": "113px",
        "width": "316px"
      },
      "toc_section_display": true,
      "toc_window_display": true
    }
  },
  "cells": [
    {
      "cell_type": "markdown",
      "metadata": {
        "id": "view-in-github",
        "colab_type": "text"
      },
      "source": [
        "<a href=\"https://colab.research.google.com/github/Ludvins/VC/blob/master/Practica%202/Cifar.ipynb\" target=\"_parent\"><img src=\"https://colab.research.google.com/assets/colab-badge.svg\" alt=\"Open In Colab\"/></a>"
      ]
    },
    {
      "cell_type": "markdown",
      "metadata": {
        "colab_type": "text",
        "id": "CHnD8CrauI0A"
      },
      "source": [
        "## Imports"
      ]
    },
    {
      "cell_type": "code",
      "metadata": {
        "colab_type": "code",
        "id": "jwH9nSY5uI0D",
        "outputId": "9e17d641-8860-413c-96ff-37ba96939793",
        "colab": {
          "base_uri": "https://localhost:8080/",
          "height": 34
        }
      },
      "source": [
        "import numpy as np\n",
        "import keras\n",
        "import matplotlib.pyplot as plt\n",
        "import keras.utils as np_utils\n",
        "# Import optimizer\n",
        "from keras.optimizers import SGD\n",
        "# Import data\n",
        "from keras.datasets import cifar100\n",
        "# Import models and layers\n",
        "from keras.models import Sequential, Model\n",
        "from keras.layers import Dense, Dropout, Flatten\n",
        "from keras.layers import Conv2D, MaxPooling2D, Activation, BatchNormalization\n",
        "# Import image proprocessors\n",
        "from keras.preprocessing.image import ImageDataGenerator\n",
        "# Import Resnet\n",
        "from keras.applications.resnet50 import ResNet50\n",
        "# Import Early Stopping\n",
        "from keras.callbacks import EarlyStopping\n",
        "# Show no TensorFlow deprecation warnings\n",
        "import tensorflow.compat.v1 as tf\n",
        "tf.logging.set_verbosity(tf.logging.ERROR)\n",
        "# Drive mount\n",
        "from google.colab import drive\n",
        "drive.mount('/content/drive', force_remount=True)"
      ],
      "execution_count": 7,
      "outputs": [
        {
          "output_type": "stream",
          "text": [
            "Mounted at /content/drive\n"
          ],
          "name": "stdout"
        }
      ]
    },
    {
      "cell_type": "code",
      "metadata": {
        "colab_type": "code",
        "id": "tSVPlqvPa3nb",
        "colab": {
          "base_uri": "https://localhost:8080/",
          "height": 34
        },
        "outputId": "586e0156-4ef1-490e-da29-e687e18a5bac"
      },
      "source": [
        "!unzip -q \"/content/drive/My Drive/VC/Caltech\" -d \"/content/drive/My Drive/VC\" ;"
      ],
      "execution_count": 8,
      "outputs": [
        {
          "output_type": "stream",
          "text": [
            "unzip:  cannot find or open /content/drive/My Drive/VC/Caltech, /content/drive/My Drive/VC/Caltech.zip or /content/drive/My Drive/VC/Caltech.ZIP.\n"
          ],
          "name": "stdout"
        }
      ]
    },
    {
      "cell_type": "code",
      "metadata": {
        "id": "Fk5ee2GhI5vO",
        "colab_type": "code",
        "colab": {}
      },
      "source": [
        "path =  \"/content/drive/My Drive/VC/\""
      ],
      "execution_count": 0,
      "outputs": []
    },
    {
      "cell_type": "markdown",
      "metadata": {
        "colab_type": "text",
        "id": "MfYoiSUHuI0P"
      },
      "source": [
        "## Auxiliar functions"
      ]
    },
    {
      "cell_type": "markdown",
      "metadata": {
        "id": "S2-xzwaXSJV0",
        "colab_type": "text"
      },
      "source": [
        "Loads Cifar data."
      ]
    },
    {
      "cell_type": "code",
      "metadata": {
        "colab_type": "code",
        "id": "yLYMUmozuI09",
        "colab": {}
      },
      "source": [
        "def load_cifar_data():\n",
        "    # Load Data\n",
        "    (x_train, y_train), (x_test, y_test) = cifar100.load_data(label_mode='fine')\n",
        "\n",
        "    # Transform to float and normalize\n",
        "    x_train = x_train.astype('float32')\n",
        "    x_test = x_test.astype('float32')\n",
        "    x_train /= 255\n",
        "    x_test /= 255\n",
        "    \n",
        "    # We will use only 25 classes.\n",
        "    train_idx = np.isin(y_train, np.arange(25))\n",
        "    train_idx = np.reshape(train_idx, -1)\n",
        "    x_train = x_train[train_idx]\n",
        "    y_train = y_train[train_idx]\n",
        "    test_idx = np.isin(y_test, np.arange(25))\n",
        "    test_idx = np.reshape(test_idx, -1)\n",
        "    x_test = x_test[test_idx]\n",
        "    y_test = y_test[test_idx]\n",
        "    \n",
        "    # Set labels to cathegorical\n",
        "    y_train = np_utils.to_categorical(y_train, 25)\n",
        "    y_test = np_utils.to_categorical(y_test, 25)\n",
        "    \n",
        "    return x_train, y_train, x_test, y_test"
      ],
      "execution_count": 0,
      "outputs": []
    },
    {
      "cell_type": "markdown",
      "metadata": {
        "id": "wfJ0wZTKM38y",
        "colab_type": "text"
      },
      "source": [
        "Returns images and classes in `relative_path`.\n",
        "\n",
        "\n",
        "\n",
        "\n",
        "\n"
      ]
    },
    {
      "cell_type": "code",
      "metadata": {
        "id": "5GpXf5XzJINp",
        "colab_type": "code",
        "colab": {}
      },
      "source": [
        "def read_img (relative_path):\n",
        "    classes = np.array([im.split('/')[0] for im in relative_path])\n",
        "    vim = np.array([img_to_array(load_img(DIR + im, target_size = INPUT_SIZE)) \n",
        "                    for im in relative_path])\n",
        "\n",
        "    return vim, classes"
      ],
      "execution_count": 0,
      "outputs": []
    },
    {
      "cell_type": "markdown",
      "metadata": {
        "id": "bH6p-wxoJmvk",
        "colab_type": "text"
      },
      "source": [
        "Reads `Caltech` data in `x_train`, `y_train`, `x_test` y `y_test`"
      ]
    },
    {
      "cell_type": "code",
      "metadata": {
        "colab_type": "code",
        "id": "gzvGRshwJEW8",
        "colab": {}
      },
      "source": [
        "def load_caltech_data():\n",
        "\n",
        "    # Load files with paths\n",
        "    train_path = np.loadtxt(path + \"train.txt\", dtype = str)\n",
        "    test_path = np.loadtxt(path + \"test.txt\", dtype = str)\n",
        "\n",
        "    # Read imgs\n",
        "    x_train, y_train = read_im(train_path)\n",
        "    x_test, y_test = read_im(test_path)\n",
        "\n",
        "    # Set classes to numerical\n",
        "    unique_classes = np.unique(np.copy(y_train))\n",
        "    for i in range(len(unique_classes)):\n",
        "      y_train[train_classes == unique_classes[i]] = i\n",
        "      y_test[test_classes == unique_classes[i]] = i\n",
        "\n",
        "    # Convertimos los vectores de clases en matrices binarias\n",
        "    y_train = np_utils.to_categorical(y_train, N)\n",
        "    y_test = np_utils.to_categorical(y_test, N)\n",
        "\n",
        "    # Barajamos los datos\n",
        "    x_train_perm = np.random.permutation(len(x_train))\n",
        "    x_train = x_train[x_train_perm]\n",
        "    y_train = y_train[train_perm]\n",
        "\n",
        "    x_test_perm = np.random.permutation(len(x_test))\n",
        "    x_test = x_test[x_test_perm]\n",
        "    y_test = y_test_classes[y_test_perm]\n",
        "\n",
        "    return x_train, y_train, x_test, y_test"
      ],
      "execution_count": 0,
      "outputs": []
    },
    {
      "cell_type": "markdown",
      "metadata": {
        "colab_type": "text",
        "id": "RDI3JJQguI0j"
      },
      "source": [
        "Shows model results in test partition."
      ]
    },
    {
      "cell_type": "code",
      "metadata": {
        "colab_type": "code",
        "id": "dOT6vukyuI0l",
        "colab": {}
      },
      "source": [
        "def evaluate(model, x_test, y_test, verbose = 0):\n",
        "    score = model.evaluate(x_test, y_test, verbose=verbose)\n",
        "    print(\"# TEST RESULTS\")\n",
        "    print('Test loss: ', score[0])\n",
        "    print('Test accuracy: ', score[1])"
      ],
      "execution_count": 0,
      "outputs": []
    },
    {
      "cell_type": "markdown",
      "metadata": {
        "colab_type": "text",
        "id": "eNSgIJ74uI0y"
      },
      "source": [
        "Draws two graphics.\n",
        "+ Loss function evolution.\n",
        "+ Accuracy function evolution.\n",
        "\n",
        "Args:\n",
        "+ ```hist```: Training records"
      ]
    },
    {
      "cell_type": "code",
      "metadata": {
        "colab_type": "code",
        "id": "WcGNHonluI00",
        "colab": {}
      },
      "source": [
        "def show_evolution(hist):\n",
        "    loss = hist.history['loss']\n",
        "    val_loss = hist.history['val_loss']\n",
        "    plt.plot(loss)\n",
        "    plt.plot(val_loss)\n",
        "    plt.legend(['Training loss', 'Validation loss'])\n",
        "    plt.show()\n",
        "    \n",
        "    acc = hist.history['acc']\n",
        "    val_acc = hist.history['val_acc']\n",
        "    plt.plot(acc)\n",
        "    plt.plot(val_acc)\n",
        "    plt.legend(['Training accuracy', 'Validation accuracy'])\n",
        "    plt.show()"
      ],
      "execution_count": 0,
      "outputs": []
    },
    {
      "cell_type": "markdown",
      "metadata": {
        "id": "w_2aBudzEHcV",
        "colab_type": "text"
      },
      "source": [
        "Draws the same graphics as ```show_evolution``` but using a list of records ```hist```."
      ]
    },
    {
      "cell_type": "code",
      "metadata": {
        "colab_type": "code",
        "id": "0j1qXmeOXejh",
        "colab": {}
      },
      "source": [
        "def compare_evolution(hist, names):\n",
        "\n",
        "    for i in hist:\n",
        "        val_loss = i.history['val_loss']\n",
        "        plt.plot(val_loss)\n",
        "\n",
        "    plt.legend([\"Validation loss \" + names[i] for i in range(len(hist))])\n",
        "    plt.show()\n",
        "\n",
        "    for i in hist:\n",
        "        val_acc = i.history['val_acc']\n",
        "        plt.plot(val_acc)\n",
        "\n",
        "    plt.legend([\"Validation accuracy \" + names[i] for i in range(len(hist))])\n",
        "    plt.show()"
      ],
      "execution_count": 0,
      "outputs": []
    },
    {
      "cell_type": "markdown",
      "metadata": {
        "colab_type": "text",
        "id": "lZ3shUL8uI08"
      },
      "source": [
        "## Data generators"
      ]
    },
    {
      "cell_type": "code",
      "metadata": {
        "id": "fZI0_qbR3W7Q",
        "colab_type": "code",
        "colab": {}
      },
      "source": [
        "def basic_data_generator():\n",
        "    datagen = ImageDataGenerator(validation_split = 0.1)\n",
        "    return datagen"
      ],
      "execution_count": 0,
      "outputs": []
    },
    {
      "cell_type": "code",
      "metadata": {
        "id": "Ub5Kfmxm3L4j",
        "colab_type": "code",
        "colab": {}
      },
      "source": [
        "def complex_data_generator():\n",
        "  datagen = ImageDataGenerator(\n",
        "      featurewise_center = True,             # set input mean to 0 over the dataset\n",
        "      samplewise_center = False,             # set each sample mean to 0\n",
        "      featurewise_std_normalization = True,  # divide inputs by std of the dataset\n",
        "      samplewise_std_normalization = False,  # divide each input by its std\n",
        "      zca_whitening = False,                 # apply ZCA whitening\n",
        "      zca_epsilon = 1e-06,                   # epsilon for ZCA whitening\n",
        "      rotation_range = 0,                    # randomly rotate images in the range (degrees, 0 to 180)\n",
        "      width_shift_range = 0.1,               # randomly shift images horizontally (fraction of total width)\n",
        "      height_shift_range = 0.1,              # randomly shift images vertically (fraction of total height)\n",
        "      shear_range = 0.,                      # set range for random shear\n",
        "      zoom_range = 0.,                       # set range for random zoom\n",
        "      channel_shift_range = 0.,              # set range for random channel shifts\n",
        "      fill_mode = 'nearest',                 # set mode for filling points outside the input boundaries\n",
        "      cval = 0.,                             # value used for fill_mode = \"constant\"\n",
        "      horizontal_flip = True,                # randomly flip images\n",
        "      vertical_flip = False,                 # randomly flip images\n",
        "      rescale = None,                        # set rescaling factor (applied before any other transformation)\n",
        "      preprocessing_function = None,         # set function that will be applied on each input\n",
        "      data_format = None,                    # image data format, either \"channels_first\" or \"channels_last\"\n",
        "      validation_split = 0.1)                # fraction of images reserved for validation (strictly between 0 and 1)\n",
        "  return datagen\n",
        "\n",
        "  # Whitening test, slow and no improvement."
      ],
      "execution_count": 0,
      "outputs": []
    },
    {
      "cell_type": "markdown",
      "metadata": {
        "colab_type": "text",
        "id": "iOBt6EoTuI1D"
      },
      "source": [
        "## Model definitions"
      ]
    },
    {
      "cell_type": "code",
      "metadata": {
        "colab_type": "code",
        "id": "sHgIRJ8_uI1F",
        "colab": {}
      },
      "source": [
        "def base_net_model(name = 'BaseNet Model'):\n",
        "    model = Sequential()\n",
        "    model.name = name\n",
        "    model.add(Conv2D(6, kernel_size=(5, 5),\n",
        "                     activation='relu',\n",
        "                     input_shape=(32,32,3)))\n",
        "    model.add(MaxPooling2D(pool_size=(2, 2)))\n",
        "    model.add(Conv2D(16, kernel_size=(5,5), \n",
        "                    activation='relu'))\n",
        "    model.add(MaxPooling2D(pool_size=(2,2)))\n",
        "    model.add(Flatten())\n",
        "    model.add(Dense(50, activation='relu'))\n",
        "    model.add(Dense(25, activation='softmax'))\n",
        "    \n",
        "    return model"
      ],
      "execution_count": 0,
      "outputs": []
    },
    {
      "cell_type": "code",
      "metadata": {
        "colab_type": "code",
        "id": "t6uh69G0uI1M",
        "colab": {}
      },
      "source": [
        "def base_net_model2(name = 'BaseNet Model 2'):\n",
        "    model = Sequential()\n",
        "    model.name = name\n",
        "    model.add(Conv2D(32, (3, 3), padding='same', activation = 'relu', input_shape=(32,32,3)))\n",
        "    model.add(Conv2D(32, (3, 3), activation='relu'))\n",
        "    model.add(MaxPooling2D(pool_size=(2, 2)))\n",
        "    model.add(Dropout(0.25))\n",
        "\n",
        "    model.add(Conv2D(64, (3, 3), padding='same', activation='relu'))\n",
        "    model.add(Conv2D(64, (3, 3), activation='relu'))\n",
        "    model.add(MaxPooling2D(pool_size=(2, 2)))\n",
        "    model.add(Dropout(0.25))\n",
        "\n",
        "    model.add(Flatten())\n",
        "    model.add(Dense(512, activation='relu'))\n",
        "    model.add(Dropout(0.5))\n",
        "    model.add(Dense(25, activation='softmax'))\n",
        "\n",
        "    return model"
      ],
      "execution_count": 0,
      "outputs": []
    },
    {
      "cell_type": "code",
      "metadata": {
        "id": "NDhCVcLuG_6r",
        "colab_type": "code",
        "colab": {}
      },
      "source": [
        "def base_net_model3(name = 'BaseNet Model 3'):\n",
        "    model = Sequential()\n",
        "    model.name = name\n",
        "    model.add(Conv2D(32, (3, 3), padding='same', activation = 'relu', input_shape=(32,32,3)))\n",
        "    model.add(BatchNormalization())\n",
        "    model.add(Conv2D(32, (3, 3), activation='relu'))\n",
        "    model.add(BatchNormalization())\n",
        "    model.add(MaxPooling2D(pool_size=(2, 2)))\n",
        "    model.add(Dropout(0.25))\n",
        "\n",
        "    model.add(Conv2D(64, (3, 3), padding='same', activation='relu'))\n",
        "    model.add(BatchNormalization())\n",
        "    model.add(Conv2D(64, (3, 3), activation='relu'))\n",
        "    model.add(BatchNormalization())\n",
        "    model.add(MaxPooling2D(pool_size=(2, 2)))\n",
        "    model.add(Dropout(0.25))\n",
        "\n",
        "    model.add(Flatten())\n",
        "    model.add(Dense(512, activation='relu'))\n",
        "    model.add(BatchNormalization())\n",
        "    model.add(Dropout(0.5))\n",
        "    model.add(Dense(25, activation='softmax'))\n",
        "\n",
        "    return model"
      ],
      "execution_count": 0,
      "outputs": []
    },
    {
      "cell_type": "code",
      "metadata": {
        "id": "dRl3OWmPHCl6",
        "colab_type": "code",
        "colab": {}
      },
      "source": [
        "def base_net_model4(name = 'BaseNet Model 4'):\n",
        "    model = Sequential()\n",
        "    model.name = name\n",
        "    model.add(Conv2D(32, (3, 3), padding='same', input_shape=(32,32,3)))\n",
        "    model.add(BatchNormalization())\n",
        "    model.add(Activation('relu'))\n",
        "    model.add(Conv2D(32, (3, 3)))\n",
        "    model.add(BatchNormalization())\n",
        "    model.add(Activation('relu'))\n",
        "    model.add(MaxPooling2D(pool_size=(2, 2)))\n",
        "    model.add(Dropout(0.25))\n",
        "\n",
        "    model.add(Conv2D(64, (3, 3), padding='same'))\n",
        "    model.add(BatchNormalization())\n",
        "    model.add(Activation('relu'))\n",
        "    model.add(Conv2D(64, (3, 3)))\n",
        "    model.add(BatchNormalization())\n",
        "    model.add(Activation('relu'))\n",
        "    model.add(MaxPooling2D(pool_size=(2, 2)))\n",
        "    model.add(Dropout(0.25))\n",
        "\n",
        "    model.add(Flatten())\n",
        "    model.add(Dense(512))\n",
        "    model.add(BatchNormalization())\n",
        "    model.add(Activation('relu'))\n",
        "    model.add(Dropout(0.5))\n",
        "    model.add(Dense(25, activation='softmax'))\n",
        "\n",
        "    return model"
      ],
      "execution_count": 0,
      "outputs": []
    },
    {
      "cell_type": "code",
      "metadata": {
        "id": "Kk4hy9MaSEms",
        "colab_type": "code",
        "colab": {}
      },
      "source": [
        "def res_net_model(name = 'ResNet modificado'):\n",
        "\n",
        "    base_model = ResNet50(weights='imagenet', include_top=False, pooling=None, input_shape=(224,224,3))\n",
        "    for layer in base_model.layers:\n",
        "      layer.trainable = False\n",
        "\n",
        "    model = Sequential()\n",
        "    model.add(base_model)\n",
        "\n",
        "    model.add(Conv2D(1204, (3, 3)))\n",
        "    model.add(BatchNormalization())\n",
        "    model.add(Activation('relu'))\n",
        "    model.add(Dense(512,\n",
        "                    activation = 'relu'))\n",
        "    model.add(BatchNormalization())\n",
        "    model.add(Dropout(0.5))\n",
        "    model.add(Dense(25, activation = 'softmax'))\n",
        "\n",
        "    return model"
      ],
      "execution_count": 0,
      "outputs": []
    },
    {
      "cell_type": "markdown",
      "metadata": {
        "colab_type": "text",
        "id": "hYpZHlMKuI1P"
      },
      "source": [
        "## Train function"
      ]
    },
    {
      "cell_type": "code",
      "metadata": {
        "id": "Nz4y5Qei7j5d",
        "colab_type": "code",
        "colab": {}
      },
      "source": [
        "def train_and_evaluate(model, data_generator, batch_size, load_data_function = load_cifar_data, epochs = 100, verbose = 0):\n",
        "\n",
        "    model.compile(\n",
        "        loss = keras.losses.categorical_crossentropy,\n",
        "        optimizer = SGD(lr = 0.01, decay = 1e-6, momentum = 0.9, nesterov = True),\n",
        "        metrics = ['accuracy']\n",
        "    )\n",
        "\n",
        "    x_train, y_train, x_test, y_test = load_data_function()\n",
        "    datagen = data_generator()\n",
        "    datagen.fit(x_train)\n",
        "    datagen.standardize(x_test)\n",
        "\n",
        "    h = model.fit_generator(\n",
        "                generator = datagen.flow(x_train, y_train, batch_size, subset='training'),\n",
        "                steps_per_epoch = len(x_train)*0.9/batch_size,\n",
        "                epochs = epochs,\n",
        "                validation_data = datagen.flow(x_train, y_train, batch_size, subset='validation'),\n",
        "                validation_steps = len(x_train)*0.1/batch_size,\n",
        "                verbose = verbose,\n",
        "                callbacks = [EarlyStopping(monitor = 'val_acc', patience = 10, restore_best_weights = True)]\n",
        "                )\n",
        "    evaluate(model, x_test, y_test)\n",
        "    return h\n",
        "    \n"
      ],
      "execution_count": 0,
      "outputs": []
    },
    {
      "cell_type": "markdown",
      "metadata": {
        "colab_type": "text",
        "id": "Zh19Sc9auI1V"
      },
      "source": [
        "# Main functions"
      ]
    },
    {
      "cell_type": "code",
      "metadata": {
        "id": "W98rZUeCCNiG",
        "colab_type": "code",
        "outputId": "f858f936-02fc-45ca-d9e7-bdad3d0bccd2",
        "colab": {
          "base_uri": "https://localhost:8080/",
          "height": 972
        }
      },
      "source": [
        "# Ejercicio 1\n",
        "m1 = base_net_model()\n",
        "m1.summary()\n",
        "h1 = train_and_evaluate(m1, basic_data_generator, 32)\n",
        "show_evolution(h1)"
      ],
      "execution_count": 0,
      "outputs": [
        {
          "output_type": "stream",
          "text": [
            "Model: \"BaseNet Model\"\n",
            "_________________________________________________________________\n",
            "Layer (type)                 Output Shape              Param #   \n",
            "=================================================================\n",
            "conv2d_21 (Conv2D)           (None, 28, 28, 6)         456       \n",
            "_________________________________________________________________\n",
            "max_pooling2d_17 (MaxPooling (None, 14, 14, 6)         0         \n",
            "_________________________________________________________________\n",
            "conv2d_22 (Conv2D)           (None, 10, 10, 16)        2416      \n",
            "_________________________________________________________________\n",
            "max_pooling2d_18 (MaxPooling (None, 5, 5, 16)          0         \n",
            "_________________________________________________________________\n",
            "flatten_9 (Flatten)          (None, 400)               0         \n",
            "_________________________________________________________________\n",
            "dense_17 (Dense)             (None, 50)                20050     \n",
            "_________________________________________________________________\n",
            "dense_18 (Dense)             (None, 25)                1275      \n",
            "=================================================================\n",
            "Total params: 24,197\n",
            "Trainable params: 24,197\n",
            "Non-trainable params: 0\n",
            "_________________________________________________________________\n",
            "# TEST RESULTS\n",
            "Test loss:  2.0828489528656005\n",
            "Test accuracy:  0.4048\n"
          ],
          "name": "stdout"
        },
        {
          "output_type": "display_data",
          "data": {
            "image/png": "[encoded data removed]",
            "text/plain": [
              "<Figure size 432x288 with 1 Axes>"
            ]
          },
          "metadata": {
            "tags": []
          }
        },
        {
          "output_type": "display_data",
          "data": {
            "image/png": "[encoded data removed]",
            "text/plain": [
              "<Figure size 432x288 with 1 Axes>"
            ]
          },
          "metadata": {
            "tags": []
          }
        }
      ]
    },
    {
      "cell_type": "code",
      "metadata": {
        "id": "vD6wAxngCW54",
        "colab_type": "code",
        "outputId": "bdf9e019-60af-414b-f27f-94a602598134",
        "colab": {
          "base_uri": "https://localhost:8080/",
          "height": 1000
        }
      },
      "source": [
        "# Ejercicio 2\n",
        "m2 = base_net_model()\n",
        "h2 = train_and_evaluate(m2, complex_data_generator, 32)\n",
        "\n",
        "compare_evolution([h1, h2], [\"basic\", \"complex\"])\n",
        "\n",
        "m3 = base_net_model2()\n",
        "m3.summary()\n",
        "h3 = train_and_evaluate(m3, complex_data_generator, 128)\n",
        "\n",
        "show_evolution(h3)"
      ],
      "execution_count": 0,
      "outputs": [
        {
          "output_type": "stream",
          "text": [
            "# TEST RESULTS\n",
            "Test loss:  1.934866170501709\n",
            "Test accuracy:  0.4388\n"
          ],
          "name": "stdout"
        },
        {
          "output_type": "display_data",
          "data": {
            "image/png": "[encoded data removed]",
            "text/plain": [
              "<Figure size 432x288 with 1 Axes>"
            ]
          },
          "metadata": {
            "tags": []
          }
        },
        {
          "output_type": "display_data",
          "data": {
            "image/png": "[encoded data removed]",
            "text/plain": [
              "<Figure size 432x288 with 1 Axes>"
            ]
          },
          "metadata": {
            "tags": []
          }
        },
        {
          "output_type": "stream",
          "text": [
            "Model: \"BaseNet Model 2\"\n",
            "_________________________________________________________________\n",
            "Layer (type)                 Output Shape              Param #   \n",
            "=================================================================\n",
            "conv2d_25 (Conv2D)           (None, 32, 32, 32)        896       \n",
            "_________________________________________________________________\n",
            "conv2d_26 (Conv2D)           (None, 30, 30, 32)        9248      \n",
            "_________________________________________________________________\n",
            "max_pooling2d_21 (MaxPooling (None, 15, 15, 32)        0         \n",
            "_________________________________________________________________\n",
            "dropout_7 (Dropout)          (None, 15, 15, 32)        0         \n",
            "_________________________________________________________________\n",
            "conv2d_27 (Conv2D)           (None, 15, 15, 64)        18496     \n",
            "_________________________________________________________________\n",
            "conv2d_28 (Conv2D)           (None, 13, 13, 64)        36928     \n",
            "_________________________________________________________________\n",
            "max_pooling2d_22 (MaxPooling (None, 6, 6, 64)          0         \n",
            "_________________________________________________________________\n",
            "dropout_8 (Dropout)          (None, 6, 6, 64)          0         \n",
            "_________________________________________________________________\n",
            "flatten_11 (Flatten)         (None, 2304)              0         \n",
            "_________________________________________________________________\n",
            "dense_21 (Dense)             (None, 512)               1180160   \n",
            "_________________________________________________________________\n",
            "dropout_9 (Dropout)          (None, 512)               0         \n",
            "_________________________________________________________________\n",
            "dense_22 (Dense)             (None, 25)                12825     \n",
            "=================================================================\n",
            "Total params: 1,258,553\n",
            "Trainable params: 1,258,553\n",
            "Non-trainable params: 0\n",
            "_________________________________________________________________\n",
            "# TEST RESULTS\n",
            "Test loss:  1.1159495369911194\n",
            "Test accuracy:  0.6536\n"
          ],
          "name": "stdout"
        },
        {
          "output_type": "display_data",
          "data": {
            "image/png": "[encoded data removed]",
            "text/plain": [
              "<Figure size 432x288 with 1 Axes>"
            ]
          },
          "metadata": {
            "tags": []
          }
        },
        {
          "output_type": "display_data",
          "data": {
            "image/png": "[encoded data removed]",
            "text/plain": [
              "<Figure size 432x288 with 1 Axes>"
            ]
          },
          "metadata": {
            "tags": []
          }
        }
      ]
    },
    {
      "cell_type": "code",
      "metadata": {
        "id": "wghImTXjHWYa",
        "colab_type": "code",
        "outputId": "31e1e330-d52a-4149-f9b5-b134bc0321d3",
        "colab": {
          "base_uri": "https://localhost:8080/",
          "height": 1000
        }
      },
      "source": [
        "# Diferencia entre BatchNormalization antes y despues de relu\n",
        "m3 = base_net_model3()\n",
        "m3.summary()\n",
        "h3 = train_and_evaluate(m3, complex_data_generator, 128, verbose=1)\n",
        "\n",
        "show_evolution(h3)\n",
        "\n",
        "m4 = base_net_model4()\n",
        "m4.summary()\n",
        "h4 = train_and_evaluate(m4, complex_data_generator, 128, verbose=1)\n",
        "\n",
        "show_evolution(h4)"
      ],
      "execution_count": 0,
      "outputs": [
        {
          "output_type": "stream",
          "text": [
            "Model: \"BaseNet Model 3\"\n",
            "_________________________________________________________________\n",
            "Layer (type)                 Output Shape              Param #   \n",
            "=================================================================\n",
            "conv2d_9 (Conv2D)            (None, 32, 32, 32)        896       \n",
            "_________________________________________________________________\n",
            "batch_normalization_11 (Batc (None, 32, 32, 32)        128       \n",
            "_________________________________________________________________\n",
            "conv2d_10 (Conv2D)           (None, 30, 30, 32)        9248      \n",
            "_________________________________________________________________\n",
            "batch_normalization_12 (Batc (None, 30, 30, 32)        128       \n",
            "_________________________________________________________________\n",
            "max_pooling2d_5 (MaxPooling2 (None, 15, 15, 32)        0         \n",
            "_________________________________________________________________\n",
            "dropout_7 (Dropout)          (None, 15, 15, 32)        0         \n",
            "_________________________________________________________________\n",
            "conv2d_11 (Conv2D)           (None, 15, 15, 64)        18496     \n",
            "_________________________________________________________________\n",
            "batch_normalization_13 (Batc (None, 15, 15, 64)        256       \n",
            "_________________________________________________________________\n",
            "conv2d_12 (Conv2D)           (None, 13, 13, 64)        36928     \n",
            "_________________________________________________________________\n",
            "batch_normalization_14 (Batc (None, 13, 13, 64)        256       \n",
            "_________________________________________________________________\n",
            "max_pooling2d_6 (MaxPooling2 (None, 6, 6, 64)          0         \n",
            "_________________________________________________________________\n",
            "dropout_8 (Dropout)          (None, 6, 6, 64)          0         \n",
            "_________________________________________________________________\n",
            "flatten_3 (Flatten)          (None, 2304)              0         \n",
            "_________________________________________________________________\n",
            "dense_5 (Dense)              (None, 512)               1180160   \n",
            "_________________________________________________________________\n",
            "batch_normalization_15 (Batc (None, 512)               2048      \n",
            "_________________________________________________________________\n",
            "dropout_9 (Dropout)          (None, 512)               0         \n",
            "_________________________________________________________________\n",
            "dense_6 (Dense)              (None, 25)                12825     \n",
            "=================================================================\n",
            "Total params: 1,261,369\n",
            "Trainable params: 1,259,961\n",
            "Non-trainable params: 1,408\n",
            "_________________________________________________________________\n",
            "Epoch 1/100\n",
            "88/87 [==============================] - 10s 112ms/step - loss: 3.2903 - acc: 0.1898 - val_loss: 2.8930 - val_acc: 0.2704\n",
            "Epoch 2/100\n",
            "88/87 [==============================] - 9s 98ms/step - loss: 2.5411 - acc: 0.2941 - val_loss: 2.2124 - val_acc: 0.3680\n",
            "Epoch 3/100\n",
            "88/87 [==============================] - 9s 102ms/step - loss: 2.2748 - acc: 0.3531 - val_loss: 2.0751 - val_acc: 0.4072\n",
            "Epoch 4/100\n",
            "88/87 [==============================] - 9s 102ms/step - loss: 2.1120 - acc: 0.3851 - val_loss: 1.9967 - val_acc: 0.4056\n",
            "Epoch 5/100\n",
            "88/87 [==============================] - 9s 100ms/step - loss: 1.9801 - acc: 0.4126 - val_loss: 1.8678 - val_acc: 0.4576\n",
            "Epoch 6/100\n",
            "88/87 [==============================] - 9s 102ms/step - loss: 1.8852 - acc: 0.4358 - val_loss: 1.7920 - val_acc: 0.4600\n",
            "Epoch 7/100\n",
            "88/87 [==============================] - 9s 103ms/step - loss: 1.8158 - acc: 0.4604 - val_loss: 1.7278 - val_acc: 0.4880\n",
            "Epoch 8/100\n",
            "88/87 [==============================] - 9s 102ms/step - loss: 1.7405 - acc: 0.4784 - val_loss: 1.6664 - val_acc: 0.5088\n",
            "Epoch 9/100\n",
            "88/87 [==============================] - 9s 101ms/step - loss: 1.6525 - acc: 0.5032 - val_loss: 1.5890 - val_acc: 0.5248\n",
            "Epoch 10/100\n",
            "88/87 [==============================] - 9s 102ms/step - loss: 1.6089 - acc: 0.5115 - val_loss: 1.5735 - val_acc: 0.5232\n",
            "Epoch 11/100\n",
            "88/87 [==============================] - 9s 102ms/step - loss: 1.5701 - acc: 0.5254 - val_loss: 1.5422 - val_acc: 0.5384\n",
            "Epoch 12/100\n",
            "88/87 [==============================] - 9s 101ms/step - loss: 1.4962 - acc: 0.5416 - val_loss: 1.5024 - val_acc: 0.5504\n",
            "Epoch 13/100\n",
            "88/87 [==============================] - 9s 102ms/step - loss: 1.4692 - acc: 0.5477 - val_loss: 1.4474 - val_acc: 0.5648\n",
            "Epoch 14/100\n",
            "88/87 [==============================] - 9s 101ms/step - loss: 1.4338 - acc: 0.5578 - val_loss: 1.4255 - val_acc: 0.5712\n",
            "Epoch 15/100\n",
            "88/87 [==============================] - 9s 102ms/step - loss: 1.3921 - acc: 0.5766 - val_loss: 1.3628 - val_acc: 0.5752\n",
            "Epoch 16/100\n",
            "88/87 [==============================] - 9s 104ms/step - loss: 1.3635 - acc: 0.5758 - val_loss: 1.3668 - val_acc: 0.5872\n",
            "Epoch 17/100\n",
            "88/87 [==============================] - 9s 105ms/step - loss: 1.3426 - acc: 0.5817 - val_loss: 1.4394 - val_acc: 0.5616\n",
            "Epoch 18/100\n",
            "88/87 [==============================] - 9s 104ms/step - loss: 1.3149 - acc: 0.5922 - val_loss: 1.3678 - val_acc: 0.6016\n",
            "Epoch 19/100\n",
            "88/87 [==============================] - 9s 105ms/step - loss: 1.2695 - acc: 0.6051 - val_loss: 1.2912 - val_acc: 0.6216\n",
            "Epoch 20/100\n",
            "88/87 [==============================] - 9s 104ms/step - loss: 1.2505 - acc: 0.6095 - val_loss: 1.3004 - val_acc: 0.6096\n",
            "Epoch 21/100\n",
            "88/87 [==============================] - 9s 106ms/step - loss: 1.2262 - acc: 0.6151 - val_loss: 1.3220 - val_acc: 0.6056\n",
            "Epoch 22/100\n",
            "88/87 [==============================] - 9s 105ms/step - loss: 1.2032 - acc: 0.6238 - val_loss: 1.2667 - val_acc: 0.6152\n",
            "Epoch 23/100\n",
            "88/87 [==============================] - 9s 103ms/step - loss: 1.1933 - acc: 0.6244 - val_loss: 1.2591 - val_acc: 0.6224\n",
            "Epoch 24/100\n",
            "88/87 [==============================] - 9s 101ms/step - loss: 1.2031 - acc: 0.6237 - val_loss: 1.2270 - val_acc: 0.6384\n",
            "Epoch 25/100\n",
            "88/87 [==============================] - 9s 101ms/step - loss: 1.1570 - acc: 0.6366 - val_loss: 1.2292 - val_acc: 0.6304\n",
            "Epoch 26/100\n",
            "88/87 [==============================] - 9s 103ms/step - loss: 1.1446 - acc: 0.6393 - val_loss: 1.2107 - val_acc: 0.6424\n",
            "Epoch 27/100\n",
            "88/87 [==============================] - 9s 103ms/step - loss: 1.1175 - acc: 0.6463 - val_loss: 1.2575 - val_acc: 0.6200\n",
            "Epoch 28/100\n",
            "88/87 [==============================] - 9s 102ms/step - loss: 1.1115 - acc: 0.6469 - val_loss: 1.2389 - val_acc: 0.6240\n",
            "Epoch 29/100\n",
            "88/87 [==============================] - 9s 102ms/step - loss: 1.0831 - acc: 0.6559 - val_loss: 1.2169 - val_acc: 0.6344\n",
            "Epoch 30/100\n",
            "88/87 [==============================] - 9s 102ms/step - loss: 1.0716 - acc: 0.6590 - val_loss: 1.1832 - val_acc: 0.6552\n",
            "Epoch 31/100\n",
            "88/87 [==============================] - 9s 103ms/step - loss: 1.0644 - acc: 0.6609 - val_loss: 1.2124 - val_acc: 0.6400\n",
            "Epoch 32/100\n",
            "88/87 [==============================] - 9s 105ms/step - loss: 1.0470 - acc: 0.6690 - val_loss: 1.2162 - val_acc: 0.6328\n",
            "Epoch 33/100\n",
            "88/87 [==============================] - 9s 105ms/step - loss: 1.0386 - acc: 0.6687 - val_loss: 1.2098 - val_acc: 0.6488\n",
            "Epoch 34/100\n",
            "88/87 [==============================] - 9s 103ms/step - loss: 1.0193 - acc: 0.6738 - val_loss: 1.1202 - val_acc: 0.6648\n",
            "Epoch 35/100\n",
            "88/87 [==============================] - 9s 103ms/step - loss: 0.9956 - acc: 0.6777 - val_loss: 1.1160 - val_acc: 0.6528\n",
            "Epoch 36/100\n",
            "88/87 [==============================] - 9s 104ms/step - loss: 0.9756 - acc: 0.6873 - val_loss: 1.1311 - val_acc: 0.6720\n",
            "Epoch 37/100\n",
            "88/87 [==============================] - 9s 102ms/step - loss: 0.9785 - acc: 0.6812 - val_loss: 1.1230 - val_acc: 0.6720\n",
            "Epoch 38/100\n",
            "88/87 [==============================] - 9s 101ms/step - loss: 0.9617 - acc: 0.6929 - val_loss: 1.1161 - val_acc: 0.6696\n",
            "Epoch 39/100\n",
            "88/87 [==============================] - 9s 101ms/step - loss: 0.9557 - acc: 0.6891 - val_loss: 1.0829 - val_acc: 0.6736\n",
            "Epoch 40/100\n",
            "88/87 [==============================] - 9s 101ms/step - loss: 0.9292 - acc: 0.7034 - val_loss: 1.1425 - val_acc: 0.6528\n",
            "Epoch 41/100\n",
            "88/87 [==============================] - 9s 103ms/step - loss: 0.9318 - acc: 0.7057 - val_loss: 1.1366 - val_acc: 0.6608\n",
            "Epoch 42/100\n",
            "88/87 [==============================] - 9s 102ms/step - loss: 0.9342 - acc: 0.6999 - val_loss: 1.1171 - val_acc: 0.6656\n",
            "Epoch 43/100\n",
            "88/87 [==============================] - 9s 102ms/step - loss: 0.9162 - acc: 0.7047 - val_loss: 1.1046 - val_acc: 0.6808\n",
            "Epoch 44/100\n",
            "88/87 [==============================] - 9s 102ms/step - loss: 0.8991 - acc: 0.7144 - val_loss: 1.1064 - val_acc: 0.6632\n",
            "Epoch 45/100\n",
            "88/87 [==============================] - 9s 102ms/step - loss: 0.8959 - acc: 0.7121 - val_loss: 1.0556 - val_acc: 0.6904\n",
            "Epoch 46/100\n",
            "88/87 [==============================] - 9s 103ms/step - loss: 0.8919 - acc: 0.7098 - val_loss: 1.1423 - val_acc: 0.6624\n",
            "Epoch 47/100\n",
            "88/87 [==============================] - 9s 104ms/step - loss: 0.8761 - acc: 0.7221 - val_loss: 1.1065 - val_acc: 0.6608\n",
            "Epoch 48/100\n",
            "88/87 [==============================] - 9s 103ms/step - loss: 0.8530 - acc: 0.7226 - val_loss: 1.1429 - val_acc: 0.6736\n",
            "Epoch 49/100\n",
            "88/87 [==============================] - 9s 102ms/step - loss: 0.8535 - acc: 0.7212 - val_loss: 1.0808 - val_acc: 0.6744\n",
            "Epoch 50/100\n",
            "88/87 [==============================] - 9s 102ms/step - loss: 0.8341 - acc: 0.7280 - val_loss: 1.1051 - val_acc: 0.6712\n",
            "Epoch 51/100\n",
            "88/87 [==============================] - 9s 104ms/step - loss: 0.8333 - acc: 0.7308 - val_loss: 1.0699 - val_acc: 0.6816\n",
            "Epoch 52/100\n",
            "88/87 [==============================] - 9s 104ms/step - loss: 0.8313 - acc: 0.7333 - val_loss: 1.0743 - val_acc: 0.6840\n",
            "Epoch 53/100\n",
            "88/87 [==============================] - 9s 105ms/step - loss: 0.8162 - acc: 0.7335 - val_loss: 1.0977 - val_acc: 0.6904\n",
            "Epoch 54/100\n",
            "88/87 [==============================] - 9s 104ms/step - loss: 0.8166 - acc: 0.7351 - val_loss: 1.0987 - val_acc: 0.6712\n",
            "Epoch 55/100\n",
            "88/87 [==============================] - 9s 103ms/step - loss: 0.8051 - acc: 0.7356 - val_loss: 1.0561 - val_acc: 0.6864\n",
            "Epoch 56/100\n",
            "88/87 [==============================] - 9s 105ms/step - loss: 0.8057 - acc: 0.7354 - val_loss: 1.1214 - val_acc: 0.6816\n",
            "Epoch 57/100\n",
            "88/87 [==============================] - 9s 102ms/step - loss: 0.7975 - acc: 0.7421 - val_loss: 1.0578 - val_acc: 0.6904\n",
            "Epoch 58/100\n",
            "88/87 [==============================] - 9s 103ms/step - loss: 0.7728 - acc: 0.7519 - val_loss: 1.1059 - val_acc: 0.6824\n",
            "Epoch 59/100\n",
            "88/87 [==============================] - 9s 103ms/step - loss: 0.7718 - acc: 0.7508 - val_loss: 1.0509 - val_acc: 0.6920\n",
            "Epoch 60/100\n",
            "88/87 [==============================] - 9s 103ms/step - loss: 0.7738 - acc: 0.7482 - val_loss: 1.0786 - val_acc: 0.6912\n",
            "Epoch 61/100\n",
            "88/87 [==============================] - 9s 104ms/step - loss: 0.7527 - acc: 0.7525 - val_loss: 1.0881 - val_acc: 0.6912\n",
            "Epoch 62/100\n",
            "88/87 [==============================] - 9s 103ms/step - loss: 0.7536 - acc: 0.7546 - val_loss: 1.0474 - val_acc: 0.6912\n",
            "Epoch 63/100\n",
            "88/87 [==============================] - 9s 104ms/step - loss: 0.7664 - acc: 0.7467 - val_loss: 1.0515 - val_acc: 0.6968\n",
            "Epoch 64/100\n",
            "88/87 [==============================] - 9s 103ms/step - loss: 0.7380 - acc: 0.7562 - val_loss: 1.0961 - val_acc: 0.6792\n",
            "Epoch 65/100\n",
            "88/87 [==============================] - 9s 101ms/step - loss: 0.7329 - acc: 0.7579 - val_loss: 1.0412 - val_acc: 0.6968\n",
            "Epoch 66/100\n",
            "88/87 [==============================] - 9s 103ms/step - loss: 0.7195 - acc: 0.7679 - val_loss: 1.0458 - val_acc: 0.6928\n",
            "Epoch 67/100\n",
            "88/87 [==============================] - 9s 104ms/step - loss: 0.7116 - acc: 0.7635 - val_loss: 1.0320 - val_acc: 0.6904\n",
            "Epoch 68/100\n",
            "88/87 [==============================] - 9s 103ms/step - loss: 0.7163 - acc: 0.7640 - val_loss: 1.0274 - val_acc: 0.7024\n",
            "Epoch 69/100\n",
            "88/87 [==============================] - 9s 102ms/step - loss: 0.7029 - acc: 0.7654 - val_loss: 1.0304 - val_acc: 0.7024\n",
            "Epoch 70/100\n",
            "88/87 [==============================] - 9s 103ms/step - loss: 0.6980 - acc: 0.7687 - val_loss: 1.0935 - val_acc: 0.6864\n",
            "Epoch 71/100\n",
            "88/87 [==============================] - 9s 105ms/step - loss: 0.7065 - acc: 0.7691 - val_loss: 1.0785 - val_acc: 0.6768\n",
            "Epoch 72/100\n",
            "88/87 [==============================] - 9s 103ms/step - loss: 0.7035 - acc: 0.7698 - val_loss: 1.0507 - val_acc: 0.6960\n",
            "Epoch 73/100\n",
            "88/87 [==============================] - 9s 102ms/step - loss: 0.6969 - acc: 0.7704 - val_loss: 1.0507 - val_acc: 0.6992\n",
            "Epoch 74/100\n",
            "88/87 [==============================] - 9s 103ms/step - loss: 0.6664 - acc: 0.7804 - val_loss: 1.0508 - val_acc: 0.7008\n",
            "Epoch 75/100\n",
            "88/87 [==============================] - 9s 101ms/step - loss: 0.6740 - acc: 0.7800 - val_loss: 1.0259 - val_acc: 0.7040\n",
            "Epoch 76/100\n",
            "88/87 [==============================] - 9s 104ms/step - loss: 0.6837 - acc: 0.7734 - val_loss: 1.0216 - val_acc: 0.6976\n",
            "Epoch 77/100\n",
            "88/87 [==============================] - 9s 103ms/step - loss: 0.6609 - acc: 0.7802 - val_loss: 1.0175 - val_acc: 0.7104\n",
            "Epoch 78/100\n",
            "88/87 [==============================] - 9s 104ms/step - loss: 0.6599 - acc: 0.7837 - val_loss: 1.0402 - val_acc: 0.6968\n",
            "Epoch 79/100\n",
            "88/87 [==============================] - 9s 103ms/step - loss: 0.6563 - acc: 0.7791 - val_loss: 1.0330 - val_acc: 0.7072\n",
            "Epoch 80/100\n",
            "88/87 [==============================] - 9s 104ms/step - loss: 0.6453 - acc: 0.7842 - val_loss: 1.0440 - val_acc: 0.7080\n",
            "Epoch 81/100\n",
            "88/87 [==============================] - 9s 103ms/step - loss: 0.6596 - acc: 0.7829 - val_loss: 1.0472 - val_acc: 0.7072\n",
            "Epoch 82/100\n",
            "88/87 [==============================] - 9s 103ms/step - loss: 0.6488 - acc: 0.7810 - val_loss: 1.0197 - val_acc: 0.7088\n",
            "Epoch 83/100\n",
            "88/87 [==============================] - 9s 104ms/step - loss: 0.6424 - acc: 0.7888 - val_loss: 1.0517 - val_acc: 0.6888\n",
            "Epoch 84/100\n",
            "88/87 [==============================] - 9s 103ms/step - loss: 0.6404 - acc: 0.7856 - val_loss: 1.0053 - val_acc: 0.6968\n",
            "Epoch 85/100\n",
            "88/87 [==============================] - 9s 104ms/step - loss: 0.6116 - acc: 0.7963 - val_loss: 0.9972 - val_acc: 0.7056\n",
            "Epoch 86/100\n",
            "88/87 [==============================] - 9s 105ms/step - loss: 0.6169 - acc: 0.7938 - val_loss: 1.0868 - val_acc: 0.6952\n",
            "Epoch 87/100\n",
            "88/87 [==============================] - 9s 108ms/step - loss: 0.6151 - acc: 0.7943 - val_loss: 1.0583 - val_acc: 0.6848\n",
            "# TEST RESULTS\n",
            "Test loss:  0.8942483445167542\n",
            "Test accuracy:  0.7356\n"
          ],
          "name": "stdout"
        },
        {
          "output_type": "display_data",
          "data": {
            "image/png": "[encoded data removed]",
            "text/plain": [
              "<Figure size 432x288 with 1 Axes>"
            ]
          },
          "metadata": {
            "tags": []
          }
        },
        {
          "output_type": "display_data",
          "data": {
            "image/png": "[encoded data removed]",
            "text/plain": [
              "<Figure size 432x288 with 1 Axes>"
            ]
          },
          "metadata": {
            "tags": []
          }
        },
        {
          "output_type": "stream",
          "text": [
            "Model: \"BaseNet Model 4\"\n",
            "_________________________________________________________________\n",
            "Layer (type)                 Output Shape              Param #   \n",
            "=================================================================\n",
            "conv2d_13 (Conv2D)           (None, 32, 32, 32)        896       \n",
            "_________________________________________________________________\n",
            "batch_normalization_16 (Batc (None, 32, 32, 32)        128       \n",
            "_________________________________________________________________\n",
            "activation_1 (Activation)    (None, 32, 32, 32)        0         \n",
            "_________________________________________________________________\n",
            "conv2d_14 (Conv2D)           (None, 30, 30, 32)        9248      \n",
            "_________________________________________________________________\n",
            "batch_normalization_17 (Batc (None, 30, 30, 32)        128       \n",
            "_________________________________________________________________\n",
            "activation_2 (Activation)    (None, 30, 30, 32)        0         \n",
            "_________________________________________________________________\n",
            "max_pooling2d_7 (MaxPooling2 (None, 15, 15, 32)        0         \n",
            "_________________________________________________________________\n",
            "dropout_10 (Dropout)         (None, 15, 15, 32)        0         \n",
            "_________________________________________________________________\n",
            "conv2d_15 (Conv2D)           (None, 15, 15, 64)        18496     \n",
            "_________________________________________________________________\n",
            "batch_normalization_18 (Batc (None, 15, 15, 64)        256       \n",
            "_________________________________________________________________\n",
            "activation_3 (Activation)    (None, 15, 15, 64)        0         \n",
            "_________________________________________________________________\n",
            "conv2d_16 (Conv2D)           (None, 13, 13, 64)        36928     \n",
            "_________________________________________________________________\n",
            "batch_normalization_19 (Batc (None, 13, 13, 64)        256       \n",
            "_________________________________________________________________\n",
            "activation_4 (Activation)    (None, 13, 13, 64)        0         \n",
            "_________________________________________________________________\n",
            "max_pooling2d_8 (MaxPooling2 (None, 6, 6, 64)          0         \n",
            "_________________________________________________________________\n",
            "dropout_11 (Dropout)         (None, 6, 6, 64)          0         \n",
            "_________________________________________________________________\n",
            "flatten_4 (Flatten)          (None, 2304)              0         \n",
            "_________________________________________________________________\n",
            "dense_7 (Dense)              (None, 512)               1180160   \n",
            "_________________________________________________________________\n",
            "batch_normalization_20 (Batc (None, 512)               2048      \n",
            "_________________________________________________________________\n",
            "activation_5 (Activation)    (None, 512)               0         \n",
            "_________________________________________________________________\n",
            "dropout_12 (Dropout)         (None, 512)               0         \n",
            "_________________________________________________________________\n",
            "dense_8 (Dense)              (None, 25)                12825     \n",
            "=================================================================\n",
            "Total params: 1,261,369\n",
            "Trainable params: 1,259,961\n",
            "Non-trainable params: 1,408\n",
            "_________________________________________________________________\n",
            "Epoch 1/100\n",
            "88/87 [==============================] - 11s 120ms/step - loss: 3.0270 - acc: 0.1802 - val_loss: 2.5655 - val_acc: 0.2656\n",
            "Epoch 2/100\n",
            "88/87 [==============================] - 8s 97ms/step - loss: 2.4342 - acc: 0.2984 - val_loss: 2.1807 - val_acc: 0.3480\n",
            "Epoch 3/100\n",
            "88/87 [==============================] - 9s 102ms/step - loss: 2.2371 - acc: 0.3497 - val_loss: 2.1323 - val_acc: 0.3744\n",
            "Epoch 4/100\n",
            "88/87 [==============================] - 9s 104ms/step - loss: 2.0818 - acc: 0.3871 - val_loss: 2.0346 - val_acc: 0.3856\n",
            "Epoch 5/100\n",
            "88/87 [==============================] - 9s 104ms/step - loss: 1.9670 - acc: 0.4149 - val_loss: 1.8740 - val_acc: 0.4432\n",
            "Epoch 6/100\n",
            "88/87 [==============================] - 9s 102ms/step - loss: 1.8535 - acc: 0.4468 - val_loss: 1.8647 - val_acc: 0.4416\n",
            "Epoch 7/100\n",
            "88/87 [==============================] - 9s 103ms/step - loss: 1.7763 - acc: 0.4667 - val_loss: 1.7749 - val_acc: 0.4600\n",
            "Epoch 8/100\n",
            "88/87 [==============================] - 9s 101ms/step - loss: 1.7018 - acc: 0.4842 - val_loss: 1.6593 - val_acc: 0.5088\n",
            "Epoch 9/100\n",
            "88/87 [==============================] - 9s 102ms/step - loss: 1.6423 - acc: 0.5088 - val_loss: 1.5954 - val_acc: 0.5248\n",
            "Epoch 10/100\n",
            "88/87 [==============================] - 9s 103ms/step - loss: 1.6097 - acc: 0.5106 - val_loss: 1.5844 - val_acc: 0.5048\n",
            "Epoch 11/100\n",
            "88/87 [==============================] - 9s 103ms/step - loss: 1.5800 - acc: 0.5210 - val_loss: 1.5101 - val_acc: 0.5360\n",
            "Epoch 12/100\n",
            "88/87 [==============================] - 9s 105ms/step - loss: 1.5284 - acc: 0.5292 - val_loss: 1.5853 - val_acc: 0.5256\n",
            "Epoch 13/100\n",
            "88/87 [==============================] - 9s 104ms/step - loss: 1.4918 - acc: 0.5413 - val_loss: 1.4745 - val_acc: 0.5656\n",
            "Epoch 14/100\n",
            "88/87 [==============================] - 9s 103ms/step - loss: 1.4463 - acc: 0.5482 - val_loss: 1.4438 - val_acc: 0.5608\n",
            "Epoch 15/100\n",
            "88/87 [==============================] - 9s 103ms/step - loss: 1.4212 - acc: 0.5602 - val_loss: 1.4308 - val_acc: 0.5616\n",
            "Epoch 16/100\n",
            "88/87 [==============================] - 9s 103ms/step - loss: 1.3942 - acc: 0.5682 - val_loss: 1.4405 - val_acc: 0.5536\n",
            "Epoch 17/100\n",
            "88/87 [==============================] - 9s 103ms/step - loss: 1.3698 - acc: 0.5780 - val_loss: 1.3960 - val_acc: 0.5888\n",
            "Epoch 18/100\n",
            "88/87 [==============================] - 9s 104ms/step - loss: 1.3324 - acc: 0.5860 - val_loss: 1.3626 - val_acc: 0.5784\n",
            "Epoch 19/100\n",
            "88/87 [==============================] - 9s 104ms/step - loss: 1.3054 - acc: 0.5918 - val_loss: 1.2975 - val_acc: 0.6008\n",
            "Epoch 20/100\n",
            "88/87 [==============================] - 9s 101ms/step - loss: 1.2864 - acc: 0.5981 - val_loss: 1.3079 - val_acc: 0.5976\n",
            "Epoch 21/100\n",
            "88/87 [==============================] - 9s 102ms/step - loss: 1.2783 - acc: 0.6066 - val_loss: 1.3304 - val_acc: 0.5856\n",
            "Epoch 22/100\n",
            "88/87 [==============================] - 9s 102ms/step - loss: 1.2546 - acc: 0.6105 - val_loss: 1.2564 - val_acc: 0.6024\n",
            "Epoch 23/100\n",
            "88/87 [==============================] - 9s 102ms/step - loss: 1.2362 - acc: 0.6130 - val_loss: 1.2954 - val_acc: 0.6152\n",
            "Epoch 24/100\n",
            "88/87 [==============================] - 9s 103ms/step - loss: 1.2169 - acc: 0.6188 - val_loss: 1.2818 - val_acc: 0.6024\n",
            "Epoch 25/100\n",
            "88/87 [==============================] - 9s 102ms/step - loss: 1.1994 - acc: 0.6248 - val_loss: 1.2138 - val_acc: 0.6224\n",
            "Epoch 26/100\n",
            "88/87 [==============================] - 9s 102ms/step - loss: 1.1791 - acc: 0.6308 - val_loss: 1.2366 - val_acc: 0.6184\n",
            "Epoch 27/100\n",
            "88/87 [==============================] - 9s 100ms/step - loss: 1.1630 - acc: 0.6293 - val_loss: 1.2546 - val_acc: 0.6080\n",
            "Epoch 28/100\n",
            "88/87 [==============================] - 9s 101ms/step - loss: 1.1624 - acc: 0.6359 - val_loss: 1.2790 - val_acc: 0.6016\n",
            "Epoch 29/100\n",
            "88/87 [==============================] - 9s 101ms/step - loss: 1.1376 - acc: 0.6397 - val_loss: 1.2553 - val_acc: 0.6224\n",
            "Epoch 30/100\n",
            "88/87 [==============================] - 9s 102ms/step - loss: 1.1197 - acc: 0.6491 - val_loss: 1.2061 - val_acc: 0.6280\n",
            "Epoch 31/100\n",
            "88/87 [==============================] - 9s 102ms/step - loss: 1.1110 - acc: 0.6465 - val_loss: 1.1642 - val_acc: 0.6360\n",
            "Epoch 32/100\n",
            "88/87 [==============================] - 9s 102ms/step - loss: 1.1000 - acc: 0.6554 - val_loss: 1.2301 - val_acc: 0.6192\n",
            "Epoch 33/100\n",
            "88/87 [==============================] - 9s 103ms/step - loss: 1.0840 - acc: 0.6545 - val_loss: 1.1533 - val_acc: 0.6536\n",
            "Epoch 34/100\n",
            "88/87 [==============================] - 9s 103ms/step - loss: 1.0810 - acc: 0.6520 - val_loss: 1.1098 - val_acc: 0.6496\n",
            "Epoch 35/100\n",
            "88/87 [==============================] - 9s 105ms/step - loss: 1.0690 - acc: 0.6604 - val_loss: 1.1518 - val_acc: 0.6384\n",
            "Epoch 36/100\n",
            "88/87 [==============================] - 9s 104ms/step - loss: 1.0540 - acc: 0.6621 - val_loss: 1.1713 - val_acc: 0.6472\n",
            "Epoch 37/100\n",
            "88/87 [==============================] - 9s 104ms/step - loss: 1.0419 - acc: 0.6651 - val_loss: 1.1987 - val_acc: 0.6368\n",
            "Epoch 38/100\n",
            "88/87 [==============================] - 9s 102ms/step - loss: 1.0303 - acc: 0.6735 - val_loss: 1.1693 - val_acc: 0.6376\n",
            "Epoch 39/100\n",
            "88/87 [==============================] - 9s 102ms/step - loss: 1.0075 - acc: 0.6766 - val_loss: 1.2110 - val_acc: 0.6368\n",
            "Epoch 40/100\n",
            "88/87 [==============================] - 9s 100ms/step - loss: 1.0160 - acc: 0.6782 - val_loss: 1.1869 - val_acc: 0.6328\n",
            "Epoch 41/100\n",
            "88/87 [==============================] - 9s 101ms/step - loss: 0.9983 - acc: 0.6852 - val_loss: 1.2555 - val_acc: 0.6272\n",
            "Epoch 42/100\n",
            "88/87 [==============================] - 9s 100ms/step - loss: 0.9999 - acc: 0.6784 - val_loss: 1.1332 - val_acc: 0.6584\n",
            "Epoch 43/100\n",
            "88/87 [==============================] - 9s 99ms/step - loss: 0.9674 - acc: 0.6896 - val_loss: 1.1043 - val_acc: 0.6512\n",
            "Epoch 44/100\n",
            "88/87 [==============================] - 9s 100ms/step - loss: 0.9624 - acc: 0.6886 - val_loss: 1.1281 - val_acc: 0.6608\n",
            "Epoch 45/100\n",
            "88/87 [==============================] - 9s 101ms/step - loss: 0.9676 - acc: 0.6943 - val_loss: 1.1080 - val_acc: 0.6608\n",
            "Epoch 46/100\n",
            "88/87 [==============================] - 9s 99ms/step - loss: 0.9399 - acc: 0.6987 - val_loss: 1.1159 - val_acc: 0.6696\n",
            "Epoch 47/100\n",
            "88/87 [==============================] - 9s 97ms/step - loss: 0.9228 - acc: 0.7017 - val_loss: 1.1162 - val_acc: 0.6536\n",
            "Epoch 48/100\n",
            "88/87 [==============================] - 9s 98ms/step - loss: 0.9423 - acc: 0.6924 - val_loss: 1.1071 - val_acc: 0.6624\n",
            "Epoch 49/100\n",
            "88/87 [==============================] - 9s 97ms/step - loss: 0.9276 - acc: 0.7016 - val_loss: 1.0904 - val_acc: 0.6736\n",
            "Epoch 50/100\n",
            "88/87 [==============================] - 9s 98ms/step - loss: 0.9197 - acc: 0.7029 - val_loss: 1.0917 - val_acc: 0.6504\n",
            "Epoch 51/100\n",
            "88/87 [==============================] - 9s 97ms/step - loss: 0.8978 - acc: 0.7044 - val_loss: 1.0705 - val_acc: 0.6664\n",
            "Epoch 52/100\n",
            "88/87 [==============================] - 9s 97ms/step - loss: 0.8713 - acc: 0.7170 - val_loss: 1.1346 - val_acc: 0.6576\n",
            "Epoch 53/100\n",
            "88/87 [==============================] - 8s 96ms/step - loss: 0.8838 - acc: 0.7163 - val_loss: 1.0975 - val_acc: 0.6824\n",
            "Epoch 54/100\n",
            "88/87 [==============================] - 8s 97ms/step - loss: 0.8896 - acc: 0.7141 - val_loss: 1.0405 - val_acc: 0.6704\n",
            "Epoch 55/100\n",
            "88/87 [==============================] - 9s 97ms/step - loss: 0.8740 - acc: 0.7190 - val_loss: 1.0897 - val_acc: 0.6752\n",
            "Epoch 56/100\n",
            "88/87 [==============================] - 9s 97ms/step - loss: 0.8854 - acc: 0.7114 - val_loss: 1.0982 - val_acc: 0.6616\n",
            "Epoch 57/100\n",
            "88/87 [==============================] - 8s 96ms/step - loss: 0.8651 - acc: 0.7184 - val_loss: 1.0472 - val_acc: 0.6728\n",
            "Epoch 58/100\n",
            "88/87 [==============================] - 8s 96ms/step - loss: 0.8489 - acc: 0.7254 - val_loss: 1.1129 - val_acc: 0.6656\n",
            "Epoch 59/100\n",
            "88/87 [==============================] - 8s 96ms/step - loss: 0.8456 - acc: 0.7260 - val_loss: 1.0460 - val_acc: 0.6672\n",
            "Epoch 60/100\n",
            "88/87 [==============================] - 8s 96ms/step - loss: 0.8313 - acc: 0.7294 - val_loss: 1.0317 - val_acc: 0.6824\n",
            "Epoch 61/100\n",
            "88/87 [==============================] - 9s 98ms/step - loss: 0.8440 - acc: 0.7214 - val_loss: 1.0194 - val_acc: 0.6784\n",
            "Epoch 62/100\n",
            "88/87 [==============================] - 9s 97ms/step - loss: 0.8180 - acc: 0.7345 - val_loss: 1.0210 - val_acc: 0.6896\n",
            "Epoch 63/100\n",
            "88/87 [==============================] - 8s 95ms/step - loss: 0.8056 - acc: 0.7380 - val_loss: 1.0357 - val_acc: 0.6680\n",
            "Epoch 64/100\n",
            "88/87 [==============================] - 8s 95ms/step - loss: 0.8152 - acc: 0.7358 - val_loss: 1.0331 - val_acc: 0.6864\n",
            "Epoch 65/100\n",
            "88/87 [==============================] - 8s 95ms/step - loss: 0.8008 - acc: 0.7400 - val_loss: 1.0519 - val_acc: 0.6784\n",
            "Epoch 66/100\n",
            "88/87 [==============================] - 8s 96ms/step - loss: 0.8089 - acc: 0.7375 - val_loss: 1.0424 - val_acc: 0.6880\n",
            "Epoch 67/100\n",
            "88/87 [==============================] - 9s 99ms/step - loss: 0.7916 - acc: 0.7419 - val_loss: 1.0294 - val_acc: 0.6864\n",
            "Epoch 68/100\n",
            "88/87 [==============================] - 9s 99ms/step - loss: 0.7780 - acc: 0.7468 - val_loss: 1.0416 - val_acc: 0.6768\n",
            "Epoch 69/100\n",
            "88/87 [==============================] - 9s 100ms/step - loss: 0.7913 - acc: 0.7412 - val_loss: 1.1475 - val_acc: 0.6688\n",
            "Epoch 70/100\n",
            "88/87 [==============================] - 9s 102ms/step - loss: 0.7646 - acc: 0.7504 - val_loss: 1.0327 - val_acc: 0.6920\n",
            "Epoch 71/100\n",
            "88/87 [==============================] - 9s 99ms/step - loss: 0.7714 - acc: 0.7477 - val_loss: 1.1355 - val_acc: 0.6480\n",
            "Epoch 72/100\n",
            "88/87 [==============================] - 9s 97ms/step - loss: 0.7623 - acc: 0.7515 - val_loss: 0.9962 - val_acc: 0.6904\n",
            "Epoch 73/100\n",
            "88/87 [==============================] - 9s 97ms/step - loss: 0.7568 - acc: 0.7468 - val_loss: 1.0558 - val_acc: 0.6760\n",
            "Epoch 74/100\n",
            "88/87 [==============================] - 9s 98ms/step - loss: 0.7456 - acc: 0.7560 - val_loss: 1.0489 - val_acc: 0.6904\n",
            "Epoch 75/100\n",
            "88/87 [==============================] - 9s 98ms/step - loss: 0.7474 - acc: 0.7582 - val_loss: 1.0323 - val_acc: 0.6968\n",
            "Epoch 76/100\n",
            "88/87 [==============================] - 9s 99ms/step - loss: 0.7391 - acc: 0.7601 - val_loss: 1.0174 - val_acc: 0.6824\n",
            "Epoch 77/100\n",
            "88/87 [==============================] - 9s 99ms/step - loss: 0.7467 - acc: 0.7541 - val_loss: 1.0267 - val_acc: 0.6984\n",
            "Epoch 78/100\n",
            "88/87 [==============================] - 9s 98ms/step - loss: 0.7264 - acc: 0.7589 - val_loss: 0.9747 - val_acc: 0.7072\n",
            "Epoch 79/100\n",
            "88/87 [==============================] - 8s 96ms/step - loss: 0.7192 - acc: 0.7631 - val_loss: 1.0414 - val_acc: 0.6952\n",
            "Epoch 80/100\n",
            "88/87 [==============================] - 9s 98ms/step - loss: 0.7102 - acc: 0.7653 - val_loss: 0.9689 - val_acc: 0.7096\n",
            "Epoch 81/100\n",
            "88/87 [==============================] - 9s 98ms/step - loss: 0.7154 - acc: 0.7663 - val_loss: 1.0508 - val_acc: 0.6928\n",
            "Epoch 82/100\n",
            "88/87 [==============================] - 9s 97ms/step - loss: 0.7225 - acc: 0.7624 - val_loss: 1.0556 - val_acc: 0.6784\n",
            "Epoch 83/100\n",
            "88/87 [==============================] - 8s 96ms/step - loss: 0.6987 - acc: 0.7700 - val_loss: 1.0150 - val_acc: 0.6936\n",
            "Epoch 84/100\n",
            "88/87 [==============================] - 8s 96ms/step - loss: 0.7070 - acc: 0.7683 - val_loss: 0.9730 - val_acc: 0.6928\n",
            "Epoch 85/100\n",
            "88/87 [==============================] - 8s 95ms/step - loss: 0.7080 - acc: 0.7726 - val_loss: 1.0362 - val_acc: 0.6888\n",
            "Epoch 86/100\n",
            "88/87 [==============================] - 8s 96ms/step - loss: 0.6843 - acc: 0.7718 - val_loss: 0.9922 - val_acc: 0.7056\n",
            "Epoch 87/100\n",
            "88/87 [==============================] - 9s 97ms/step - loss: 0.6921 - acc: 0.7700 - val_loss: 0.9920 - val_acc: 0.7040\n",
            "Epoch 88/100\n",
            "88/87 [==============================] - 9s 97ms/step - loss: 0.6818 - acc: 0.7778 - val_loss: 0.9712 - val_acc: 0.7128\n",
            "Epoch 89/100\n",
            "88/87 [==============================] - 8s 96ms/step - loss: 0.6765 - acc: 0.7766 - val_loss: 0.9824 - val_acc: 0.7064\n",
            "Epoch 90/100\n",
            "88/87 [==============================] - 8s 95ms/step - loss: 0.6747 - acc: 0.7770 - val_loss: 1.0387 - val_acc: 0.6904\n",
            "Epoch 91/100\n",
            "88/87 [==============================] - 9s 98ms/step - loss: 0.6914 - acc: 0.7728 - val_loss: 1.0091 - val_acc: 0.6968\n",
            "Epoch 92/100\n",
            "88/87 [==============================] - 9s 97ms/step - loss: 0.6718 - acc: 0.7792 - val_loss: 1.0287 - val_acc: 0.6952\n",
            "Epoch 93/100\n",
            "88/87 [==============================] - 8s 95ms/step - loss: 0.6537 - acc: 0.7877 - val_loss: 1.0151 - val_acc: 0.7064\n",
            "Epoch 94/100\n",
            "88/87 [==============================] - 8s 94ms/step - loss: 0.6708 - acc: 0.7784 - val_loss: 0.9839 - val_acc: 0.7000\n",
            "Epoch 95/100\n",
            "88/87 [==============================] - 8s 94ms/step - loss: 0.6573 - acc: 0.7834 - val_loss: 0.9908 - val_acc: 0.7000\n",
            "Epoch 96/100\n",
            "88/87 [==============================] - 8s 95ms/step - loss: 0.6595 - acc: 0.7799 - val_loss: 1.0060 - val_acc: 0.6992\n",
            "Epoch 97/100\n",
            "88/87 [==============================] - 9s 97ms/step - loss: 0.6530 - acc: 0.7842 - val_loss: 1.0120 - val_acc: 0.6952\n",
            "Epoch 98/100\n",
            "88/87 [==============================] - 9s 99ms/step - loss: 0.6562 - acc: 0.7820 - val_loss: 0.9911 - val_acc: 0.6976\n",
            "# TEST RESULTS\n",
            "Test loss:  0.847354747056961\n",
            "Test accuracy:  0.7408\n"
          ],
          "name": "stdout"
        },
        {
          "output_type": "display_data",
          "data": {
            "image/png": "[encoded data removed]",
            "text/plain": [
              "<Figure size 432x288 with 1 Axes>"
            ]
          },
          "metadata": {
            "tags": []
          }
        },
        {
          "output_type": "display_data",
          "data": {
            "image/png": "[encoded data removed]",
            "text/plain": [
              "<Figure size 432x288 with 1 Axes>"
            ]
          },
          "metadata": {
            "tags": []
          }
        }
      ]
    },
    {
      "cell_type": "code",
      "metadata": {
        "id": "gMPukkmfRyAs",
        "colab_type": "code",
        "colab": {
          "base_uri": "https://localhost:8080/",
          "height": 374
        },
        "outputId": "6cbc6b88-5cc8-4d96-dda2-5253e77ba3f9"
      },
      "source": [
        "# Ejercicio 3\n",
        "m5 = res_net_model()\n",
        "h5 = train_and_evaluate(m5, complex_data_generator, 128, load_caltech_data, verbose = 1)\n",
        "show_evolution(h5)"
      ],
      "execution_count": 29,
      "outputs": [
        {
          "output_type": "stream",
          "text": [
            "/usr/local/lib/python3.6/dist-packages/keras_applications/resnet50.py:265: UserWarning: The output shape of `ResNet50(include_top=False)` has been changed since Keras 2.2.0.\n",
            "  warnings.warn('The output shape of `ResNet50(include_top=False)` '\n"
          ],
          "name": "stderr"
        },
        {
          "output_type": "error",
          "ename": "OSError",
          "evalue": "ignored",
          "traceback": [
            "\u001b[0;31m---------------------------------------------------------------------------\u001b[0m",
            "\u001b[0;31mOSError\u001b[0m                                   Traceback (most recent call last)",
            "\u001b[0;32m<ipython-input-29-60cf906fe71a>\u001b[0m in \u001b[0;36m<module>\u001b[0;34m()\u001b[0m\n\u001b[1;32m      1\u001b[0m \u001b[0mm5\u001b[0m \u001b[0;34m=\u001b[0m \u001b[0mres_net_model\u001b[0m\u001b[0;34m(\u001b[0m\u001b[0;34m)\u001b[0m\u001b[0;34m\u001b[0m\u001b[0;34m\u001b[0m\u001b[0m\n\u001b[0;32m----> 2\u001b[0;31m \u001b[0mh5\u001b[0m \u001b[0;34m=\u001b[0m \u001b[0mtrain_and_evaluate\u001b[0m\u001b[0;34m(\u001b[0m\u001b[0mm5\u001b[0m\u001b[0;34m,\u001b[0m \u001b[0mcomplex_data_generator\u001b[0m\u001b[0;34m,\u001b[0m \u001b[0;36m128\u001b[0m\u001b[0;34m,\u001b[0m \u001b[0mload_caltech_data\u001b[0m\u001b[0;34m,\u001b[0m \u001b[0mverbose\u001b[0m \u001b[0;34m=\u001b[0m \u001b[0;36m1\u001b[0m\u001b[0;34m)\u001b[0m\u001b[0;34m\u001b[0m\u001b[0;34m\u001b[0m\u001b[0m\n\u001b[0m\u001b[1;32m      3\u001b[0m \u001b[0mshow_evolution\u001b[0m\u001b[0;34m(\u001b[0m\u001b[0mh5\u001b[0m\u001b[0;34m)\u001b[0m\u001b[0;34m\u001b[0m\u001b[0;34m\u001b[0m\u001b[0m\n",
            "\u001b[0;32m<ipython-input-23-1aa0b21d0a4f>\u001b[0m in \u001b[0;36mtrain_and_evaluate\u001b[0;34m(model, data_generator, batch_size, load_data_function, epochs, verbose)\u001b[0m\n\u001b[1;32m      7\u001b[0m     )\n\u001b[1;32m      8\u001b[0m \u001b[0;34m\u001b[0m\u001b[0m\n\u001b[0;32m----> 9\u001b[0;31m     \u001b[0mx_train\u001b[0m\u001b[0;34m,\u001b[0m \u001b[0my_train\u001b[0m\u001b[0;34m,\u001b[0m \u001b[0mx_test\u001b[0m\u001b[0;34m,\u001b[0m \u001b[0my_test\u001b[0m \u001b[0;34m=\u001b[0m \u001b[0mload_data_function\u001b[0m\u001b[0;34m(\u001b[0m\u001b[0;34m)\u001b[0m\u001b[0;34m\u001b[0m\u001b[0;34m\u001b[0m\u001b[0m\n\u001b[0m\u001b[1;32m     10\u001b[0m     \u001b[0mdatagen\u001b[0m \u001b[0;34m=\u001b[0m \u001b[0mdata_generator\u001b[0m\u001b[0;34m(\u001b[0m\u001b[0;34m)\u001b[0m\u001b[0;34m\u001b[0m\u001b[0;34m\u001b[0m\u001b[0m\n\u001b[1;32m     11\u001b[0m     \u001b[0mdatagen\u001b[0m\u001b[0;34m.\u001b[0m\u001b[0mfit\u001b[0m\u001b[0;34m(\u001b[0m\u001b[0mx_train\u001b[0m\u001b[0;34m)\u001b[0m\u001b[0;34m\u001b[0m\u001b[0;34m\u001b[0m\u001b[0m\n",
            "\u001b[0;32m<ipython-input-28-44450f9474bb>\u001b[0m in \u001b[0;36mload_caltech_data\u001b[0;34m()\u001b[0m\n\u001b[1;32m      2\u001b[0m \u001b[0;34m\u001b[0m\u001b[0m\n\u001b[1;32m      3\u001b[0m     \u001b[0;31m# Load files with paths\u001b[0m\u001b[0;34m\u001b[0m\u001b[0;34m\u001b[0m\u001b[0;34m\u001b[0m\u001b[0m\n\u001b[0;32m----> 4\u001b[0;31m     \u001b[0mtrain_path\u001b[0m \u001b[0;34m=\u001b[0m \u001b[0mnp\u001b[0m\u001b[0;34m.\u001b[0m\u001b[0mloadtxt\u001b[0m\u001b[0;34m(\u001b[0m\u001b[0mpath\u001b[0m \u001b[0;34m+\u001b[0m \u001b[0;34m\"train.txt\"\u001b[0m\u001b[0;34m,\u001b[0m \u001b[0mdtype\u001b[0m \u001b[0;34m=\u001b[0m \u001b[0mstr\u001b[0m\u001b[0;34m)\u001b[0m\u001b[0;34m\u001b[0m\u001b[0;34m\u001b[0m\u001b[0m\n\u001b[0m\u001b[1;32m      5\u001b[0m     \u001b[0mtest_path\u001b[0m \u001b[0;34m=\u001b[0m \u001b[0mnp\u001b[0m\u001b[0;34m.\u001b[0m\u001b[0mloadtxt\u001b[0m\u001b[0;34m(\u001b[0m\u001b[0mpath\u001b[0m \u001b[0;34m+\u001b[0m \u001b[0;34m\"test.txt\"\u001b[0m\u001b[0;34m,\u001b[0m \u001b[0mdtype\u001b[0m \u001b[0;34m=\u001b[0m \u001b[0mstr\u001b[0m\u001b[0;34m)\u001b[0m\u001b[0;34m\u001b[0m\u001b[0;34m\u001b[0m\u001b[0m\n\u001b[1;32m      6\u001b[0m \u001b[0;34m\u001b[0m\u001b[0m\n",
            "\u001b[0;32m/usr/local/lib/python3.6/dist-packages/numpy/lib/npyio.py\u001b[0m in \u001b[0;36mloadtxt\u001b[0;34m(fname, dtype, comments, delimiter, converters, skiprows, usecols, unpack, ndmin, encoding, max_rows)\u001b[0m\n\u001b[1;32m    966\u001b[0m             \u001b[0mfname\u001b[0m \u001b[0;34m=\u001b[0m \u001b[0mos_fspath\u001b[0m\u001b[0;34m(\u001b[0m\u001b[0mfname\u001b[0m\u001b[0;34m)\u001b[0m\u001b[0;34m\u001b[0m\u001b[0;34m\u001b[0m\u001b[0m\n\u001b[1;32m    967\u001b[0m         \u001b[0;32mif\u001b[0m \u001b[0m_is_string_like\u001b[0m\u001b[0;34m(\u001b[0m\u001b[0mfname\u001b[0m\u001b[0;34m)\u001b[0m\u001b[0;34m:\u001b[0m\u001b[0;34m\u001b[0m\u001b[0;34m\u001b[0m\u001b[0m\n\u001b[0;32m--> 968\u001b[0;31m             \u001b[0mfh\u001b[0m \u001b[0;34m=\u001b[0m \u001b[0mnp\u001b[0m\u001b[0;34m.\u001b[0m\u001b[0mlib\u001b[0m\u001b[0;34m.\u001b[0m\u001b[0m_datasource\u001b[0m\u001b[0;34m.\u001b[0m\u001b[0mopen\u001b[0m\u001b[0;34m(\u001b[0m\u001b[0mfname\u001b[0m\u001b[0;34m,\u001b[0m \u001b[0;34m'rt'\u001b[0m\u001b[0;34m,\u001b[0m \u001b[0mencoding\u001b[0m\u001b[0;34m=\u001b[0m\u001b[0mencoding\u001b[0m\u001b[0;34m)\u001b[0m\u001b[0;34m\u001b[0m\u001b[0;34m\u001b[0m\u001b[0m\n\u001b[0m\u001b[1;32m    969\u001b[0m             \u001b[0mfencoding\u001b[0m \u001b[0;34m=\u001b[0m \u001b[0mgetattr\u001b[0m\u001b[0;34m(\u001b[0m\u001b[0mfh\u001b[0m\u001b[0;34m,\u001b[0m \u001b[0;34m'encoding'\u001b[0m\u001b[0;34m,\u001b[0m \u001b[0;34m'latin1'\u001b[0m\u001b[0;34m)\u001b[0m\u001b[0;34m\u001b[0m\u001b[0;34m\u001b[0m\u001b[0m\n\u001b[1;32m    970\u001b[0m             \u001b[0mfh\u001b[0m \u001b[0;34m=\u001b[0m \u001b[0miter\u001b[0m\u001b[0;34m(\u001b[0m\u001b[0mfh\u001b[0m\u001b[0;34m)\u001b[0m\u001b[0;34m\u001b[0m\u001b[0;34m\u001b[0m\u001b[0m\n",
            "\u001b[0;32m/usr/local/lib/python3.6/dist-packages/numpy/lib/_datasource.py\u001b[0m in \u001b[0;36mopen\u001b[0;34m(path, mode, destpath, encoding, newline)\u001b[0m\n\u001b[1;32m    267\u001b[0m \u001b[0;34m\u001b[0m\u001b[0m\n\u001b[1;32m    268\u001b[0m     \u001b[0mds\u001b[0m \u001b[0;34m=\u001b[0m \u001b[0mDataSource\u001b[0m\u001b[0;34m(\u001b[0m\u001b[0mdestpath\u001b[0m\u001b[0;34m)\u001b[0m\u001b[0;34m\u001b[0m\u001b[0;34m\u001b[0m\u001b[0m\n\u001b[0;32m--> 269\u001b[0;31m     \u001b[0;32mreturn\u001b[0m \u001b[0mds\u001b[0m\u001b[0;34m.\u001b[0m\u001b[0mopen\u001b[0m\u001b[0;34m(\u001b[0m\u001b[0mpath\u001b[0m\u001b[0;34m,\u001b[0m \u001b[0mmode\u001b[0m\u001b[0;34m,\u001b[0m \u001b[0mencoding\u001b[0m\u001b[0;34m=\u001b[0m\u001b[0mencoding\u001b[0m\u001b[0;34m,\u001b[0m \u001b[0mnewline\u001b[0m\u001b[0;34m=\u001b[0m\u001b[0mnewline\u001b[0m\u001b[0;34m)\u001b[0m\u001b[0;34m\u001b[0m\u001b[0;34m\u001b[0m\u001b[0m\n\u001b[0m\u001b[1;32m    270\u001b[0m \u001b[0;34m\u001b[0m\u001b[0m\n\u001b[1;32m    271\u001b[0m \u001b[0;34m\u001b[0m\u001b[0m\n",
            "\u001b[0;32m/usr/local/lib/python3.6/dist-packages/numpy/lib/_datasource.py\u001b[0m in \u001b[0;36mopen\u001b[0;34m(self, path, mode, encoding, newline)\u001b[0m\n\u001b[1;32m    621\u001b[0m                                       encoding=encoding, newline=newline)\n\u001b[1;32m    622\u001b[0m         \u001b[0;32melse\u001b[0m\u001b[0;34m:\u001b[0m\u001b[0;34m\u001b[0m\u001b[0;34m\u001b[0m\u001b[0m\n\u001b[0;32m--> 623\u001b[0;31m             \u001b[0;32mraise\u001b[0m \u001b[0mIOError\u001b[0m\u001b[0;34m(\u001b[0m\u001b[0;34m\"%s not found.\"\u001b[0m \u001b[0;34m%\u001b[0m \u001b[0mpath\u001b[0m\u001b[0;34m)\u001b[0m\u001b[0;34m\u001b[0m\u001b[0;34m\u001b[0m\u001b[0m\n\u001b[0m\u001b[1;32m    624\u001b[0m \u001b[0;34m\u001b[0m\u001b[0m\n\u001b[1;32m    625\u001b[0m \u001b[0;34m\u001b[0m\u001b[0m\n",
            "\u001b[0;31mOSError\u001b[0m: /content/drive/My Drive/caltech/train.txt not found."
          ]
        }
      ]
    },
    {
      "cell_type": "code",
      "metadata": {
        "id": "WrvjTasrMm4h",
        "colab_type": "code",
        "colab": {}
      },
      "source": [
        ""
      ],
      "execution_count": 0,
      "outputs": []
    }
  ]
}