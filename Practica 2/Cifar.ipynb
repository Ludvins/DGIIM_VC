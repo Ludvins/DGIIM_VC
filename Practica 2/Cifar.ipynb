{
 "cells": [
  {
   "cell_type": "markdown",
   "metadata": {
    "colab_type": "text",
    "id": "CHnD8CrauI0A"
   },
   "source": [
    "## Imports"
   ]
  },
  {
   "cell_type": "code",
   "execution_count": 1,
   "metadata": {
    "colab": {},
    "colab_type": "code",
    "id": "jwH9nSY5uI0D"
   },
   "outputs": [
    {
     "name": "stderr",
     "output_type": "stream",
     "text": [
      "Using TensorFlow backend.\n"
     ]
    }
   ],
   "source": [
    "import numpy as np\n",
    "import keras\n",
    "import matplotlib.pyplot as plt\n",
    "import keras.utils as np_utils\n",
    "# Import optimizer\n",
    "from keras.optimizers import SGD\n",
    "# Import data\n",
    "from keras.datasets import cifar100\n",
    "# Import models and layers\n",
    "from keras.models import Sequential\n",
    "from keras.layers import Dense, Dropout, Flatten\n",
    "from keras.layers import Conv2D, MaxPooling2D, Activation"
   ]
  },
  {
   "cell_type": "markdown",
   "metadata": {
    "colab_type": "text",
    "id": "MfYoiSUHuI0P"
   },
   "source": [
    "## Auxiliar functions"
   ]
  },
  {
   "cell_type": "markdown",
   "metadata": {
    "colab_type": "text",
    "id": "NaHdC-hQuI0R"
   },
   "source": [
    "Configures the model.\n",
    "Args:\n",
    "+ ```optimizer:``` Optimizer function.\n",
    "+ ```loss:``` Loss function.\n",
    "+ ```metrics:``` Metric function."
   ]
  },
  {
   "cell_type": "code",
   "execution_count": 2,
   "metadata": {
    "colab": {},
    "colab_type": "code",
    "id": "QwvlE1mluI0T"
   },
   "outputs": [],
   "source": [
    "def compile(model, loss, optimizer, metrics):\n",
    "    model.compile(loss = loss,\n",
    "                  optimizer = optimizer,\n",
    "                  metrics = metrics)"
   ]
  },
  {
   "cell_type": "markdown",
   "metadata": {
    "colab_type": "text",
    "id": "3YJG-0U6uI0b"
   },
   "source": [
    "Trains the given model.\n",
    "\n",
    "args:\n",
    "+ ```model:``` Model to train.\n",
    "+ ```batch_size:``` Hyperparameter of gradient descent that controls the number of training samples to work through before the model’s internal parameters are updated.\n",
    "+ ```epochs:``` Hyperparameter of gradient descent that controls the number of complete passes through the training dataset.\n",
    "+ ```data:``` Given by ```x_train```, ```x_test```, ```y_train``` and ```y_test```"
   ]
  },
  {
   "cell_type": "code",
   "execution_count": 3,
   "metadata": {
    "colab": {},
    "colab_type": "code",
    "id": "lkmOkojWuI0d"
   },
   "outputs": [],
   "source": [
    "def train(model, batch_size, epochs, x_train, y_train, x_test, y_test):\n",
    "    history = model.fit(x_train, y_train,\n",
    "          batch_size = batch_size,\n",
    "          epochs = epochs,\n",
    "          verbose = 1,\n",
    "          validation_data = (x_test, y_test))\n",
    "    return history"
   ]
  },
  {
   "cell_type": "markdown",
   "metadata": {
    "colab_type": "text",
    "id": "RDI3JJQguI0j"
   },
   "source": [
    "Shows model results in test partition."
   ]
  },
  {
   "cell_type": "code",
   "execution_count": 4,
   "metadata": {
    "colab": {},
    "colab_type": "code",
    "id": "dOT6vukyuI0l"
   },
   "outputs": [],
   "source": [
    "def results(model, x_test, y_test):\n",
    "    score = model.evaluate(x_test, y_test, verbose=0)\n",
    "    print('Test loss: ', score[0])\n",
    "    print('Test accuracy: ', score[1])"
   ]
  },
  {
   "cell_type": "markdown",
   "metadata": {
    "colab_type": "text",
    "id": "ClRxnUR3uI0s"
   },
   "source": [
    "Calculates model accuracy."
   ]
  },
  {
   "cell_type": "code",
   "execution_count": 5,
   "metadata": {
    "colab": {},
    "colab_type": "code",
    "id": "zUUV-rNZuI0t"
   },
   "outputs": [],
   "source": [
    "def calAccuracy(labels, preds):\n",
    "    labels = np.argmax(labels, axis = 1)\n",
    "    preds = np.argmas(preds, axis = 1)\n",
    "    \n",
    "    return sum(labels==preds)/len(labels)"
   ]
  },
  {
   "cell_type": "markdown",
   "metadata": {
    "colab_type": "text",
    "id": "eNSgIJ74uI0y"
   },
   "source": [
    "Draws two graphics.\n",
    "+ Loss function evolution.\n",
    "+ Accuracy function evolution.\n",
    "\n",
    "Args:\n",
    "+ ```hist```: Training records"
   ]
  },
  {
   "cell_type": "code",
   "execution_count": 6,
   "metadata": {
    "colab": {},
    "colab_type": "code",
    "id": "WcGNHonluI00"
   },
   "outputs": [],
   "source": [
    "def showEvolution(hist):\n",
    "    loss = hist.history['loss']\n",
    "    val_loss = hist.history['val_loss']\n",
    "    plt.plot(loss)\n",
    "    plt.plot(val_loss)\n",
    "    plt.legend(['Training loss', 'Validation loss'])\n",
    "    plt.show()\n",
    "    \n",
    "    acc = hist.history['accuracy']\n",
    "    val_acc = hist.history['val_accuracy']\n",
    "    plt.plot(acc)\n",
    "    plt.plot(val_acc)\n",
    "    plt.legend(['Training accuracy', 'Validation accuracy'])\n",
    "    plt.show()"
   ]
  },
  {
   "cell_type": "markdown",
   "metadata": {
    "colab_type": "text",
    "id": "Z1V9J5LKuI07"
   },
   "source": [
    "# Exercise 1"
   ]
  },
  {
   "cell_type": "markdown",
   "metadata": {
    "colab_type": "text",
    "heading_collapsed": true,
    "id": "lZ3shUL8uI08"
   },
   "source": [
    "## Load Data."
   ]
  },
  {
   "cell_type": "code",
   "execution_count": 7,
   "metadata": {
    "colab": {},
    "colab_type": "code",
    "hidden": true,
    "id": "yLYMUmozuI09"
   },
   "outputs": [],
   "source": [
    "def loadCifrarData():\n",
    "    # Load Data\n",
    "    (x_train, y_train), (x_test, y_test) = cifar100.load_data(label_mode='fine')\n",
    "\n",
    "    # Transform to float and normalize\n",
    "    x_train = x_train.astype('float32')\n",
    "    x_test = x_test.astype('float32')\n",
    "    x_train /= 255\n",
    "    x_test /= 255\n",
    "    \n",
    "    # We will use only 25 classes.\n",
    "    train_idx = np.isin(y_train, np.arange(25))\n",
    "    train_idx = np.reshape(train_idx, -1)\n",
    "    x_train = x_train[train_idx]\n",
    "    y_train = y_train[train_idx]\n",
    "    test_idx = np.isin(y_test, np.arange(25))\n",
    "    test_idx = np.reshape(test_idx, -1)\n",
    "    x_test = x_test[test_idx]\n",
    "    y_test = y_test[test_idx]\n",
    "    \n",
    "    # Pass variables to cathegorical\n",
    "    y_train = np_utils.to_categorical(y_train, 25)\n",
    "    y_test = np_utils.to_categorical(y_test, 25)\n",
    "    \n",
    "    return x_train, y_train, x_test, y_test"
   ]
  },
  {
   "cell_type": "markdown",
   "metadata": {
    "colab_type": "text",
    "id": "iOBt6EoTuI1D"
   },
   "source": [
    "## Model Definition"
   ]
  },
  {
   "cell_type": "code",
   "execution_count": 8,
   "metadata": {
    "colab": {},
    "colab_type": "code",
    "id": "sHgIRJ8_uI1F"
   },
   "outputs": [],
   "source": [
    "def baseNetModel():\n",
    "    model = Sequential()\n",
    "    model.name = 'BaseNet Model'\n",
    "    model.add(Conv2D(6, kernel_size=(5, 5),\n",
    "                     activation='relu',\n",
    "                     input_shape=(32,32,3)))\n",
    "    model.add(MaxPooling2D(pool_size=(2, 2)))\n",
    "    model.add(Conv2D(16, kernel_size=(5,5), \n",
    "                    activation='relu'))\n",
    "    model.add(MaxPooling2D(pool_size=(2,2)))\n",
    "    model.add(Flatten())\n",
    "    model.add(Dense(50, activation='relu'))\n",
    "    model.add(Dense(25, activation='softmax'))\n",
    "    \n",
    "    return model"
   ]
  },
  {
   "cell_type": "code",
   "execution_count": 9,
   "metadata": {
    "colab": {},
    "colab_type": "code",
    "id": "t6uh69G0uI1M"
   },
   "outputs": [],
   "source": [
    "def baseNetModel2():\n",
    "    model = Sequential()\n",
    "    model.name = 'BaseNet Model 2'\n",
    "    model.add(Conv2D(32, (3, 3), padding='same', activation = 'relu', input_shape=(32,32,3)))\n",
    "    model.add(Conv2D(32, (3, 3), activation='relu'))\n",
    "    model.add(MaxPooling2D(pool_size=(2, 2)))\n",
    "    model.add(Dropout(0.25))\n",
    "\n",
    "    model.add(Conv2D(64, (3, 3), padding='same', activation='relu'))\n",
    "    model.add(Conv2D(64, (3, 3), activation='relu'))\n",
    "    model.add(MaxPooling2D(pool_size=(2, 2)))\n",
    "    model.add(Dropout(0.25))\n",
    "\n",
    "    model.add(Flatten())\n",
    "    model.add(Dense(512, activation='relu'))\n",
    "    model.add(Dropout(0.5))\n",
    "    model.add(Dense(25, activation='softmax'))\n",
    "\n",
    "    return model"
   ]
  },
  {
   "cell_type": "markdown",
   "metadata": {
    "colab_type": "text",
    "id": "hYpZHlMKuI1P"
   },
   "source": [
    "## Model train and test"
   ]
  },
  {
   "cell_type": "code",
   "execution_count": 10,
   "metadata": {
    "colab": {},
    "colab_type": "code",
    "id": "9buolDHbuI1Q"
   },
   "outputs": [],
   "source": [
    "def ej1(modelFunction, batch_size, epochs):\n",
    "    model = modelFunction()\n",
    "    model.summary()\n",
    "    compile(model,\n",
    "        keras.losses.categorical_crossentropy,\n",
    "        SGD(lr = 0.01, decay = 1e-6, momentum = 0.9, nesterov = True),\n",
    "        ['accuracy'])\n",
    "    data = loadCifrarData()\n",
    "    history = train(model, \n",
    "                    batch_size,\n",
    "                    epochs,\n",
    "                    *data)\n",
    "    print(\"# TEST RESULTS\")\n",
    "    results(model, *data[:2])\n",
    "    showEvolution(history)"
   ]
  },
  {
   "cell_type": "markdown",
   "metadata": {
    "colab_type": "text",
    "id": "Zh19Sc9auI1V"
   },
   "source": [
    "# Main function"
   ]
  },
  {
   "cell_type": "code",
   "execution_count": null,
   "metadata": {
    "colab": {
     "base_uri": "https://localhost:8080/",
     "height": 1000
    },
    "colab_type": "code",
    "id": "yh_Q1CF0uI1X",
    "outputId": "7e43c381-f403-45b6-ca23-c70d07d2afbb"
   },
   "outputs": [
    {
     "name": "stdout",
     "output_type": "stream",
     "text": [
      "Model: \"BaseNet Model\"\n",
      "_________________________________________________________________\n",
      "Layer (type)                 Output Shape              Param #   \n",
      "=================================================================\n",
      "conv2d_1 (Conv2D)            (None, 28, 28, 6)         456       \n",
      "_________________________________________________________________\n",
      "max_pooling2d_1 (MaxPooling2 (None, 14, 14, 6)         0         \n",
      "_________________________________________________________________\n",
      "conv2d_2 (Conv2D)            (None, 10, 10, 16)        2416      \n",
      "_________________________________________________________________\n",
      "max_pooling2d_2 (MaxPooling2 (None, 5, 5, 16)          0         \n",
      "_________________________________________________________________\n",
      "flatten_1 (Flatten)          (None, 400)               0         \n",
      "_________________________________________________________________\n",
      "dense_1 (Dense)              (None, 50)                20050     \n",
      "_________________________________________________________________\n",
      "dense_2 (Dense)              (None, 25)                1275      \n",
      "=================================================================\n",
      "Total params: 24,197\n",
      "Trainable params: 24,197\n",
      "Non-trainable params: 0\n",
      "_________________________________________________________________\n",
      "Train on 12500 samples, validate on 2500 samples\n",
      "Epoch 1/20\n",
      "12500/12500 [==============================] - 7s 555us/step - loss: 3.2008 - accuracy: 0.0634 - val_loss: 3.1407 - val_accuracy: 0.0976\n",
      "Epoch 2/20\n",
      "12500/12500 [==============================] - 4s 295us/step - loss: 2.9584 - accuracy: 0.1410 - val_loss: 2.7752 - val_accuracy: 0.2036\n",
      "Epoch 3/20\n",
      "12500/12500 [==============================] - 4s 291us/step - loss: 2.6646 - accuracy: 0.2250 - val_loss: 2.5690 - val_accuracy: 0.2648\n",
      "Epoch 4/20\n",
      "12500/12500 [==============================] - 4s 336us/step - loss: 2.4948 - accuracy: 0.2750 - val_loss: 2.4113 - val_accuracy: 0.2864\n",
      "Epoch 5/20\n",
      "12500/12500 [==============================] - 5s 385us/step - loss: 2.3646 - accuracy: 0.3070 - val_loss: 2.3373 - val_accuracy: 0.3064\n",
      "Epoch 6/20\n",
      "12500/12500 [==============================] - 4s 350us/step - loss: 2.2756 - accuracy: 0.3338 - val_loss: 2.3256 - val_accuracy: 0.3204\n",
      "Epoch 7/20\n",
      "12500/12500 [==============================] - 4s 349us/step - loss: 2.1933 - accuracy: 0.3581 - val_loss: 2.2113 - val_accuracy: 0.3572\n",
      "Epoch 8/20\n",
      "12500/12500 [==============================] - 5s 414us/step - loss: 2.1204 - accuracy: 0.3703 - val_loss: 2.1666 - val_accuracy: 0.3744\n",
      "Epoch 9/20\n",
      "12500/12500 [==============================] - 7s 529us/step - loss: 2.0648 - accuracy: 0.3875 - val_loss: 2.1610 - val_accuracy: 0.3832\n",
      "Epoch 10/20\n",
      "12500/12500 [==============================] - 5s 385us/step - loss: 2.0202 - accuracy: 0.4024 - val_loss: 2.1214 - val_accuracy: 0.3800\n",
      "Epoch 11/20\n",
      "12500/12500 [==============================] - 4s 339us/step - loss: 1.9692 - accuracy: 0.4190 - val_loss: 2.0878 - val_accuracy: 0.3900\n",
      "Epoch 12/20\n",
      "12500/12500 [==============================] - 8s 661us/step - loss: 1.9315 - accuracy: 0.4280 - val_loss: 2.0935 - val_accuracy: 0.3892\n",
      "Epoch 13/20\n",
      "12500/12500 [==============================] - 5s 429us/step - loss: 1.8913 - accuracy: 0.4334 - val_loss: 2.0465 - val_accuracy: 0.4072\n",
      "Epoch 14/20\n",
      "12500/12500 [==============================] - 7s 520us/step - loss: 1.8664 - accuracy: 0.4471 - val_loss: 2.0669 - val_accuracy: 0.4028\n",
      "Epoch 15/20\n",
      "12500/12500 [==============================] - 8s 673us/step - loss: 1.8251 - accuracy: 0.4583 - val_loss: 1.9783 - val_accuracy: 0.4204\n",
      "Epoch 16/20\n",
      "12500/12500 [==============================] - 6s 468us/step - loss: 1.8029 - accuracy: 0.4580 - val_loss: 1.9799 - val_accuracy: 0.4276\n",
      "Epoch 17/20\n",
      "12500/12500 [==============================] - 7s 565us/step - loss: 1.7787 - accuracy: 0.4652 - val_loss: 1.9756 - val_accuracy: 0.4272\n",
      "Epoch 18/20\n",
      "12500/12500 [==============================] - 4s 349us/step - loss: 1.7462 - accuracy: 0.4750 - val_loss: 2.0099 - val_accuracy: 0.4248\n",
      "Epoch 19/20\n",
      "12500/12500 [==============================] - 4s 357us/step - loss: 1.7208 - accuracy: 0.4796 - val_loss: 2.0462 - val_accuracy: 0.4220\n",
      "Epoch 20/20\n",
      "12500/12500 [==============================] - 10s 825us/step - loss: 1.6905 - accuracy: 0.4912 - val_loss: 1.9878 - val_accuracy: 0.4232\n",
      "# TEST RESULTS\n",
      "Test loss:  1.6529951669692993\n",
      "Test accuracy:  0.5027199983596802\n"
     ]
    },
    {
     "data": {
      "image/png": "[encoded data removed]",
      "text/plain": [
       "<Figure size 432x288 with 1 Axes>"
      ]
     },
     "metadata": {
      "needs_background": "light"
     },
     "output_type": "display_data"
    },
    {
     "data": {
      "image/png": "[encoded data removed]",
      "text/plain": [
       "<Figure size 432x288 with 1 Axes>"
      ]
     },
     "metadata": {
      "needs_background": "light"
     },
     "output_type": "display_data"
    },
    {
     "name": "stdout",
     "output_type": "stream",
     "text": [
      "Model: \"BaseNet Model 2\"\n",
      "_________________________________________________________________\n",
      "Layer (type)                 Output Shape              Param #   \n",
      "=================================================================\n",
      "conv2d_3 (Conv2D)            (None, 32, 32, 32)        896       \n",
      "_________________________________________________________________\n",
      "conv2d_4 (Conv2D)            (None, 30, 30, 32)        9248      \n",
      "_________________________________________________________________\n",
      "max_pooling2d_3 (MaxPooling2 (None, 15, 15, 32)        0         \n",
      "_________________________________________________________________\n",
      "dropout_1 (Dropout)          (None, 15, 15, 32)        0         \n",
      "_________________________________________________________________\n",
      "conv2d_5 (Conv2D)            (None, 15, 15, 64)        18496     \n",
      "_________________________________________________________________\n",
      "conv2d_6 (Conv2D)            (None, 13, 13, 64)        36928     \n",
      "_________________________________________________________________\n",
      "max_pooling2d_4 (MaxPooling2 (None, 6, 6, 64)          0         \n",
      "_________________________________________________________________\n",
      "dropout_2 (Dropout)          (None, 6, 6, 64)          0         \n",
      "_________________________________________________________________\n",
      "flatten_2 (Flatten)          (None, 2304)              0         \n",
      "_________________________________________________________________\n",
      "dense_3 (Dense)              (None, 512)               1180160   \n",
      "_________________________________________________________________\n",
      "dropout_3 (Dropout)          (None, 512)               0         \n",
      "_________________________________________________________________\n",
      "dense_4 (Dense)              (None, 25)                12825     \n",
      "=================================================================\n",
      "Total params: 1,258,553\n",
      "Trainable params: 1,258,553\n",
      "Non-trainable params: 0\n",
      "_________________________________________________________________\n",
      "Train on 12500 samples, validate on 2500 samples\n",
      "Epoch 1/30\n",
      "12500/12500 [==============================] - 47s 4ms/step - loss: 3.1877 - accuracy: 0.0612 - val_loss: 3.0330 - val_accuracy: 0.1224\n",
      "Epoch 2/30\n",
      "12500/12500 [==============================] - 42s 3ms/step - loss: 2.8904 - accuracy: 0.1575 - val_loss: 2.6444 - val_accuracy: 0.2228\n",
      "Epoch 3/30\n",
      "12500/12500 [==============================] - 49s 4ms/step - loss: 2.6802 - accuracy: 0.2146 - val_loss: 2.4924 - val_accuracy: 0.2716\n",
      "Epoch 4/30\n",
      "12500/12500 [==============================] - 36s 3ms/step - loss: 2.5675 - accuracy: 0.2499 - val_loss: 2.3969 - val_accuracy: 0.3164\n",
      "Epoch 5/30\n",
      "12500/12500 [==============================] - 38s 3ms/step - loss: 2.4548 - accuracy: 0.2775 - val_loss: 2.2746 - val_accuracy: 0.3448\n",
      "Epoch 6/30\n",
      "12500/12500 [==============================] - 37s 3ms/step - loss: 2.3361 - accuracy: 0.3146 - val_loss: 2.1374 - val_accuracy: 0.3776\n",
      "Epoch 7/30\n",
      "12500/12500 [==============================] - 41s 3ms/step - loss: 2.2292 - accuracy: 0.3397 - val_loss: 2.0480 - val_accuracy: 0.3948\n",
      "Epoch 8/30\n",
      "12500/12500 [==============================] - 54s 4ms/step - loss: 2.1405 - accuracy: 0.3682 - val_loss: 2.0934 - val_accuracy: 0.3944\n",
      "Epoch 9/30\n",
      "12500/12500 [==============================] - 40s 3ms/step - loss: 2.0416 - accuracy: 0.3955 - val_loss: 1.9168 - val_accuracy: 0.4424\n",
      "Epoch 10/30\n",
      "12500/12500 [==============================] - 37s 3ms/step - loss: 1.9532 - accuracy: 0.4210 - val_loss: 1.8470 - val_accuracy: 0.4612\n",
      "Epoch 11/30\n",
      "12500/12500 [==============================] - 38s 3ms/step - loss: 1.8753 - accuracy: 0.4395 - val_loss: 1.7865 - val_accuracy: 0.4748\n",
      "Epoch 12/30\n",
      "12500/12500 [==============================] - 37s 3ms/step - loss: 1.8111 - accuracy: 0.4591 - val_loss: 1.7464 - val_accuracy: 0.4900\n",
      "Epoch 13/30\n",
      "12500/12500 [==============================] - 36s 3ms/step - loss: 1.7477 - accuracy: 0.4787 - val_loss: 1.7129 - val_accuracy: 0.4892\n",
      "Epoch 14/30\n",
      "12500/12500 [==============================] - 36s 3ms/step - loss: 1.6660 - accuracy: 0.4966 - val_loss: 1.6555 - val_accuracy: 0.5168\n",
      "Epoch 15/30\n",
      "12500/12500 [==============================] - 36s 3ms/step - loss: 1.6155 - accuracy: 0.5114 - val_loss: 1.6156 - val_accuracy: 0.5252\n",
      "Epoch 16/30\n",
      "12500/12500 [==============================] - 37s 3ms/step - loss: 1.5538 - accuracy: 0.5269 - val_loss: 1.5902 - val_accuracy: 0.5316\n",
      "Epoch 17/30\n",
      "12500/12500 [==============================] - 37s 3ms/step - loss: 1.5103 - accuracy: 0.5422 - val_loss: 1.5601 - val_accuracy: 0.5404\n",
      "Epoch 18/30\n",
      "12500/12500 [==============================] - 36s 3ms/step - loss: 1.4529 - accuracy: 0.5629 - val_loss: 1.5507 - val_accuracy: 0.5424\n",
      "Epoch 19/30\n",
      "12500/12500 [==============================] - 36s 3ms/step - loss: 1.3986 - accuracy: 0.5809 - val_loss: 1.5652 - val_accuracy: 0.5400\n",
      "Epoch 20/30\n",
      "12500/12500 [==============================] - 36s 3ms/step - loss: 1.3525 - accuracy: 0.5830 - val_loss: 1.4911 - val_accuracy: 0.5592\n",
      "Epoch 21/30\n",
      "12500/12500 [==============================] - 41s 3ms/step - loss: 1.2914 - accuracy: 0.6006 - val_loss: 1.4901 - val_accuracy: 0.5596\n",
      "Epoch 22/30\n",
      "12500/12500 [==============================] - 46s 4ms/step - loss: 1.2526 - accuracy: 0.6122 - val_loss: 1.4675 - val_accuracy: 0.5688\n",
      "Epoch 23/30\n",
      "12500/12500 [==============================] - 45s 4ms/step - loss: 1.1976 - accuracy: 0.6258 - val_loss: 1.5553 - val_accuracy: 0.5484\n",
      "Epoch 24/30\n",
      "12500/12500 [==============================] - 43s 3ms/step - loss: 1.1546 - accuracy: 0.6406 - val_loss: 1.4594 - val_accuracy: 0.5832\n",
      "Epoch 25/30\n",
      "12500/12500 [==============================] - 36s 3ms/step - loss: 1.1072 - accuracy: 0.6522 - val_loss: 1.4564 - val_accuracy: 0.5888\n",
      "Epoch 26/30\n",
      "12500/12500 [==============================] - 38s 3ms/step - loss: 1.0633 - accuracy: 0.6677 - val_loss: 1.4686 - val_accuracy: 0.5816\n",
      "Epoch 27/30\n",
      "12500/12500 [==============================] - 36s 3ms/step - loss: 1.0234 - accuracy: 0.6758 - val_loss: 1.4815 - val_accuracy: 0.5872\n",
      "Epoch 28/30\n",
      "12500/12500 [==============================] - 37s 3ms/step - loss: 0.9863 - accuracy: 0.6898 - val_loss: 1.4494 - val_accuracy: 0.5896\n",
      "Epoch 29/30\n",
      "12500/12500 [==============================] - 40s 3ms/step - loss: 0.9509 - accuracy: 0.6973 - val_loss: 1.4337 - val_accuracy: 0.5940\n",
      "Epoch 30/30\n",
      " 6016/12500 [=============>................] - ETA: 19s - loss: 0.9003 - accuracy: 0.7069"
     ]
    }
   ],
   "source": [
    "def main():\n",
    "    ej1(baseNetModel, 128, 20)\n",
    "    ej1(baseNetModel2, 128, 30)\n",
    "    \n",
    "main()"
   ]
  }
 ],
 "metadata": {
  "accelerator": "GPU",
  "colab": {
   "name": "Cifar.ipynb",
   "provenance": []
  },
  "kernelspec": {
   "display_name": "py_36_env",
   "language": "python",
   "name": "py_36_env"
  },
  "language_info": {
   "codemirror_mode": {
    "name": "ipython",
    "version": 3
   },
   "file_extension": ".py",
   "mimetype": "text/x-python",
   "name": "python",
   "nbconvert_exporter": "python",
   "pygments_lexer": "ipython3",
   "version": "3.6.9"
  },
  "toc": {
   "base_numbering": 1,
   "nav_menu": {},
   "number_sections": true,
   "sideBar": true,
   "skip_h1_title": false,
   "title_cell": "Table of Contents",
   "title_sidebar": "Contents",
   "toc_cell": false,
   "toc_position": {
    "height": "802px",
    "left": "1210px",
    "top": "113px",
    "width": "316px"
   },
   "toc_section_display": true,
   "toc_window_display": true
  }
 },
 "nbformat": 4,
 "nbformat_minor": 1
}
