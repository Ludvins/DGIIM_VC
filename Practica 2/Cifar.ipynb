{
 "cells": [
  {
   "cell_type": "markdown",
   "metadata": {},
   "source": [
    "## Cargar las librerias necesarias."
   ]
  },
  {
   "cell_type": "code",
   "execution_count": null,
   "metadata": {},
   "outputs": [],
   "source": [
    "# Importar librerías necesarias\n",
    "import numpy as np\n",
    "import keras\n",
    "import matplotlib.pyplot as plt\n",
    "import keras.utils as np_utils\n",
    "# Importar el optimizador a usar\n",
    "from keras.optimizers import SGD\n",
    "# Importtar el conjunto de datos\n",
    "from keras.datasets import cifar100\n",
    "# Importar modelos y capas que se van a usar\n",
    "from keras.models import Sequential\n",
    "from keras.layers import Dense, Dropout, Flatten\n",
    "from keras.layers import Conv2D, MaxPooling2D"
   ]
  },
  {
   "cell_type": "markdown",
   "metadata": {},
   "source": [
    "## Declarar variables "
   ]
  },
  {
   "cell_type": "code",
   "execution_count": 1,
   "metadata": {},
   "outputs": [
    {
     "name": "stderr",
     "output_type": "stream",
     "text": [
      "Using TensorFlow backend.\n"
     ]
    }
   ],
   "source": [
    "# Number of samples processed before the model is updated.\n",
    "batch_size = 128\n",
    "# Ammount of classes\n",
    "num_classes = 25\n",
    "# Number of times that the learning algorithm will work through the entire training dataset.\n",
    "epochs = 50\n",
    "# input image dimensions\n",
    "img_rows, img_cols = 32, 32\n",
    "# input shape\n",
    "input_shape = (img_rows, img_cols, 3)"
   ]
  },
  {
   "cell_type": "markdown",
   "metadata": {},
   "source": [
    "## Cargar y modificar el conjunto de datos."
   ]
  },
  {
   "cell_type": "markdown",
   "metadata": {},
   "source": [
    "Devuelve.\n",
    "+ Las imágenes de entrenamiento.\n",
    "+ Las clases de las imagenes de enternamiento.\n",
    "+ Las imágenes del conjunto de test\n",
    "+ Las clases del conjunto de test.\n"
   ]
  },
  {
   "cell_type": "code",
   "execution_count": 15,
   "metadata": {},
   "outputs": [],
   "source": [
    "def cargarImagenes():\n",
    "    # Carga las imagenes\n",
    "    (x_train, y_train), (x_test, y_test) = cifar100.load_data(label_mode='fine')\n",
    "\n",
    "    # Las transforma a flotantes y normaliza.\n",
    "    x_train = x_train.astype('float32')\n",
    "    x_test = x_test.astype('float32')\n",
    "    x_train /= 255\n",
    "    x_test /= 255\n",
    "    \n",
    "    # Trataremos solo con 25 clases de todas las que tiene el modelo\n",
    "    train_idx = np.isin(y_train, np.arange(25))\n",
    "    train_idx = np.reshape(train_idx, -1)\n",
    "    x_train = x_train[train_idx]\n",
    "    y_train = y_train[train_idx]\n",
    "    test_idx = np.isin(y_test, np.arange(25))\n",
    "    test_idx = np.reshape(test_idx, -1)\n",
    "    x_test = x_test[test_idx]\n",
    "    y_test = y_test[test_idx]\n",
    "    \n",
    "    # Pasamos las variables a categoricas\n",
    "    y_train = np_utils.to_categorical(y_train, 25)\n",
    "    y_test = np_utils.to_categorical(y_test, 25)\n",
    "    \n",
    "    return x_train, y_train, x_test, y_test"
   ]
  },
  {
   "cell_type": "markdown",
   "metadata": {},
   "source": [
    "## Obtener el accuracy en el conjunto de test\n",
    "\n",
    "Esta función devuelve el accuracy de un modelo, definido como el porcentaje de etiquetas bien predichas frente al total de etiquetas. \n",
    "\n",
    "Parámetros:\n",
    "+ Vector de etiquetas verdaderas\n",
    "+ Vector de etiquedas predichas. \n",
    "\n",
    "Ambos en el formato de keras (matrices donde cada etiqueta ocupa una fila, con un 1 en la posición de la clase a la que pertenece y 0 en las demás)."
   ]
  },
  {
   "cell_type": "code",
   "execution_count": 3,
   "metadata": {},
   "outputs": [],
   "source": [
    "def calcularAccuracy(labels, preds):\n",
    "    labels = np.argmax(labels, axis = 1)\n",
    "    preds = np.argmas(preds, axis = 1)\n",
    "    \n",
    "    return sum(labels==preds)/len(labels)"
   ]
  },
  {
   "cell_type": "markdown",
   "metadata": {},
   "source": [
    "## Función pintar la pérdida y el accuracy en train y validación."
   ]
  },
  {
   "cell_type": "markdown",
   "metadata": {},
   "source": [
    "Esta función pinta dos gráficas\n",
    "+ La evolución de la función de pérdida en el conjunto de train y en el de validación.\n",
    "+ La evolución del accuracy en el conjunto de train y el de validación.\n",
    "\n",
    "Parmámetros\n",
    "+ ```hist```: Historial del entrenamiento del modelo"
   ]
  },
  {
   "cell_type": "code",
   "execution_count": 4,
   "metadata": {},
   "outputs": [],
   "source": [
    "def mostrarEvolucion(hist):\n",
    "    loss = hist.history['loss']\n",
    "    val_loss = hist.history['val_loss']\n",
    "    plt.plot(loss)\n",
    "    plt.plot(val_loss)\n",
    "    plt.legend(['Training loss', 'Validation loss'])\n",
    "    plt.show()\n",
    "    \n",
    "    acc = hist.history['accuracy']\n",
    "    val_acc = hist.history['val_accuracy']\n",
    "    plt.plot(acc)\n",
    "    plt.plot(val_acc)\n",
    "    plt.legend(['Training accuracy', 'Validation accuracy'])"
   ]
  },
  {
   "cell_type": "markdown",
   "metadata": {},
   "source": [
    "## Definición del modelo BaseNet"
   ]
  },
  {
   "cell_type": "code",
   "execution_count": null,
   "metadata": {},
   "outputs": [],
   "source": [
    "model = Sequential()\n",
    "model.add(Conv2D(6, kernel_size=(5, 5),\n",
    "                 activation='relu',\n",
    "                 input_shape=input_shape))\n",
    "model.add(MaxPooling2D(pool_size=(2, 2)))\n",
    "model.add(Conv2D(16, kernel_size=(5,5), \n",
    "                activation='relu'))\n",
    "model.add(MaxPooling2D(pool_size=(2,2)))\n",
    "model.add(Flatten())\n",
    "model.add(Dense(50, activation='relu'))\n",
    "model.add(Dense(num_classes, activation='softmax'))"
   ]
  },
  {
   "cell_type": "markdown",
   "metadata": {},
   "source": [
    "Resumen del modelo."
   ]
  },
  {
   "cell_type": "code",
   "execution_count": 16,
   "metadata": {},
   "outputs": [
    {
     "name": "stdout",
     "output_type": "stream",
     "text": [
      "Model: \"sequential_1\"\n",
      "_________________________________________________________________\n",
      "Layer (type)                 Output Shape              Param #   \n",
      "=================================================================\n",
      "conv2d_1 (Conv2D)            (None, 28, 28, 6)         456       \n",
      "_________________________________________________________________\n",
      "max_pooling2d_1 (MaxPooling2 (None, 14, 14, 6)         0         \n",
      "_________________________________________________________________\n",
      "conv2d_2 (Conv2D)            (None, 10, 10, 16)        2416      \n",
      "_________________________________________________________________\n",
      "max_pooling2d_2 (MaxPooling2 (None, 5, 5, 16)          0         \n",
      "_________________________________________________________________\n",
      "flatten_1 (Flatten)          (None, 400)               0         \n",
      "_________________________________________________________________\n",
      "dense_1 (Dense)              (None, 50)                20050     \n",
      "_________________________________________________________________\n",
      "dense_2 (Dense)              (None, 25)                1275      \n",
      "=================================================================\n",
      "Total params: 24,197\n",
      "Trainable params: 24,197\n",
      "Non-trainable params: 0\n",
      "_________________________________________________________________\n"
     ]
    }
   ],
   "source": [
    "model.summary()"
   ]
  },
  {
   "cell_type": "markdown",
   "metadata": {},
   "source": [
    "## Definicion del optimizador y compilacion del modelo"
   ]
  },
  {
   "cell_type": "markdown",
   "metadata": {},
   "source": [
    "Configura el modelo para el entrenamiento. Parámetros:\n",
    "+ ```optimizer:``` Optimizador a utilizar.\n",
    "+ ```loss:``` Función de pérdida.\n",
    "+ ```metrics:``` Métrica a utilizar durante el entrenamiento y las predicciones."
   ]
  },
  {
   "cell_type": "code",
   "execution_count": 6,
   "metadata": {},
   "outputs": [],
   "source": [
    "model.compile(loss = keras.losses.categorical_crossentropy,\n",
    "              optimizer = SGD(lr = 0.01, decay = 1e-6, momentum=0.9, nesterov=True),\n",
    "              metrics = ['accuracy'])"
   ]
  },
  {
   "cell_type": "markdown",
   "metadata": {},
   "source": [
    "Una vez tenemos el modelo base, y antes de entrenar, vamos a guardar los pesos aleatorios con los que empieza la red, para poder reestablecerlos después y comparar resultados entre no usar mejoras y sí usarlas."
   ]
  },
  {
   "cell_type": "code",
   "execution_count": 7,
   "metadata": {},
   "outputs": [],
   "source": [
    "weights = model.get_weights()"
   ]
  },
  {
   "cell_type": "markdown",
   "metadata": {},
   "source": [
    "## Entrenamiento del modelo"
   ]
  },
  {
   "cell_type": "markdown",
   "metadata": {},
   "source": [
    "Trains the model for a fixed number of epochs (iterations on a dataset)."
   ]
  },
  {
   "cell_type": "code",
   "execution_count": 8,
   "metadata": {},
   "outputs": [
    {
     "name": "stdout",
     "output_type": "stream",
     "text": [
      "Train on 12500 samples, validate on 2500 samples\n",
      "Epoch 1/50\n",
      "12500/12500 [==============================] - 5s 364us/step - loss: 3.1758 - accuracy: 0.0700 - val_loss: 3.0427 - val_accuracy: 0.1304\n",
      "Epoch 2/50\n",
      "12500/12500 [==============================] - 4s 332us/step - loss: 2.8649 - accuracy: 0.1774 - val_loss: 2.6771 - val_accuracy: 0.2148\n",
      "Epoch 3/50\n",
      "12500/12500 [==============================] - 5s 372us/step - loss: 2.5254 - accuracy: 0.2662 - val_loss: 2.3962 - val_accuracy: 0.3068\n",
      "Epoch 4/50\n",
      "12500/12500 [==============================] - 5s 377us/step - loss: 2.3305 - accuracy: 0.3233 - val_loss: 2.3288 - val_accuracy: 0.3192\n",
      "Epoch 5/50\n",
      "12500/12500 [==============================] - 4s 313us/step - loss: 2.2028 - accuracy: 0.3571 - val_loss: 2.2361 - val_accuracy: 0.3444\n",
      "Epoch 6/50\n",
      "12500/12500 [==============================] - 3s 268us/step - loss: 2.1037 - accuracy: 0.3838 - val_loss: 2.1891 - val_accuracy: 0.3768\n",
      "Epoch 7/50\n",
      "12500/12500 [==============================] - 4s 286us/step - loss: 2.0223 - accuracy: 0.4063 - val_loss: 2.0790 - val_accuracy: 0.4028\n",
      "Epoch 8/50\n",
      "12500/12500 [==============================] - 4s 324us/step - loss: 1.9551 - accuracy: 0.4257 - val_loss: 2.0149 - val_accuracy: 0.4164\n",
      "Epoch 9/50\n",
      "12500/12500 [==============================] - 4s 329us/step - loss: 1.9049 - accuracy: 0.4396 - val_loss: 2.0087 - val_accuracy: 0.4128\n",
      "Epoch 10/50\n",
      "12500/12500 [==============================] - 4s 301us/step - loss: 1.8486 - accuracy: 0.4522 - val_loss: 2.0306 - val_accuracy: 0.4128\n",
      "Epoch 11/50\n",
      "12500/12500 [==============================] - 4s 294us/step - loss: 1.7991 - accuracy: 0.4695 - val_loss: 1.9900 - val_accuracy: 0.4328\n",
      "Epoch 12/50\n",
      "12500/12500 [==============================] - 4s 296us/step - loss: 1.7596 - accuracy: 0.4774 - val_loss: 1.9583 - val_accuracy: 0.4360\n",
      "Epoch 13/50\n",
      "12500/12500 [==============================] - 6s 459us/step - loss: 1.7222 - accuracy: 0.4865 - val_loss: 1.9709 - val_accuracy: 0.4324\n",
      "Epoch 14/50\n",
      "12500/12500 [==============================] - 6s 505us/step - loss: 1.6837 - accuracy: 0.4939 - val_loss: 2.0293 - val_accuracy: 0.4228\n",
      "Epoch 15/50\n",
      "12500/12500 [==============================] - 5s 434us/step - loss: 1.6552 - accuracy: 0.5019 - val_loss: 1.9698 - val_accuracy: 0.4576\n",
      "Epoch 16/50\n",
      "12500/12500 [==============================] - 3s 276us/step - loss: 1.6199 - accuracy: 0.5138 - val_loss: 2.0391 - val_accuracy: 0.4296\n",
      "Epoch 17/50\n",
      "12500/12500 [==============================] - 3s 276us/step - loss: 1.5804 - accuracy: 0.5250 - val_loss: 1.9244 - val_accuracy: 0.4516\n",
      "Epoch 18/50\n",
      "12500/12500 [==============================] - 3s 274us/step - loss: 1.5593 - accuracy: 0.5294 - val_loss: 2.1007 - val_accuracy: 0.4276\n",
      "Epoch 19/50\n",
      "12500/12500 [==============================] - 4s 331us/step - loss: 1.5377 - accuracy: 0.5370 - val_loss: 2.0059 - val_accuracy: 0.4476\n",
      "Epoch 20/50\n",
      "12500/12500 [==============================] - 4s 351us/step - loss: 1.5045 - accuracy: 0.5477 - val_loss: 2.0152 - val_accuracy: 0.4396\n",
      "Epoch 21/50\n",
      "12500/12500 [==============================] - 4s 332us/step - loss: 1.4708 - accuracy: 0.5552 - val_loss: 1.9602 - val_accuracy: 0.4556\n",
      "Epoch 22/50\n",
      "12500/12500 [==============================] - 5s 378us/step - loss: 1.4483 - accuracy: 0.5634 - val_loss: 1.9873 - val_accuracy: 0.4548\n",
      "Epoch 23/50\n",
      "12500/12500 [==============================] - 5s 396us/step - loss: 1.4257 - accuracy: 0.5687 - val_loss: 2.0433 - val_accuracy: 0.4508\n",
      "Epoch 24/50\n",
      "12500/12500 [==============================] - 5s 439us/step - loss: 1.4008 - accuracy: 0.5765 - val_loss: 1.9926 - val_accuracy: 0.4620\n",
      "Epoch 25/50\n",
      "12500/12500 [==============================] - 3s 279us/step - loss: 1.3765 - accuracy: 0.5776 - val_loss: 1.9749 - val_accuracy: 0.4656\n",
      "Epoch 26/50\n",
      "12500/12500 [==============================] - 4s 292us/step - loss: 1.3560 - accuracy: 0.5863 - val_loss: 1.9764 - val_accuracy: 0.4612\n",
      "Epoch 27/50\n",
      "12500/12500 [==============================] - 4s 327us/step - loss: 1.3324 - accuracy: 0.5953 - val_loss: 2.0597 - val_accuracy: 0.4464\n",
      "Epoch 28/50\n",
      "12500/12500 [==============================] - 4s 333us/step - loss: 1.3150 - accuracy: 0.5993 - val_loss: 2.0162 - val_accuracy: 0.4724\n",
      "Epoch 29/50\n",
      "12500/12500 [==============================] - 4s 336us/step - loss: 1.3016 - accuracy: 0.6051 - val_loss: 2.0639 - val_accuracy: 0.4476\n",
      "Epoch 30/50\n",
      "12500/12500 [==============================] - 5s 392us/step - loss: 1.2755 - accuracy: 0.6107 - val_loss: 2.0855 - val_accuracy: 0.4516\n",
      "Epoch 31/50\n",
      "12500/12500 [==============================] - 4s 320us/step - loss: 1.2547 - accuracy: 0.6109 - val_loss: 2.0694 - val_accuracy: 0.4572\n",
      "Epoch 32/50\n",
      "12500/12500 [==============================] - 4s 343us/step - loss: 1.2395 - accuracy: 0.6178 - val_loss: 2.1264 - val_accuracy: 0.4592\n",
      "Epoch 33/50\n",
      "12500/12500 [==============================] - 4s 337us/step - loss: 1.2157 - accuracy: 0.6304 - val_loss: 2.1450 - val_accuracy: 0.4588\n",
      "Epoch 34/50\n",
      "12500/12500 [==============================] - 4s 326us/step - loss: 1.1988 - accuracy: 0.6290 - val_loss: 2.1193 - val_accuracy: 0.4640\n",
      "Epoch 35/50\n",
      "12500/12500 [==============================] - 4s 345us/step - loss: 1.1793 - accuracy: 0.6374 - val_loss: 2.1596 - val_accuracy: 0.4552\n",
      "Epoch 36/50\n",
      "12500/12500 [==============================] - 4s 340us/step - loss: 1.1625 - accuracy: 0.6390 - val_loss: 2.2078 - val_accuracy: 0.4564\n",
      "Epoch 37/50\n",
      "12500/12500 [==============================] - 4s 317us/step - loss: 1.1477 - accuracy: 0.6448 - val_loss: 2.2631 - val_accuracy: 0.4428\n",
      "Epoch 38/50\n",
      "12500/12500 [==============================] - 4s 334us/step - loss: 1.1278 - accuracy: 0.6495 - val_loss: 2.2471 - val_accuracy: 0.4516\n",
      "Epoch 39/50\n",
      "12500/12500 [==============================] - 4s 321us/step - loss: 1.1264 - accuracy: 0.6553 - val_loss: 2.2186 - val_accuracy: 0.4504\n",
      "Epoch 40/50\n",
      "12500/12500 [==============================] - 4s 319us/step - loss: 1.1037 - accuracy: 0.6538 - val_loss: 2.2745 - val_accuracy: 0.4408\n",
      "Epoch 41/50\n",
      "12500/12500 [==============================] - 4s 329us/step - loss: 1.0757 - accuracy: 0.6679 - val_loss: 2.3378 - val_accuracy: 0.4548\n",
      "Epoch 42/50\n",
      "12500/12500 [==============================] - 4s 321us/step - loss: 1.0653 - accuracy: 0.6700 - val_loss: 2.2976 - val_accuracy: 0.4504\n",
      "Epoch 43/50\n",
      "12500/12500 [==============================] - 4s 343us/step - loss: 1.0518 - accuracy: 0.6726 - val_loss: 2.4227 - val_accuracy: 0.4340\n",
      "Epoch 44/50\n",
      "12500/12500 [==============================] - 4s 335us/step - loss: 1.0308 - accuracy: 0.6794 - val_loss: 2.3832 - val_accuracy: 0.4472\n",
      "Epoch 45/50\n",
      "12500/12500 [==============================] - 4s 321us/step - loss: 1.0186 - accuracy: 0.6795 - val_loss: 2.4209 - val_accuracy: 0.4484\n",
      "Epoch 46/50\n",
      "12500/12500 [==============================] - 4s 335us/step - loss: 1.0122 - accuracy: 0.6820 - val_loss: 2.5197 - val_accuracy: 0.4304\n",
      "Epoch 47/50\n",
      "12500/12500 [==============================] - 4s 311us/step - loss: 0.9889 - accuracy: 0.6936 - val_loss: 2.4637 - val_accuracy: 0.4432\n",
      "Epoch 48/50\n",
      "12500/12500 [==============================] - 4s 313us/step - loss: 0.9922 - accuracy: 0.6890 - val_loss: 2.4833 - val_accuracy: 0.4412\n",
      "Epoch 49/50\n",
      "12500/12500 [==============================] - 4s 318us/step - loss: 0.9745 - accuracy: 0.6939 - val_loss: 2.5092 - val_accuracy: 0.4540\n",
      "Epoch 50/50\n",
      "12500/12500 [==============================] - 5s 427us/step - loss: 0.9686 - accuracy: 0.6916 - val_loss: 2.6108 - val_accuracy: 0.4344\n"
     ]
    }
   ],
   "source": [
    "x_train, y_train, x_test, y_test = cargarImagenes()\n",
    "history = model.fit(x_train, y_train,\n",
    "          batch_size=batch_size,\n",
    "          epochs=epochs,\n",
    "          verbose=1,\n",
    "          validation_data=(x_test, y_test))"
   ]
  },
  {
   "cell_type": "markdown",
   "metadata": {},
   "source": [
    "## Predicciones."
   ]
  },
  {
   "cell_type": "code",
   "execution_count": 9,
   "metadata": {},
   "outputs": [
    {
     "name": "stdout",
     "output_type": "stream",
     "text": [
      "Test loss: 2.61083948097229\n",
      "Test accuracy: 0.4343999922275543\n"
     ]
    },
    {
     "data": {
      "image/png": "[encoded data removed]",
      "text/plain": [
       "<Figure size 432x288 with 1 Axes>"
      ]
     },
     "metadata": {
      "needs_background": "light"
     },
     "output_type": "display_data"
    },
    {
     "data": {
      "image/png": "[encoded data removed]",
      "text/plain": [
       "<Figure size 432x288 with 1 Axes>"
      ]
     },
     "metadata": {
      "needs_background": "light"
     },
     "output_type": "display_data"
    }
   ],
   "source": [
    "score = model.evaluate(x_test, y_test, verbose=0)\n",
    "print('Test loss:', score[0])\n",
    "print('Test accuracy:', score[1])\n",
    "mostrarEvolucion(history)"
   ]
  },
  {
   "cell_type": "markdown",
   "metadata": {},
   "source": [
    "## Mejora del modelo"
   ]
  },
  {
   "cell_type": "markdown",
   "metadata": {},
   "source": [
    "Tanto la normalización de los datos como el data augmentation debe hacerse con la clase ImageDataGenerator.\n",
    "Se recomienda ir entrenando con cada paso para comprobar en qué grado mejora cada uno de ellos."
   ]
  },
  {
   "cell_type": "code",
   "execution_count": null,
   "metadata": {},
   "outputs": [],
   "source": []
  }
 ],
 "metadata": {
  "kernelspec": {
   "display_name": "py_36_env",
   "language": "python",
   "name": "py_36_env"
  },
  "language_info": {
   "codemirror_mode": {
    "name": "ipython",
    "version": 3
   },
   "file_extension": ".py",
   "mimetype": "text/x-python",
   "name": "python",
   "nbconvert_exporter": "python",
   "pygments_lexer": "ipython3",
   "version": "3.6.9"
  },
  "toc": {
   "base_numbering": 1,
   "nav_menu": {},
   "number_sections": true,
   "sideBar": true,
   "skip_h1_title": false,
   "title_cell": "Table of Contents",
   "title_sidebar": "Contents",
   "toc_cell": false,
   "toc_position": {
    "height": "802px",
    "left": "1210px",
    "top": "113px",
    "width": "165px"
   },
   "toc_section_display": true,
   "toc_window_display": true
  }
 },
 "nbformat": 4,
 "nbformat_minor": 2
}
